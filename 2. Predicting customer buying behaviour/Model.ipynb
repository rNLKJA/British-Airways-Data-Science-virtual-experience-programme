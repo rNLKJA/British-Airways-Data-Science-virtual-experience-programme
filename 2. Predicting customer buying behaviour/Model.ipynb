{
 "cells": [
  {
   "cell_type": "markdown",
   "id": "648266a0-f1e9-43d5-a632-34224ba41b77",
   "metadata": {},
   "source": [
    "# Predicting customer buying behaviour\n",
    "\n",
    "Customers are more empowered than ever because they have access to a wealth of information at their fingertips. This is one of the reasons the buying cycle is very different to what it used to be. Today, if you’re hoping that a customer purchases your flights or holidays as they come into the airport, you’ve already lost! Being reactive in this situation is not ideal; airlines must be proactive in order to acquire customers before they embark on their holiday.\n",
    "\n",
    "This is possible with the use of data and predictive models. The most important factor with a predictive model is the quality of the data you use to train the machine learning algorithms. For this task, you must manipulate and prepare the provided customer booking data so that you can build a high-quality predictive model.\n",
    "\n",
    "With your predictive model, it is important to interpret the results in order to understand how “predictive” the data really was and whether we can feasibly use it to predict the target outcome (customers buying holidays). Therefore, you should evaluate the model's performance and output how each variable contributes to the predictive model's power.\n",
    "\n",
    "## Tasks\n",
    "\n",
    "Explore and prepare the dataset\n",
    "First, spend some time exploring the dataset in the “Getting Started” Jupyter Notebook provided in the Resources section below to understand the different columns and some basic statistics of the dataset. Then, you should consider how to prepare the dataset for a predictive model. You should think about any new features you want to create in order to make your model even better. You can make use of the Resources provided to get you started with this task. \n",
    "\n",
    "Train a machine learning model\n",
    "When your data is ready for modelling, you should train a machine learning model to be able to predict the target outcome, which is a customer making a booking. For this task, you should use an algorithm that easily allows you to output information about how each variable within the model contributes to its predictive power. For example, a RandomForest is very good for this purpose.\n",
    "\n",
    "Evaluate model and present findings\n",
    "After training your model, you should evaluate how well it performed by conducting cross-validation and outputting appropriate evaluation metrics. Furthermore, you should create a visualisation to interpret how each variable contributed to the model. Finally, you should summarise your findings in a single slide to be sent to your manager. Use the “PowerPoint Template” provided in the Resources section below to create your summary and make use of the links provided to help with this task."
   ]
  },
  {
   "cell_type": "code",
   "execution_count": 8,
   "id": "45a0a66e-a74a-4ab4-bd06-7ef60d73df37",
   "metadata": {
    "execution": {
     "iopub.execute_input": "2022-11-22T05:40:20.443752Z",
     "iopub.status.busy": "2022-11-22T05:40:20.442750Z",
     "iopub.status.idle": "2022-11-22T05:40:20.588749Z",
     "shell.execute_reply": "2022-11-22T05:40:20.588749Z",
     "shell.execute_reply.started": "2022-11-22T05:40:20.443752Z"
    },
    "tags": []
   },
   "outputs": [],
   "source": [
    "import pandas as pd\n",
    "import numpy as np\n",
    "import urllib.request\n",
    "import plotly.express as px"
   ]
  },
  {
   "cell_type": "code",
   "execution_count": 5,
   "id": "7727ed1b-ef85-4c74-9ba3-a0f428bf11ab",
   "metadata": {
    "execution": {
     "iopub.execute_input": "2022-11-22T05:31:16.532971Z",
     "iopub.status.busy": "2022-11-22T05:31:16.532971Z",
     "iopub.status.idle": "2022-11-22T05:31:19.061575Z",
     "shell.execute_reply": "2022-11-22T05:31:19.060576Z",
     "shell.execute_reply.started": "2022-11-22T05:31:16.532971Z"
    },
    "tags": []
   },
   "outputs": [
    {
     "data": {
      "text/plain": [
       "('../data/customer_booking.csv', <http.client.HTTPMessage at 0x2af738719f0>)"
      ]
     },
     "execution_count": 5,
     "metadata": {},
     "output_type": "execute_result"
    }
   ],
   "source": [
    "# retrieve data\n",
    "urllib.request.urlretrieve(url=\"https://cdn.theforage.com/vinternships/companyassets/tMjbs76F526fF5v3G/L3MQ8f6cYSkfoukmz/1667814300249/customer_booking.csv\",\n",
    "                           filename='../data/customer_booking.csv')"
   ]
  },
  {
   "cell_type": "code",
   "execution_count": 19,
   "id": "7f3cdce1-a8ff-42b0-ae19-98a53d2629b9",
   "metadata": {
    "execution": {
     "iopub.execute_input": "2022-11-22T05:44:52.991003Z",
     "iopub.status.busy": "2022-11-22T05:44:52.991003Z",
     "iopub.status.idle": "2022-11-22T05:44:53.050000Z",
     "shell.execute_reply": "2022-11-22T05:44:53.050000Z",
     "shell.execute_reply.started": "2022-11-22T05:44:52.991003Z"
    },
    "tags": []
   },
   "outputs": [
    {
     "data": {
      "text/html": [
       "<div>\n",
       "<style scoped>\n",
       "    .dataframe tbody tr th:only-of-type {\n",
       "        vertical-align: middle;\n",
       "    }\n",
       "\n",
       "    .dataframe tbody tr th {\n",
       "        vertical-align: top;\n",
       "    }\n",
       "\n",
       "    .dataframe thead th {\n",
       "        text-align: right;\n",
       "    }\n",
       "</style>\n",
       "<table border=\"1\" class=\"dataframe\">\n",
       "  <thead>\n",
       "    <tr style=\"text-align: right;\">\n",
       "      <th></th>\n",
       "      <th>num_passengers</th>\n",
       "      <th>sales_channel</th>\n",
       "      <th>trip_type</th>\n",
       "      <th>purchase_lead</th>\n",
       "      <th>length_of_stay</th>\n",
       "      <th>flight_hour</th>\n",
       "      <th>flight_day</th>\n",
       "      <th>route</th>\n",
       "      <th>booking_origin</th>\n",
       "      <th>wants_extra_baggage</th>\n",
       "      <th>wants_preferred_seat</th>\n",
       "      <th>wants_in_flight_meals</th>\n",
       "      <th>flight_duration</th>\n",
       "      <th>booking_complete</th>\n",
       "    </tr>\n",
       "  </thead>\n",
       "  <tbody>\n",
       "    <tr>\n",
       "      <th>0</th>\n",
       "      <td>2</td>\n",
       "      <td>Internet</td>\n",
       "      <td>RoundTrip</td>\n",
       "      <td>262</td>\n",
       "      <td>19</td>\n",
       "      <td>7</td>\n",
       "      <td>Sat</td>\n",
       "      <td>AKLDEL</td>\n",
       "      <td>New Zealand</td>\n",
       "      <td>1</td>\n",
       "      <td>0</td>\n",
       "      <td>0</td>\n",
       "      <td>5.52</td>\n",
       "      <td>0</td>\n",
       "    </tr>\n",
       "    <tr>\n",
       "      <th>1</th>\n",
       "      <td>1</td>\n",
       "      <td>Internet</td>\n",
       "      <td>RoundTrip</td>\n",
       "      <td>112</td>\n",
       "      <td>20</td>\n",
       "      <td>3</td>\n",
       "      <td>Sat</td>\n",
       "      <td>AKLDEL</td>\n",
       "      <td>New Zealand</td>\n",
       "      <td>0</td>\n",
       "      <td>0</td>\n",
       "      <td>0</td>\n",
       "      <td>5.52</td>\n",
       "      <td>0</td>\n",
       "    </tr>\n",
       "    <tr>\n",
       "      <th>2</th>\n",
       "      <td>2</td>\n",
       "      <td>Internet</td>\n",
       "      <td>RoundTrip</td>\n",
       "      <td>243</td>\n",
       "      <td>22</td>\n",
       "      <td>17</td>\n",
       "      <td>Wed</td>\n",
       "      <td>AKLDEL</td>\n",
       "      <td>India</td>\n",
       "      <td>1</td>\n",
       "      <td>1</td>\n",
       "      <td>0</td>\n",
       "      <td>5.52</td>\n",
       "      <td>0</td>\n",
       "    </tr>\n",
       "    <tr>\n",
       "      <th>3</th>\n",
       "      <td>1</td>\n",
       "      <td>Internet</td>\n",
       "      <td>RoundTrip</td>\n",
       "      <td>96</td>\n",
       "      <td>31</td>\n",
       "      <td>4</td>\n",
       "      <td>Sat</td>\n",
       "      <td>AKLDEL</td>\n",
       "      <td>New Zealand</td>\n",
       "      <td>0</td>\n",
       "      <td>0</td>\n",
       "      <td>1</td>\n",
       "      <td>5.52</td>\n",
       "      <td>0</td>\n",
       "    </tr>\n",
       "    <tr>\n",
       "      <th>4</th>\n",
       "      <td>2</td>\n",
       "      <td>Internet</td>\n",
       "      <td>RoundTrip</td>\n",
       "      <td>68</td>\n",
       "      <td>22</td>\n",
       "      <td>15</td>\n",
       "      <td>Wed</td>\n",
       "      <td>AKLDEL</td>\n",
       "      <td>India</td>\n",
       "      <td>1</td>\n",
       "      <td>0</td>\n",
       "      <td>1</td>\n",
       "      <td>5.52</td>\n",
       "      <td>0</td>\n",
       "    </tr>\n",
       "    <tr>\n",
       "      <th>...</th>\n",
       "      <td>...</td>\n",
       "      <td>...</td>\n",
       "      <td>...</td>\n",
       "      <td>...</td>\n",
       "      <td>...</td>\n",
       "      <td>...</td>\n",
       "      <td>...</td>\n",
       "      <td>...</td>\n",
       "      <td>...</td>\n",
       "      <td>...</td>\n",
       "      <td>...</td>\n",
       "      <td>...</td>\n",
       "      <td>...</td>\n",
       "      <td>...</td>\n",
       "    </tr>\n",
       "    <tr>\n",
       "      <th>49995</th>\n",
       "      <td>2</td>\n",
       "      <td>Internet</td>\n",
       "      <td>RoundTrip</td>\n",
       "      <td>27</td>\n",
       "      <td>6</td>\n",
       "      <td>9</td>\n",
       "      <td>Sat</td>\n",
       "      <td>PERPNH</td>\n",
       "      <td>Australia</td>\n",
       "      <td>1</td>\n",
       "      <td>0</td>\n",
       "      <td>1</td>\n",
       "      <td>5.62</td>\n",
       "      <td>0</td>\n",
       "    </tr>\n",
       "    <tr>\n",
       "      <th>49996</th>\n",
       "      <td>1</td>\n",
       "      <td>Internet</td>\n",
       "      <td>RoundTrip</td>\n",
       "      <td>111</td>\n",
       "      <td>6</td>\n",
       "      <td>4</td>\n",
       "      <td>Sun</td>\n",
       "      <td>PERPNH</td>\n",
       "      <td>Australia</td>\n",
       "      <td>0</td>\n",
       "      <td>0</td>\n",
       "      <td>0</td>\n",
       "      <td>5.62</td>\n",
       "      <td>0</td>\n",
       "    </tr>\n",
       "    <tr>\n",
       "      <th>49997</th>\n",
       "      <td>1</td>\n",
       "      <td>Internet</td>\n",
       "      <td>RoundTrip</td>\n",
       "      <td>24</td>\n",
       "      <td>6</td>\n",
       "      <td>22</td>\n",
       "      <td>Sat</td>\n",
       "      <td>PERPNH</td>\n",
       "      <td>Australia</td>\n",
       "      <td>0</td>\n",
       "      <td>0</td>\n",
       "      <td>1</td>\n",
       "      <td>5.62</td>\n",
       "      <td>0</td>\n",
       "    </tr>\n",
       "    <tr>\n",
       "      <th>49998</th>\n",
       "      <td>1</td>\n",
       "      <td>Internet</td>\n",
       "      <td>RoundTrip</td>\n",
       "      <td>15</td>\n",
       "      <td>6</td>\n",
       "      <td>11</td>\n",
       "      <td>Mon</td>\n",
       "      <td>PERPNH</td>\n",
       "      <td>Australia</td>\n",
       "      <td>1</td>\n",
       "      <td>0</td>\n",
       "      <td>1</td>\n",
       "      <td>5.62</td>\n",
       "      <td>0</td>\n",
       "    </tr>\n",
       "    <tr>\n",
       "      <th>49999</th>\n",
       "      <td>1</td>\n",
       "      <td>Internet</td>\n",
       "      <td>RoundTrip</td>\n",
       "      <td>19</td>\n",
       "      <td>6</td>\n",
       "      <td>10</td>\n",
       "      <td>Thu</td>\n",
       "      <td>PERPNH</td>\n",
       "      <td>Australia</td>\n",
       "      <td>0</td>\n",
       "      <td>1</td>\n",
       "      <td>0</td>\n",
       "      <td>5.62</td>\n",
       "      <td>0</td>\n",
       "    </tr>\n",
       "  </tbody>\n",
       "</table>\n",
       "<p>50000 rows × 14 columns</p>\n",
       "</div>"
      ],
      "text/plain": [
       "       num_passengers sales_channel  trip_type  purchase_lead  length_of_stay  \\\n",
       "0                   2      Internet  RoundTrip            262              19   \n",
       "1                   1      Internet  RoundTrip            112              20   \n",
       "2                   2      Internet  RoundTrip            243              22   \n",
       "3                   1      Internet  RoundTrip             96              31   \n",
       "4                   2      Internet  RoundTrip             68              22   \n",
       "...               ...           ...        ...            ...             ...   \n",
       "49995               2      Internet  RoundTrip             27               6   \n",
       "49996               1      Internet  RoundTrip            111               6   \n",
       "49997               1      Internet  RoundTrip             24               6   \n",
       "49998               1      Internet  RoundTrip             15               6   \n",
       "49999               1      Internet  RoundTrip             19               6   \n",
       "\n",
       "       flight_hour flight_day   route booking_origin  wants_extra_baggage  \\\n",
       "0                7        Sat  AKLDEL    New Zealand                    1   \n",
       "1                3        Sat  AKLDEL    New Zealand                    0   \n",
       "2               17        Wed  AKLDEL          India                    1   \n",
       "3                4        Sat  AKLDEL    New Zealand                    0   \n",
       "4               15        Wed  AKLDEL          India                    1   \n",
       "...            ...        ...     ...            ...                  ...   \n",
       "49995            9        Sat  PERPNH      Australia                    1   \n",
       "49996            4        Sun  PERPNH      Australia                    0   \n",
       "49997           22        Sat  PERPNH      Australia                    0   \n",
       "49998           11        Mon  PERPNH      Australia                    1   \n",
       "49999           10        Thu  PERPNH      Australia                    0   \n",
       "\n",
       "       wants_preferred_seat  wants_in_flight_meals  flight_duration  \\\n",
       "0                         0                      0             5.52   \n",
       "1                         0                      0             5.52   \n",
       "2                         1                      0             5.52   \n",
       "3                         0                      1             5.52   \n",
       "4                         0                      1             5.52   \n",
       "...                     ...                    ...              ...   \n",
       "49995                     0                      1             5.62   \n",
       "49996                     0                      0             5.62   \n",
       "49997                     0                      1             5.62   \n",
       "49998                     0                      1             5.62   \n",
       "49999                     1                      0             5.62   \n",
       "\n",
       "       booking_complete  \n",
       "0                     0  \n",
       "1                     0  \n",
       "2                     0  \n",
       "3                     0  \n",
       "4                     0  \n",
       "...                 ...  \n",
       "49995                 0  \n",
       "49996                 0  \n",
       "49997                 0  \n",
       "49998                 0  \n",
       "49999                 0  \n",
       "\n",
       "[50000 rows x 14 columns]"
      ]
     },
     "execution_count": 19,
     "metadata": {},
     "output_type": "execute_result"
    }
   ],
   "source": [
    "df = pd.read_csv('../data/customer_booking.csv', encoding='ISO-8859-1')\n",
    "df"
   ]
  },
  {
   "cell_type": "code",
   "execution_count": 20,
   "id": "2b4bd342-e9ea-47d3-b87d-74852f478634",
   "metadata": {
    "execution": {
     "iopub.execute_input": "2022-11-22T05:44:53.760222Z",
     "iopub.status.busy": "2022-11-22T05:44:53.760222Z",
     "iopub.status.idle": "2022-11-22T05:44:53.775222Z",
     "shell.execute_reply": "2022-11-22T05:44:53.775222Z",
     "shell.execute_reply.started": "2022-11-22T05:44:53.760222Z"
    },
    "tags": []
   },
   "outputs": [
    {
     "data": {
      "text/html": [
       "<div>\n",
       "<style scoped>\n",
       "    .dataframe tbody tr th:only-of-type {\n",
       "        vertical-align: middle;\n",
       "    }\n",
       "\n",
       "    .dataframe tbody tr th {\n",
       "        vertical-align: top;\n",
       "    }\n",
       "\n",
       "    .dataframe thead th {\n",
       "        text-align: right;\n",
       "    }\n",
       "</style>\n",
       "<table border=\"1\" class=\"dataframe\">\n",
       "  <thead>\n",
       "    <tr style=\"text-align: right;\">\n",
       "      <th></th>\n",
       "      <th>index</th>\n",
       "    </tr>\n",
       "    <tr>\n",
       "      <th>flight_day</th>\n",
       "      <th></th>\n",
       "    </tr>\n",
       "  </thead>\n",
       "  <tbody>\n",
       "    <tr>\n",
       "      <th>Fri</th>\n",
       "      <td>6761</td>\n",
       "    </tr>\n",
       "    <tr>\n",
       "      <th>Mon</th>\n",
       "      <td>8102</td>\n",
       "    </tr>\n",
       "    <tr>\n",
       "      <th>Sat</th>\n",
       "      <td>5812</td>\n",
       "    </tr>\n",
       "    <tr>\n",
       "      <th>Sun</th>\n",
       "      <td>6554</td>\n",
       "    </tr>\n",
       "    <tr>\n",
       "      <th>Thu</th>\n",
       "      <td>7424</td>\n",
       "    </tr>\n",
       "    <tr>\n",
       "      <th>Tue</th>\n",
       "      <td>7673</td>\n",
       "    </tr>\n",
       "    <tr>\n",
       "      <th>Wed</th>\n",
       "      <td>7674</td>\n",
       "    </tr>\n",
       "  </tbody>\n",
       "</table>\n",
       "</div>"
      ],
      "text/plain": [
       "            index\n",
       "flight_day       \n",
       "Fri          6761\n",
       "Mon          8102\n",
       "Sat          5812\n",
       "Sun          6554\n",
       "Thu          7424\n",
       "Tue          7673\n",
       "Wed          7674"
      ]
     },
     "execution_count": 20,
     "metadata": {},
     "output_type": "execute_result"
    }
   ],
   "source": [
    "df[['flight_day']].reset_index().groupby('flight_day').count()"
   ]
  },
  {
   "cell_type": "code",
   "execution_count": 21,
   "id": "2e546f19-88eb-4b7e-9f74-7d6670a3c7c6",
   "metadata": {
    "execution": {
     "iopub.execute_input": "2022-11-22T05:44:54.899981Z",
     "iopub.status.busy": "2022-11-22T05:44:54.899981Z",
     "iopub.status.idle": "2022-11-22T05:44:54.946974Z",
     "shell.execute_reply": "2022-11-22T05:44:54.946974Z",
     "shell.execute_reply.started": "2022-11-22T05:44:54.899981Z"
    },
    "tags": []
   },
   "outputs": [
    {
     "data": {
      "application/vnd.plotly.v1+json": {
       "config": {
        "plotlyServerURL": "https://plot.ly"
       },
       "data": [
        {
         "domain": {
          "x": [
           0,
           1
          ],
          "y": [
           0,
           1
          ]
         },
         "hole": 0.5,
         "hovertemplate": "index=%{label}<br>sales_channel=%{value}<extra></extra>",
         "labels": [
          "Internet",
          "Mobile"
         ],
         "legendgroup": "",
         "name": "",
         "showlegend": true,
         "type": "pie",
         "values": [
          44382,
          5618
         ]
        }
       ],
       "layout": {
        "autosize": true,
        "legend": {
         "tracegroupgap": 0
        },
        "margin": {
         "t": 60
        },
        "template": {
         "data": {
          "bar": [
           {
            "error_x": {
             "color": "#2a3f5f"
            },
            "error_y": {
             "color": "#2a3f5f"
            },
            "marker": {
             "line": {
              "color": "#E5ECF6",
              "width": 0.5
             },
             "pattern": {
              "fillmode": "overlay",
              "size": 10,
              "solidity": 0.2
             }
            },
            "type": "bar"
           }
          ],
          "barpolar": [
           {
            "marker": {
             "line": {
              "color": "#E5ECF6",
              "width": 0.5
             },
             "pattern": {
              "fillmode": "overlay",
              "size": 10,
              "solidity": 0.2
             }
            },
            "type": "barpolar"
           }
          ],
          "carpet": [
           {
            "aaxis": {
             "endlinecolor": "#2a3f5f",
             "gridcolor": "white",
             "linecolor": "white",
             "minorgridcolor": "white",
             "startlinecolor": "#2a3f5f"
            },
            "baxis": {
             "endlinecolor": "#2a3f5f",
             "gridcolor": "white",
             "linecolor": "white",
             "minorgridcolor": "white",
             "startlinecolor": "#2a3f5f"
            },
            "type": "carpet"
           }
          ],
          "choropleth": [
           {
            "colorbar": {
             "outlinewidth": 0,
             "ticks": ""
            },
            "type": "choropleth"
           }
          ],
          "contour": [
           {
            "colorbar": {
             "outlinewidth": 0,
             "ticks": ""
            },
            "colorscale": [
             [
              0,
              "#0d0887"
             ],
             [
              0.1111111111111111,
              "#46039f"
             ],
             [
              0.2222222222222222,
              "#7201a8"
             ],
             [
              0.3333333333333333,
              "#9c179e"
             ],
             [
              0.4444444444444444,
              "#bd3786"
             ],
             [
              0.5555555555555556,
              "#d8576b"
             ],
             [
              0.6666666666666666,
              "#ed7953"
             ],
             [
              0.7777777777777778,
              "#fb9f3a"
             ],
             [
              0.8888888888888888,
              "#fdca26"
             ],
             [
              1,
              "#f0f921"
             ]
            ],
            "type": "contour"
           }
          ],
          "contourcarpet": [
           {
            "colorbar": {
             "outlinewidth": 0,
             "ticks": ""
            },
            "type": "contourcarpet"
           }
          ],
          "heatmap": [
           {
            "colorbar": {
             "outlinewidth": 0,
             "ticks": ""
            },
            "colorscale": [
             [
              0,
              "#0d0887"
             ],
             [
              0.1111111111111111,
              "#46039f"
             ],
             [
              0.2222222222222222,
              "#7201a8"
             ],
             [
              0.3333333333333333,
              "#9c179e"
             ],
             [
              0.4444444444444444,
              "#bd3786"
             ],
             [
              0.5555555555555556,
              "#d8576b"
             ],
             [
              0.6666666666666666,
              "#ed7953"
             ],
             [
              0.7777777777777778,
              "#fb9f3a"
             ],
             [
              0.8888888888888888,
              "#fdca26"
             ],
             [
              1,
              "#f0f921"
             ]
            ],
            "type": "heatmap"
           }
          ],
          "heatmapgl": [
           {
            "colorbar": {
             "outlinewidth": 0,
             "ticks": ""
            },
            "colorscale": [
             [
              0,
              "#0d0887"
             ],
             [
              0.1111111111111111,
              "#46039f"
             ],
             [
              0.2222222222222222,
              "#7201a8"
             ],
             [
              0.3333333333333333,
              "#9c179e"
             ],
             [
              0.4444444444444444,
              "#bd3786"
             ],
             [
              0.5555555555555556,
              "#d8576b"
             ],
             [
              0.6666666666666666,
              "#ed7953"
             ],
             [
              0.7777777777777778,
              "#fb9f3a"
             ],
             [
              0.8888888888888888,
              "#fdca26"
             ],
             [
              1,
              "#f0f921"
             ]
            ],
            "type": "heatmapgl"
           }
          ],
          "histogram": [
           {
            "marker": {
             "pattern": {
              "fillmode": "overlay",
              "size": 10,
              "solidity": 0.2
             }
            },
            "type": "histogram"
           }
          ],
          "histogram2d": [
           {
            "colorbar": {
             "outlinewidth": 0,
             "ticks": ""
            },
            "colorscale": [
             [
              0,
              "#0d0887"
             ],
             [
              0.1111111111111111,
              "#46039f"
             ],
             [
              0.2222222222222222,
              "#7201a8"
             ],
             [
              0.3333333333333333,
              "#9c179e"
             ],
             [
              0.4444444444444444,
              "#bd3786"
             ],
             [
              0.5555555555555556,
              "#d8576b"
             ],
             [
              0.6666666666666666,
              "#ed7953"
             ],
             [
              0.7777777777777778,
              "#fb9f3a"
             ],
             [
              0.8888888888888888,
              "#fdca26"
             ],
             [
              1,
              "#f0f921"
             ]
            ],
            "type": "histogram2d"
           }
          ],
          "histogram2dcontour": [
           {
            "colorbar": {
             "outlinewidth": 0,
             "ticks": ""
            },
            "colorscale": [
             [
              0,
              "#0d0887"
             ],
             [
              0.1111111111111111,
              "#46039f"
             ],
             [
              0.2222222222222222,
              "#7201a8"
             ],
             [
              0.3333333333333333,
              "#9c179e"
             ],
             [
              0.4444444444444444,
              "#bd3786"
             ],
             [
              0.5555555555555556,
              "#d8576b"
             ],
             [
              0.6666666666666666,
              "#ed7953"
             ],
             [
              0.7777777777777778,
              "#fb9f3a"
             ],
             [
              0.8888888888888888,
              "#fdca26"
             ],
             [
              1,
              "#f0f921"
             ]
            ],
            "type": "histogram2dcontour"
           }
          ],
          "mesh3d": [
           {
            "colorbar": {
             "outlinewidth": 0,
             "ticks": ""
            },
            "type": "mesh3d"
           }
          ],
          "parcoords": [
           {
            "line": {
             "colorbar": {
              "outlinewidth": 0,
              "ticks": ""
             }
            },
            "type": "parcoords"
           }
          ],
          "pie": [
           {
            "automargin": true,
            "type": "pie"
           }
          ],
          "scatter": [
           {
            "fillpattern": {
             "fillmode": "overlay",
             "size": 10,
             "solidity": 0.2
            },
            "type": "scatter"
           }
          ],
          "scatter3d": [
           {
            "line": {
             "colorbar": {
              "outlinewidth": 0,
              "ticks": ""
             }
            },
            "marker": {
             "colorbar": {
              "outlinewidth": 0,
              "ticks": ""
             }
            },
            "type": "scatter3d"
           }
          ],
          "scattercarpet": [
           {
            "marker": {
             "colorbar": {
              "outlinewidth": 0,
              "ticks": ""
             }
            },
            "type": "scattercarpet"
           }
          ],
          "scattergeo": [
           {
            "marker": {
             "colorbar": {
              "outlinewidth": 0,
              "ticks": ""
             }
            },
            "type": "scattergeo"
           }
          ],
          "scattergl": [
           {
            "marker": {
             "colorbar": {
              "outlinewidth": 0,
              "ticks": ""
             }
            },
            "type": "scattergl"
           }
          ],
          "scattermapbox": [
           {
            "marker": {
             "colorbar": {
              "outlinewidth": 0,
              "ticks": ""
             }
            },
            "type": "scattermapbox"
           }
          ],
          "scatterpolar": [
           {
            "marker": {
             "colorbar": {
              "outlinewidth": 0,
              "ticks": ""
             }
            },
            "type": "scatterpolar"
           }
          ],
          "scatterpolargl": [
           {
            "marker": {
             "colorbar": {
              "outlinewidth": 0,
              "ticks": ""
             }
            },
            "type": "scatterpolargl"
           }
          ],
          "scatterternary": [
           {
            "marker": {
             "colorbar": {
              "outlinewidth": 0,
              "ticks": ""
             }
            },
            "type": "scatterternary"
           }
          ],
          "surface": [
           {
            "colorbar": {
             "outlinewidth": 0,
             "ticks": ""
            },
            "colorscale": [
             [
              0,
              "#0d0887"
             ],
             [
              0.1111111111111111,
              "#46039f"
             ],
             [
              0.2222222222222222,
              "#7201a8"
             ],
             [
              0.3333333333333333,
              "#9c179e"
             ],
             [
              0.4444444444444444,
              "#bd3786"
             ],
             [
              0.5555555555555556,
              "#d8576b"
             ],
             [
              0.6666666666666666,
              "#ed7953"
             ],
             [
              0.7777777777777778,
              "#fb9f3a"
             ],
             [
              0.8888888888888888,
              "#fdca26"
             ],
             [
              1,
              "#f0f921"
             ]
            ],
            "type": "surface"
           }
          ],
          "table": [
           {
            "cells": {
             "fill": {
              "color": "#EBF0F8"
             },
             "line": {
              "color": "white"
             }
            },
            "header": {
             "fill": {
              "color": "#C8D4E3"
             },
             "line": {
              "color": "white"
             }
            },
            "type": "table"
           }
          ]
         },
         "layout": {
          "annotationdefaults": {
           "arrowcolor": "#2a3f5f",
           "arrowhead": 0,
           "arrowwidth": 1
          },
          "autotypenumbers": "strict",
          "coloraxis": {
           "colorbar": {
            "outlinewidth": 0,
            "ticks": ""
           }
          },
          "colorscale": {
           "diverging": [
            [
             0,
             "#8e0152"
            ],
            [
             0.1,
             "#c51b7d"
            ],
            [
             0.2,
             "#de77ae"
            ],
            [
             0.3,
             "#f1b6da"
            ],
            [
             0.4,
             "#fde0ef"
            ],
            [
             0.5,
             "#f7f7f7"
            ],
            [
             0.6,
             "#e6f5d0"
            ],
            [
             0.7,
             "#b8e186"
            ],
            [
             0.8,
             "#7fbc41"
            ],
            [
             0.9,
             "#4d9221"
            ],
            [
             1,
             "#276419"
            ]
           ],
           "sequential": [
            [
             0,
             "#0d0887"
            ],
            [
             0.1111111111111111,
             "#46039f"
            ],
            [
             0.2222222222222222,
             "#7201a8"
            ],
            [
             0.3333333333333333,
             "#9c179e"
            ],
            [
             0.4444444444444444,
             "#bd3786"
            ],
            [
             0.5555555555555556,
             "#d8576b"
            ],
            [
             0.6666666666666666,
             "#ed7953"
            ],
            [
             0.7777777777777778,
             "#fb9f3a"
            ],
            [
             0.8888888888888888,
             "#fdca26"
            ],
            [
             1,
             "#f0f921"
            ]
           ],
           "sequentialminus": [
            [
             0,
             "#0d0887"
            ],
            [
             0.1111111111111111,
             "#46039f"
            ],
            [
             0.2222222222222222,
             "#7201a8"
            ],
            [
             0.3333333333333333,
             "#9c179e"
            ],
            [
             0.4444444444444444,
             "#bd3786"
            ],
            [
             0.5555555555555556,
             "#d8576b"
            ],
            [
             0.6666666666666666,
             "#ed7953"
            ],
            [
             0.7777777777777778,
             "#fb9f3a"
            ],
            [
             0.8888888888888888,
             "#fdca26"
            ],
            [
             1,
             "#f0f921"
            ]
           ]
          },
          "colorway": [
           "#636efa",
           "#EF553B",
           "#00cc96",
           "#ab63fa",
           "#FFA15A",
           "#19d3f3",
           "#FF6692",
           "#B6E880",
           "#FF97FF",
           "#FECB52"
          ],
          "font": {
           "color": "#2a3f5f"
          },
          "geo": {
           "bgcolor": "white",
           "lakecolor": "white",
           "landcolor": "#E5ECF6",
           "showlakes": true,
           "showland": true,
           "subunitcolor": "white"
          },
          "hoverlabel": {
           "align": "left"
          },
          "hovermode": "closest",
          "mapbox": {
           "style": "light"
          },
          "paper_bgcolor": "white",
          "plot_bgcolor": "#E5ECF6",
          "polar": {
           "angularaxis": {
            "gridcolor": "white",
            "linecolor": "white",
            "ticks": ""
           },
           "bgcolor": "#E5ECF6",
           "radialaxis": {
            "gridcolor": "white",
            "linecolor": "white",
            "ticks": ""
           }
          },
          "scene": {
           "xaxis": {
            "backgroundcolor": "#E5ECF6",
            "gridcolor": "white",
            "gridwidth": 2,
            "linecolor": "white",
            "showbackground": true,
            "ticks": "",
            "zerolinecolor": "white"
           },
           "yaxis": {
            "backgroundcolor": "#E5ECF6",
            "gridcolor": "white",
            "gridwidth": 2,
            "linecolor": "white",
            "showbackground": true,
            "ticks": "",
            "zerolinecolor": "white"
           },
           "zaxis": {
            "backgroundcolor": "#E5ECF6",
            "gridcolor": "white",
            "gridwidth": 2,
            "linecolor": "white",
            "showbackground": true,
            "ticks": "",
            "zerolinecolor": "white"
           }
          },
          "shapedefaults": {
           "line": {
            "color": "#2a3f5f"
           }
          },
          "ternary": {
           "aaxis": {
            "gridcolor": "white",
            "linecolor": "white",
            "ticks": ""
           },
           "baxis": {
            "gridcolor": "white",
            "linecolor": "white",
            "ticks": ""
           },
           "bgcolor": "#E5ECF6",
           "caxis": {
            "gridcolor": "white",
            "linecolor": "white",
            "ticks": ""
           }
          },
          "title": {
           "x": 0.05
          },
          "xaxis": {
           "automargin": true,
           "gridcolor": "white",
           "linecolor": "white",
           "ticks": "",
           "title": {
            "standoff": 15
           },
           "zerolinecolor": "white",
           "zerolinewidth": 2
          },
          "yaxis": {
           "automargin": true,
           "gridcolor": "white",
           "linecolor": "white",
           "ticks": "",
           "title": {
            "standoff": 15
           },
           "zerolinecolor": "white",
           "zerolinewidth": 2
          }
         }
        }
       }
      },
      "image/png": "[encoded data removed]",
      "text/html": [
       "<div>                            <div id=\"1a166d4d-d3ab-4c2d-8f04-eb6889e26f9e\" class=\"plotly-graph-div\" style=\"height:525px; width:100%;\"></div>            <script type=\"text/javascript\">                require([\"plotly\"], function(Plotly) {                    window.PLOTLYENV=window.PLOTLYENV || {};                                    if (document.getElementById(\"1a166d4d-d3ab-4c2d-8f04-eb6889e26f9e\")) {                    Plotly.newPlot(                        \"1a166d4d-d3ab-4c2d-8f04-eb6889e26f9e\",                        [{\"domain\":{\"x\":[0.0,1.0],\"y\":[0.0,1.0]},\"hole\":0.5,\"hovertemplate\":\"index=%{label}<br>sales_channel=%{value}<extra></extra>\",\"labels\":[\"Internet\",\"Mobile\"],\"legendgroup\":\"\",\"name\":\"\",\"showlegend\":true,\"values\":[44382,5618],\"type\":\"pie\"}],                        {\"template\":{\"data\":{\"histogram2dcontour\":[{\"type\":\"histogram2dcontour\",\"colorbar\":{\"outlinewidth\":0,\"ticks\":\"\"},\"colorscale\":[[0.0,\"#0d0887\"],[0.1111111111111111,\"#46039f\"],[0.2222222222222222,\"#7201a8\"],[0.3333333333333333,\"#9c179e\"],[0.4444444444444444,\"#bd3786\"],[0.5555555555555556,\"#d8576b\"],[0.6666666666666666,\"#ed7953\"],[0.7777777777777778,\"#fb9f3a\"],[0.8888888888888888,\"#fdca26\"],[1.0,\"#f0f921\"]]}],\"choropleth\":[{\"type\":\"choropleth\",\"colorbar\":{\"outlinewidth\":0,\"ticks\":\"\"}}],\"histogram2d\":[{\"type\":\"histogram2d\",\"colorbar\":{\"outlinewidth\":0,\"ticks\":\"\"},\"colorscale\":[[0.0,\"#0d0887\"],[0.1111111111111111,\"#46039f\"],[0.2222222222222222,\"#7201a8\"],[0.3333333333333333,\"#9c179e\"],[0.4444444444444444,\"#bd3786\"],[0.5555555555555556,\"#d8576b\"],[0.6666666666666666,\"#ed7953\"],[0.7777777777777778,\"#fb9f3a\"],[0.8888888888888888,\"#fdca26\"],[1.0,\"#f0f921\"]]}],\"heatmap\":[{\"type\":\"heatmap\",\"colorbar\":{\"outlinewidth\":0,\"ticks\":\"\"},\"colorscale\":[[0.0,\"#0d0887\"],[0.1111111111111111,\"#46039f\"],[0.2222222222222222,\"#7201a8\"],[0.3333333333333333,\"#9c179e\"],[0.4444444444444444,\"#bd3786\"],[0.5555555555555556,\"#d8576b\"],[0.6666666666666666,\"#ed7953\"],[0.7777777777777778,\"#fb9f3a\"],[0.8888888888888888,\"#fdca26\"],[1.0,\"#f0f921\"]]}],\"heatmapgl\":[{\"type\":\"heatmapgl\",\"colorbar\":{\"outlinewidth\":0,\"ticks\":\"\"},\"colorscale\":[[0.0,\"#0d0887\"],[0.1111111111111111,\"#46039f\"],[0.2222222222222222,\"#7201a8\"],[0.3333333333333333,\"#9c179e\"],[0.4444444444444444,\"#bd3786\"],[0.5555555555555556,\"#d8576b\"],[0.6666666666666666,\"#ed7953\"],[0.7777777777777778,\"#fb9f3a\"],[0.8888888888888888,\"#fdca26\"],[1.0,\"#f0f921\"]]}],\"contourcarpet\":[{\"type\":\"contourcarpet\",\"colorbar\":{\"outlinewidth\":0,\"ticks\":\"\"}}],\"contour\":[{\"type\":\"contour\",\"colorbar\":{\"outlinewidth\":0,\"ticks\":\"\"},\"colorscale\":[[0.0,\"#0d0887\"],[0.1111111111111111,\"#46039f\"],[0.2222222222222222,\"#7201a8\"],[0.3333333333333333,\"#9c179e\"],[0.4444444444444444,\"#bd3786\"],[0.5555555555555556,\"#d8576b\"],[0.6666666666666666,\"#ed7953\"],[0.7777777777777778,\"#fb9f3a\"],[0.8888888888888888,\"#fdca26\"],[1.0,\"#f0f921\"]]}],\"surface\":[{\"type\":\"surface\",\"colorbar\":{\"outlinewidth\":0,\"ticks\":\"\"},\"colorscale\":[[0.0,\"#0d0887\"],[0.1111111111111111,\"#46039f\"],[0.2222222222222222,\"#7201a8\"],[0.3333333333333333,\"#9c179e\"],[0.4444444444444444,\"#bd3786\"],[0.5555555555555556,\"#d8576b\"],[0.6666666666666666,\"#ed7953\"],[0.7777777777777778,\"#fb9f3a\"],[0.8888888888888888,\"#fdca26\"],[1.0,\"#f0f921\"]]}],\"mesh3d\":[{\"type\":\"mesh3d\",\"colorbar\":{\"outlinewidth\":0,\"ticks\":\"\"}}],\"scatter\":[{\"fillpattern\":{\"fillmode\":\"overlay\",\"size\":10,\"solidity\":0.2},\"type\":\"scatter\"}],\"parcoords\":[{\"type\":\"parcoords\",\"line\":{\"colorbar\":{\"outlinewidth\":0,\"ticks\":\"\"}}}],\"scatterpolargl\":[{\"type\":\"scatterpolargl\",\"marker\":{\"colorbar\":{\"outlinewidth\":0,\"ticks\":\"\"}}}],\"bar\":[{\"error_x\":{\"color\":\"#2a3f5f\"},\"error_y\":{\"color\":\"#2a3f5f\"},\"marker\":{\"line\":{\"color\":\"#E5ECF6\",\"width\":0.5},\"pattern\":{\"fillmode\":\"overlay\",\"size\":10,\"solidity\":0.2}},\"type\":\"bar\"}],\"scattergeo\":[{\"type\":\"scattergeo\",\"marker\":{\"colorbar\":{\"outlinewidth\":0,\"ticks\":\"\"}}}],\"scatterpolar\":[{\"type\":\"scatterpolar\",\"marker\":{\"colorbar\":{\"outlinewidth\":0,\"ticks\":\"\"}}}],\"histogram\":[{\"marker\":{\"pattern\":{\"fillmode\":\"overlay\",\"size\":10,\"solidity\":0.2}},\"type\":\"histogram\"}],\"scattergl\":[{\"type\":\"scattergl\",\"marker\":{\"colorbar\":{\"outlinewidth\":0,\"ticks\":\"\"}}}],\"scatter3d\":[{\"type\":\"scatter3d\",\"line\":{\"colorbar\":{\"outlinewidth\":0,\"ticks\":\"\"}},\"marker\":{\"colorbar\":{\"outlinewidth\":0,\"ticks\":\"\"}}}],\"scattermapbox\":[{\"type\":\"scattermapbox\",\"marker\":{\"colorbar\":{\"outlinewidth\":0,\"ticks\":\"\"}}}],\"scatterternary\":[{\"type\":\"scatterternary\",\"marker\":{\"colorbar\":{\"outlinewidth\":0,\"ticks\":\"\"}}}],\"scattercarpet\":[{\"type\":\"scattercarpet\",\"marker\":{\"colorbar\":{\"outlinewidth\":0,\"ticks\":\"\"}}}],\"carpet\":[{\"aaxis\":{\"endlinecolor\":\"#2a3f5f\",\"gridcolor\":\"white\",\"linecolor\":\"white\",\"minorgridcolor\":\"white\",\"startlinecolor\":\"#2a3f5f\"},\"baxis\":{\"endlinecolor\":\"#2a3f5f\",\"gridcolor\":\"white\",\"linecolor\":\"white\",\"minorgridcolor\":\"white\",\"startlinecolor\":\"#2a3f5f\"},\"type\":\"carpet\"}],\"table\":[{\"cells\":{\"fill\":{\"color\":\"#EBF0F8\"},\"line\":{\"color\":\"white\"}},\"header\":{\"fill\":{\"color\":\"#C8D4E3\"},\"line\":{\"color\":\"white\"}},\"type\":\"table\"}],\"barpolar\":[{\"marker\":{\"line\":{\"color\":\"#E5ECF6\",\"width\":0.5},\"pattern\":{\"fillmode\":\"overlay\",\"size\":10,\"solidity\":0.2}},\"type\":\"barpolar\"}],\"pie\":[{\"automargin\":true,\"type\":\"pie\"}]},\"layout\":{\"autotypenumbers\":\"strict\",\"colorway\":[\"#636efa\",\"#EF553B\",\"#00cc96\",\"#ab63fa\",\"#FFA15A\",\"#19d3f3\",\"#FF6692\",\"#B6E880\",\"#FF97FF\",\"#FECB52\"],\"font\":{\"color\":\"#2a3f5f\"},\"hovermode\":\"closest\",\"hoverlabel\":{\"align\":\"left\"},\"paper_bgcolor\":\"white\",\"plot_bgcolor\":\"#E5ECF6\",\"polar\":{\"bgcolor\":\"#E5ECF6\",\"angularaxis\":{\"gridcolor\":\"white\",\"linecolor\":\"white\",\"ticks\":\"\"},\"radialaxis\":{\"gridcolor\":\"white\",\"linecolor\":\"white\",\"ticks\":\"\"}},\"ternary\":{\"bgcolor\":\"#E5ECF6\",\"aaxis\":{\"gridcolor\":\"white\",\"linecolor\":\"white\",\"ticks\":\"\"},\"baxis\":{\"gridcolor\":\"white\",\"linecolor\":\"white\",\"ticks\":\"\"},\"caxis\":{\"gridcolor\":\"white\",\"linecolor\":\"white\",\"ticks\":\"\"}},\"coloraxis\":{\"colorbar\":{\"outlinewidth\":0,\"ticks\":\"\"}},\"colorscale\":{\"sequential\":[[0.0,\"#0d0887\"],[0.1111111111111111,\"#46039f\"],[0.2222222222222222,\"#7201a8\"],[0.3333333333333333,\"#9c179e\"],[0.4444444444444444,\"#bd3786\"],[0.5555555555555556,\"#d8576b\"],[0.6666666666666666,\"#ed7953\"],[0.7777777777777778,\"#fb9f3a\"],[0.8888888888888888,\"#fdca26\"],[1.0,\"#f0f921\"]],\"sequentialminus\":[[0.0,\"#0d0887\"],[0.1111111111111111,\"#46039f\"],[0.2222222222222222,\"#7201a8\"],[0.3333333333333333,\"#9c179e\"],[0.4444444444444444,\"#bd3786\"],[0.5555555555555556,\"#d8576b\"],[0.6666666666666666,\"#ed7953\"],[0.7777777777777778,\"#fb9f3a\"],[0.8888888888888888,\"#fdca26\"],[1.0,\"#f0f921\"]],\"diverging\":[[0,\"#8e0152\"],[0.1,\"#c51b7d\"],[0.2,\"#de77ae\"],[0.3,\"#f1b6da\"],[0.4,\"#fde0ef\"],[0.5,\"#f7f7f7\"],[0.6,\"#e6f5d0\"],[0.7,\"#b8e186\"],[0.8,\"#7fbc41\"],[0.9,\"#4d9221\"],[1,\"#276419\"]]},\"xaxis\":{\"gridcolor\":\"white\",\"linecolor\":\"white\",\"ticks\":\"\",\"title\":{\"standoff\":15},\"zerolinecolor\":\"white\",\"automargin\":true,\"zerolinewidth\":2},\"yaxis\":{\"gridcolor\":\"white\",\"linecolor\":\"white\",\"ticks\":\"\",\"title\":{\"standoff\":15},\"zerolinecolor\":\"white\",\"automargin\":true,\"zerolinewidth\":2},\"scene\":{\"xaxis\":{\"backgroundcolor\":\"#E5ECF6\",\"gridcolor\":\"white\",\"linecolor\":\"white\",\"showbackground\":true,\"ticks\":\"\",\"zerolinecolor\":\"white\",\"gridwidth\":2},\"yaxis\":{\"backgroundcolor\":\"#E5ECF6\",\"gridcolor\":\"white\",\"linecolor\":\"white\",\"showbackground\":true,\"ticks\":\"\",\"zerolinecolor\":\"white\",\"gridwidth\":2},\"zaxis\":{\"backgroundcolor\":\"#E5ECF6\",\"gridcolor\":\"white\",\"linecolor\":\"white\",\"showbackground\":true,\"ticks\":\"\",\"zerolinecolor\":\"white\",\"gridwidth\":2}},\"shapedefaults\":{\"line\":{\"color\":\"#2a3f5f\"}},\"annotationdefaults\":{\"arrowcolor\":\"#2a3f5f\",\"arrowhead\":0,\"arrowwidth\":1},\"geo\":{\"bgcolor\":\"white\",\"landcolor\":\"#E5ECF6\",\"subunitcolor\":\"white\",\"showland\":true,\"showlakes\":true,\"lakecolor\":\"white\"},\"title\":{\"x\":0.05},\"mapbox\":{\"style\":\"light\"}}},\"legend\":{\"tracegroupgap\":0},\"margin\":{\"t\":60}},                        {\"responsive\": true}                    ).then(function(){\n",
       "                            \n",
       "var gd = document.getElementById('1a166d4d-d3ab-4c2d-8f04-eb6889e26f9e');\n",
       "var x = new MutationObserver(function (mutations, observer) {{\n",
       "        var display = window.getComputedStyle(gd).display;\n",
       "        if (!display || display === 'none') {{\n",
       "            console.log([gd, 'removed!']);\n",
       "            Plotly.purge(gd);\n",
       "            observer.disconnect();\n",
       "        }}\n",
       "}});\n",
       "\n",
       "// Listen for the removal of the full notebook cells\n",
       "var notebookContainer = gd.closest('#notebook-container');\n",
       "if (notebookContainer) {{\n",
       "    x.observe(notebookContainer, {childList: true});\n",
       "}}\n",
       "\n",
       "// Listen for the clearing of the current output cell\n",
       "var outputEl = gd.closest('.output');\n",
       "if (outputEl) {{\n",
       "    x.observe(outputEl, {childList: true});\n",
       "}}\n",
       "\n",
       "                        })                };                });            </script>        </div>"
      ]
     },
     "metadata": {},
     "output_type": "display_data"
    }
   ],
   "source": [
    "px.pie(data_frame=pd.DataFrame(df.sales_channel.value_counts()).reset_index(),\n",
    "       names='index',\n",
    "       values='sales_channel',\n",
    "       hole=0.5)"
   ]
  },
  {
   "cell_type": "code",
   "execution_count": 22,
   "id": "8f1b2dd3-8670-4abe-9554-1850d4c2e1ec",
   "metadata": {
    "execution": {
     "iopub.execute_input": "2022-11-22T05:44:55.159995Z",
     "iopub.status.busy": "2022-11-22T05:44:55.159995Z",
     "iopub.status.idle": "2022-11-22T05:44:55.201989Z",
     "shell.execute_reply": "2022-11-22T05:44:55.201989Z",
     "shell.execute_reply.started": "2022-11-22T05:44:55.159995Z"
    },
    "tags": []
   },
   "outputs": [
    {
     "data": {
      "application/vnd.plotly.v1+json": {
       "config": {
        "plotlyServerURL": "https://plot.ly"
       },
       "data": [
        {
         "domain": {
          "x": [
           0,
           1
          ],
          "y": [
           0,
           1
          ]
         },
         "hole": 0.5,
         "hovertemplate": "index=%{label}<br>trip_type=%{value}<extra></extra>",
         "labels": [
          "RoundTrip",
          "OneWay",
          "CircleTrip"
         ],
         "legendgroup": "",
         "name": "",
         "showlegend": true,
         "type": "pie",
         "values": [
          49497,
          387,
          116
         ]
        }
       ],
       "layout": {
        "autosize": true,
        "legend": {
         "tracegroupgap": 0
        },
        "margin": {
         "t": 60
        },
        "template": {
         "data": {
          "bar": [
           {
            "error_x": {
             "color": "#2a3f5f"
            },
            "error_y": {
             "color": "#2a3f5f"
            },
            "marker": {
             "line": {
              "color": "#E5ECF6",
              "width": 0.5
             },
             "pattern": {
              "fillmode": "overlay",
              "size": 10,
              "solidity": 0.2
             }
            },
            "type": "bar"
           }
          ],
          "barpolar": [
           {
            "marker": {
             "line": {
              "color": "#E5ECF6",
              "width": 0.5
             },
             "pattern": {
              "fillmode": "overlay",
              "size": 10,
              "solidity": 0.2
             }
            },
            "type": "barpolar"
           }
          ],
          "carpet": [
           {
            "aaxis": {
             "endlinecolor": "#2a3f5f",
             "gridcolor": "white",
             "linecolor": "white",
             "minorgridcolor": "white",
             "startlinecolor": "#2a3f5f"
            },
            "baxis": {
             "endlinecolor": "#2a3f5f",
             "gridcolor": "white",
             "linecolor": "white",
             "minorgridcolor": "white",
             "startlinecolor": "#2a3f5f"
            },
            "type": "carpet"
           }
          ],
          "choropleth": [
           {
            "colorbar": {
             "outlinewidth": 0,
             "ticks": ""
            },
            "type": "choropleth"
           }
          ],
          "contour": [
           {
            "colorbar": {
             "outlinewidth": 0,
             "ticks": ""
            },
            "colorscale": [
             [
              0,
              "#0d0887"
             ],
             [
              0.1111111111111111,
              "#46039f"
             ],
             [
              0.2222222222222222,
              "#7201a8"
             ],
             [
              0.3333333333333333,
              "#9c179e"
             ],
             [
              0.4444444444444444,
              "#bd3786"
             ],
             [
              0.5555555555555556,
              "#d8576b"
             ],
             [
              0.6666666666666666,
              "#ed7953"
             ],
             [
              0.7777777777777778,
              "#fb9f3a"
             ],
             [
              0.8888888888888888,
              "#fdca26"
             ],
             [
              1,
              "#f0f921"
             ]
            ],
            "type": "contour"
           }
          ],
          "contourcarpet": [
           {
            "colorbar": {
             "outlinewidth": 0,
             "ticks": ""
            },
            "type": "contourcarpet"
           }
          ],
          "heatmap": [
           {
            "colorbar": {
             "outlinewidth": 0,
             "ticks": ""
            },
            "colorscale": [
             [
              0,
              "#0d0887"
             ],
             [
              0.1111111111111111,
              "#46039f"
             ],
             [
              0.2222222222222222,
              "#7201a8"
             ],
             [
              0.3333333333333333,
              "#9c179e"
             ],
             [
              0.4444444444444444,
              "#bd3786"
             ],
             [
              0.5555555555555556,
              "#d8576b"
             ],
             [
              0.6666666666666666,
              "#ed7953"
             ],
             [
              0.7777777777777778,
              "#fb9f3a"
             ],
             [
              0.8888888888888888,
              "#fdca26"
             ],
             [
              1,
              "#f0f921"
             ]
            ],
            "type": "heatmap"
           }
          ],
          "heatmapgl": [
           {
            "colorbar": {
             "outlinewidth": 0,
             "ticks": ""
            },
            "colorscale": [
             [
              0,
              "#0d0887"
             ],
             [
              0.1111111111111111,
              "#46039f"
             ],
             [
              0.2222222222222222,
              "#7201a8"
             ],
             [
              0.3333333333333333,
              "#9c179e"
             ],
             [
              0.4444444444444444,
              "#bd3786"
             ],
             [
              0.5555555555555556,
              "#d8576b"
             ],
             [
              0.6666666666666666,
              "#ed7953"
             ],
             [
              0.7777777777777778,
              "#fb9f3a"
             ],
             [
              0.8888888888888888,
              "#fdca26"
             ],
             [
              1,
              "#f0f921"
             ]
            ],
            "type": "heatmapgl"
           }
          ],
          "histogram": [
           {
            "marker": {
             "pattern": {
              "fillmode": "overlay",
              "size": 10,
              "solidity": 0.2
             }
            },
            "type": "histogram"
           }
          ],
          "histogram2d": [
           {
            "colorbar": {
             "outlinewidth": 0,
             "ticks": ""
            },
            "colorscale": [
             [
              0,
              "#0d0887"
             ],
             [
              0.1111111111111111,
              "#46039f"
             ],
             [
              0.2222222222222222,
              "#7201a8"
             ],
             [
              0.3333333333333333,
              "#9c179e"
             ],
             [
              0.4444444444444444,
              "#bd3786"
             ],
             [
              0.5555555555555556,
              "#d8576b"
             ],
             [
              0.6666666666666666,
              "#ed7953"
             ],
             [
              0.7777777777777778,
              "#fb9f3a"
             ],
             [
              0.8888888888888888,
              "#fdca26"
             ],
             [
              1,
              "#f0f921"
             ]
            ],
            "type": "histogram2d"
           }
          ],
          "histogram2dcontour": [
           {
            "colorbar": {
             "outlinewidth": 0,
             "ticks": ""
            },
            "colorscale": [
             [
              0,
              "#0d0887"
             ],
             [
              0.1111111111111111,
              "#46039f"
             ],
             [
              0.2222222222222222,
              "#7201a8"
             ],
             [
              0.3333333333333333,
              "#9c179e"
             ],
             [
              0.4444444444444444,
              "#bd3786"
             ],
             [
              0.5555555555555556,
              "#d8576b"
             ],
             [
              0.6666666666666666,
              "#ed7953"
             ],
             [
              0.7777777777777778,
              "#fb9f3a"
             ],
             [
              0.8888888888888888,
              "#fdca26"
             ],
             [
              1,
              "#f0f921"
             ]
            ],
            "type": "histogram2dcontour"
           }
          ],
          "mesh3d": [
           {
            "colorbar": {
             "outlinewidth": 0,
             "ticks": ""
            },
            "type": "mesh3d"
           }
          ],
          "parcoords": [
           {
            "line": {
             "colorbar": {
              "outlinewidth": 0,
              "ticks": ""
             }
            },
            "type": "parcoords"
           }
          ],
          "pie": [
           {
            "automargin": true,
            "type": "pie"
           }
          ],
          "scatter": [
           {
            "fillpattern": {
             "fillmode": "overlay",
             "size": 10,
             "solidity": 0.2
            },
            "type": "scatter"
           }
          ],
          "scatter3d": [
           {
            "line": {
             "colorbar": {
              "outlinewidth": 0,
              "ticks": ""
             }
            },
            "marker": {
             "colorbar": {
              "outlinewidth": 0,
              "ticks": ""
             }
            },
            "type": "scatter3d"
           }
          ],
          "scattercarpet": [
           {
            "marker": {
             "colorbar": {
              "outlinewidth": 0,
              "ticks": ""
             }
            },
            "type": "scattercarpet"
           }
          ],
          "scattergeo": [
           {
            "marker": {
             "colorbar": {
              "outlinewidth": 0,
              "ticks": ""
             }
            },
            "type": "scattergeo"
           }
          ],
          "scattergl": [
           {
            "marker": {
             "colorbar": {
              "outlinewidth": 0,
              "ticks": ""
             }
            },
            "type": "scattergl"
           }
          ],
          "scattermapbox": [
           {
            "marker": {
             "colorbar": {
              "outlinewidth": 0,
              "ticks": ""
             }
            },
            "type": "scattermapbox"
           }
          ],
          "scatterpolar": [
           {
            "marker": {
             "colorbar": {
              "outlinewidth": 0,
              "ticks": ""
             }
            },
            "type": "scatterpolar"
           }
          ],
          "scatterpolargl": [
           {
            "marker": {
             "colorbar": {
              "outlinewidth": 0,
              "ticks": ""
             }
            },
            "type": "scatterpolargl"
           }
          ],
          "scatterternary": [
           {
            "marker": {
             "colorbar": {
              "outlinewidth": 0,
              "ticks": ""
             }
            },
            "type": "scatterternary"
           }
          ],
          "surface": [
           {
            "colorbar": {
             "outlinewidth": 0,
             "ticks": ""
            },
            "colorscale": [
             [
              0,
              "#0d0887"
             ],
             [
              0.1111111111111111,
              "#46039f"
             ],
             [
              0.2222222222222222,
              "#7201a8"
             ],
             [
              0.3333333333333333,
              "#9c179e"
             ],
             [
              0.4444444444444444,
              "#bd3786"
             ],
             [
              0.5555555555555556,
              "#d8576b"
             ],
             [
              0.6666666666666666,
              "#ed7953"
             ],
             [
              0.7777777777777778,
              "#fb9f3a"
             ],
             [
              0.8888888888888888,
              "#fdca26"
             ],
             [
              1,
              "#f0f921"
             ]
            ],
            "type": "surface"
           }
          ],
          "table": [
           {
            "cells": {
             "fill": {
              "color": "#EBF0F8"
             },
             "line": {
              "color": "white"
             }
            },
            "header": {
             "fill": {
              "color": "#C8D4E3"
             },
             "line": {
              "color": "white"
             }
            },
            "type": "table"
           }
          ]
         },
         "layout": {
          "annotationdefaults": {
           "arrowcolor": "#2a3f5f",
           "arrowhead": 0,
           "arrowwidth": 1
          },
          "autotypenumbers": "strict",
          "coloraxis": {
           "colorbar": {
            "outlinewidth": 0,
            "ticks": ""
           }
          },
          "colorscale": {
           "diverging": [
            [
             0,
             "#8e0152"
            ],
            [
             0.1,
             "#c51b7d"
            ],
            [
             0.2,
             "#de77ae"
            ],
            [
             0.3,
             "#f1b6da"
            ],
            [
             0.4,
             "#fde0ef"
            ],
            [
             0.5,
             "#f7f7f7"
            ],
            [
             0.6,
             "#e6f5d0"
            ],
            [
             0.7,
             "#b8e186"
            ],
            [
             0.8,
             "#7fbc41"
            ],
            [
             0.9,
             "#4d9221"
            ],
            [
             1,
             "#276419"
            ]
           ],
           "sequential": [
            [
             0,
             "#0d0887"
            ],
            [
             0.1111111111111111,
             "#46039f"
            ],
            [
             0.2222222222222222,
             "#7201a8"
            ],
            [
             0.3333333333333333,
             "#9c179e"
            ],
            [
             0.4444444444444444,
             "#bd3786"
            ],
            [
             0.5555555555555556,
             "#d8576b"
            ],
            [
             0.6666666666666666,
             "#ed7953"
            ],
            [
             0.7777777777777778,
             "#fb9f3a"
            ],
            [
             0.8888888888888888,
             "#fdca26"
            ],
            [
             1,
             "#f0f921"
            ]
           ],
           "sequentialminus": [
            [
             0,
             "#0d0887"
            ],
            [
             0.1111111111111111,
             "#46039f"
            ],
            [
             0.2222222222222222,
             "#7201a8"
            ],
            [
             0.3333333333333333,
             "#9c179e"
            ],
            [
             0.4444444444444444,
             "#bd3786"
            ],
            [
             0.5555555555555556,
             "#d8576b"
            ],
            [
             0.6666666666666666,
             "#ed7953"
            ],
            [
             0.7777777777777778,
             "#fb9f3a"
            ],
            [
             0.8888888888888888,
             "#fdca26"
            ],
            [
             1,
             "#f0f921"
            ]
           ]
          },
          "colorway": [
           "#636efa",
           "#EF553B",
           "#00cc96",
           "#ab63fa",
           "#FFA15A",
           "#19d3f3",
           "#FF6692",
           "#B6E880",
           "#FF97FF",
           "#FECB52"
          ],
          "font": {
           "color": "#2a3f5f"
          },
          "geo": {
           "bgcolor": "white",
           "lakecolor": "white",
           "landcolor": "#E5ECF6",
           "showlakes": true,
           "showland": true,
           "subunitcolor": "white"
          },
          "hoverlabel": {
           "align": "left"
          },
          "hovermode": "closest",
          "mapbox": {
           "style": "light"
          },
          "paper_bgcolor": "white",
          "plot_bgcolor": "#E5ECF6",
          "polar": {
           "angularaxis": {
            "gridcolor": "white",
            "linecolor": "white",
            "ticks": ""
           },
           "bgcolor": "#E5ECF6",
           "radialaxis": {
            "gridcolor": "white",
            "linecolor": "white",
            "ticks": ""
           }
          },
          "scene": {
           "xaxis": {
            "backgroundcolor": "#E5ECF6",
            "gridcolor": "white",
            "gridwidth": 2,
            "linecolor": "white",
            "showbackground": true,
            "ticks": "",
            "zerolinecolor": "white"
           },
           "yaxis": {
            "backgroundcolor": "#E5ECF6",
            "gridcolor": "white",
            "gridwidth": 2,
            "linecolor": "white",
            "showbackground": true,
            "ticks": "",
            "zerolinecolor": "white"
           },
           "zaxis": {
            "backgroundcolor": "#E5ECF6",
            "gridcolor": "white",
            "gridwidth": 2,
            "linecolor": "white",
            "showbackground": true,
            "ticks": "",
            "zerolinecolor": "white"
           }
          },
          "shapedefaults": {
           "line": {
            "color": "#2a3f5f"
           }
          },
          "ternary": {
           "aaxis": {
            "gridcolor": "white",
            "linecolor": "white",
            "ticks": ""
           },
           "baxis": {
            "gridcolor": "white",
            "linecolor": "white",
            "ticks": ""
           },
           "bgcolor": "#E5ECF6",
           "caxis": {
            "gridcolor": "white",
            "linecolor": "white",
            "ticks": ""
           }
          },
          "title": {
           "x": 0.05
          },
          "xaxis": {
           "automargin": true,
           "gridcolor": "white",
           "linecolor": "white",
           "ticks": "",
           "title": {
            "standoff": 15
           },
           "zerolinecolor": "white",
           "zerolinewidth": 2
          },
          "yaxis": {
           "automargin": true,
           "gridcolor": "white",
           "linecolor": "white",
           "ticks": "",
           "title": {
            "standoff": 15
           },
           "zerolinecolor": "white",
           "zerolinewidth": 2
          }
         }
        }
       }
      },
      "image/png": "[encoded data removed]",
      "text/html": [
       "<div>                            <div id=\"4a818d64-16f1-4cfa-a401-35098eed7972\" class=\"plotly-graph-div\" style=\"height:525px; width:100%;\"></div>            <script type=\"text/javascript\">                require([\"plotly\"], function(Plotly) {                    window.PLOTLYENV=window.PLOTLYENV || {};                                    if (document.getElementById(\"4a818d64-16f1-4cfa-a401-35098eed7972\")) {                    Plotly.newPlot(                        \"4a818d64-16f1-4cfa-a401-35098eed7972\",                        [{\"domain\":{\"x\":[0.0,1.0],\"y\":[0.0,1.0]},\"hole\":0.5,\"hovertemplate\":\"index=%{label}<br>trip_type=%{value}<extra></extra>\",\"labels\":[\"RoundTrip\",\"OneWay\",\"CircleTrip\"],\"legendgroup\":\"\",\"name\":\"\",\"showlegend\":true,\"values\":[49497,387,116],\"type\":\"pie\"}],                        {\"template\":{\"data\":{\"histogram2dcontour\":[{\"type\":\"histogram2dcontour\",\"colorbar\":{\"outlinewidth\":0,\"ticks\":\"\"},\"colorscale\":[[0.0,\"#0d0887\"],[0.1111111111111111,\"#46039f\"],[0.2222222222222222,\"#7201a8\"],[0.3333333333333333,\"#9c179e\"],[0.4444444444444444,\"#bd3786\"],[0.5555555555555556,\"#d8576b\"],[0.6666666666666666,\"#ed7953\"],[0.7777777777777778,\"#fb9f3a\"],[0.8888888888888888,\"#fdca26\"],[1.0,\"#f0f921\"]]}],\"choropleth\":[{\"type\":\"choropleth\",\"colorbar\":{\"outlinewidth\":0,\"ticks\":\"\"}}],\"histogram2d\":[{\"type\":\"histogram2d\",\"colorbar\":{\"outlinewidth\":0,\"ticks\":\"\"},\"colorscale\":[[0.0,\"#0d0887\"],[0.1111111111111111,\"#46039f\"],[0.2222222222222222,\"#7201a8\"],[0.3333333333333333,\"#9c179e\"],[0.4444444444444444,\"#bd3786\"],[0.5555555555555556,\"#d8576b\"],[0.6666666666666666,\"#ed7953\"],[0.7777777777777778,\"#fb9f3a\"],[0.8888888888888888,\"#fdca26\"],[1.0,\"#f0f921\"]]}],\"heatmap\":[{\"type\":\"heatmap\",\"colorbar\":{\"outlinewidth\":0,\"ticks\":\"\"},\"colorscale\":[[0.0,\"#0d0887\"],[0.1111111111111111,\"#46039f\"],[0.2222222222222222,\"#7201a8\"],[0.3333333333333333,\"#9c179e\"],[0.4444444444444444,\"#bd3786\"],[0.5555555555555556,\"#d8576b\"],[0.6666666666666666,\"#ed7953\"],[0.7777777777777778,\"#fb9f3a\"],[0.8888888888888888,\"#fdca26\"],[1.0,\"#f0f921\"]]}],\"heatmapgl\":[{\"type\":\"heatmapgl\",\"colorbar\":{\"outlinewidth\":0,\"ticks\":\"\"},\"colorscale\":[[0.0,\"#0d0887\"],[0.1111111111111111,\"#46039f\"],[0.2222222222222222,\"#7201a8\"],[0.3333333333333333,\"#9c179e\"],[0.4444444444444444,\"#bd3786\"],[0.5555555555555556,\"#d8576b\"],[0.6666666666666666,\"#ed7953\"],[0.7777777777777778,\"#fb9f3a\"],[0.8888888888888888,\"#fdca26\"],[1.0,\"#f0f921\"]]}],\"contourcarpet\":[{\"type\":\"contourcarpet\",\"colorbar\":{\"outlinewidth\":0,\"ticks\":\"\"}}],\"contour\":[{\"type\":\"contour\",\"colorbar\":{\"outlinewidth\":0,\"ticks\":\"\"},\"colorscale\":[[0.0,\"#0d0887\"],[0.1111111111111111,\"#46039f\"],[0.2222222222222222,\"#7201a8\"],[0.3333333333333333,\"#9c179e\"],[0.4444444444444444,\"#bd3786\"],[0.5555555555555556,\"#d8576b\"],[0.6666666666666666,\"#ed7953\"],[0.7777777777777778,\"#fb9f3a\"],[0.8888888888888888,\"#fdca26\"],[1.0,\"#f0f921\"]]}],\"surface\":[{\"type\":\"surface\",\"colorbar\":{\"outlinewidth\":0,\"ticks\":\"\"},\"colorscale\":[[0.0,\"#0d0887\"],[0.1111111111111111,\"#46039f\"],[0.2222222222222222,\"#7201a8\"],[0.3333333333333333,\"#9c179e\"],[0.4444444444444444,\"#bd3786\"],[0.5555555555555556,\"#d8576b\"],[0.6666666666666666,\"#ed7953\"],[0.7777777777777778,\"#fb9f3a\"],[0.8888888888888888,\"#fdca26\"],[1.0,\"#f0f921\"]]}],\"mesh3d\":[{\"type\":\"mesh3d\",\"colorbar\":{\"outlinewidth\":0,\"ticks\":\"\"}}],\"scatter\":[{\"fillpattern\":{\"fillmode\":\"overlay\",\"size\":10,\"solidity\":0.2},\"type\":\"scatter\"}],\"parcoords\":[{\"type\":\"parcoords\",\"line\":{\"colorbar\":{\"outlinewidth\":0,\"ticks\":\"\"}}}],\"scatterpolargl\":[{\"type\":\"scatterpolargl\",\"marker\":{\"colorbar\":{\"outlinewidth\":0,\"ticks\":\"\"}}}],\"bar\":[{\"error_x\":{\"color\":\"#2a3f5f\"},\"error_y\":{\"color\":\"#2a3f5f\"},\"marker\":{\"line\":{\"color\":\"#E5ECF6\",\"width\":0.5},\"pattern\":{\"fillmode\":\"overlay\",\"size\":10,\"solidity\":0.2}},\"type\":\"bar\"}],\"scattergeo\":[{\"type\":\"scattergeo\",\"marker\":{\"colorbar\":{\"outlinewidth\":0,\"ticks\":\"\"}}}],\"scatterpolar\":[{\"type\":\"scatterpolar\",\"marker\":{\"colorbar\":{\"outlinewidth\":0,\"ticks\":\"\"}}}],\"histogram\":[{\"marker\":{\"pattern\":{\"fillmode\":\"overlay\",\"size\":10,\"solidity\":0.2}},\"type\":\"histogram\"}],\"scattergl\":[{\"type\":\"scattergl\",\"marker\":{\"colorbar\":{\"outlinewidth\":0,\"ticks\":\"\"}}}],\"scatter3d\":[{\"type\":\"scatter3d\",\"line\":{\"colorbar\":{\"outlinewidth\":0,\"ticks\":\"\"}},\"marker\":{\"colorbar\":{\"outlinewidth\":0,\"ticks\":\"\"}}}],\"scattermapbox\":[{\"type\":\"scattermapbox\",\"marker\":{\"colorbar\":{\"outlinewidth\":0,\"ticks\":\"\"}}}],\"scatterternary\":[{\"type\":\"scatterternary\",\"marker\":{\"colorbar\":{\"outlinewidth\":0,\"ticks\":\"\"}}}],\"scattercarpet\":[{\"type\":\"scattercarpet\",\"marker\":{\"colorbar\":{\"outlinewidth\":0,\"ticks\":\"\"}}}],\"carpet\":[{\"aaxis\":{\"endlinecolor\":\"#2a3f5f\",\"gridcolor\":\"white\",\"linecolor\":\"white\",\"minorgridcolor\":\"white\",\"startlinecolor\":\"#2a3f5f\"},\"baxis\":{\"endlinecolor\":\"#2a3f5f\",\"gridcolor\":\"white\",\"linecolor\":\"white\",\"minorgridcolor\":\"white\",\"startlinecolor\":\"#2a3f5f\"},\"type\":\"carpet\"}],\"table\":[{\"cells\":{\"fill\":{\"color\":\"#EBF0F8\"},\"line\":{\"color\":\"white\"}},\"header\":{\"fill\":{\"color\":\"#C8D4E3\"},\"line\":{\"color\":\"white\"}},\"type\":\"table\"}],\"barpolar\":[{\"marker\":{\"line\":{\"color\":\"#E5ECF6\",\"width\":0.5},\"pattern\":{\"fillmode\":\"overlay\",\"size\":10,\"solidity\":0.2}},\"type\":\"barpolar\"}],\"pie\":[{\"automargin\":true,\"type\":\"pie\"}]},\"layout\":{\"autotypenumbers\":\"strict\",\"colorway\":[\"#636efa\",\"#EF553B\",\"#00cc96\",\"#ab63fa\",\"#FFA15A\",\"#19d3f3\",\"#FF6692\",\"#B6E880\",\"#FF97FF\",\"#FECB52\"],\"font\":{\"color\":\"#2a3f5f\"},\"hovermode\":\"closest\",\"hoverlabel\":{\"align\":\"left\"},\"paper_bgcolor\":\"white\",\"plot_bgcolor\":\"#E5ECF6\",\"polar\":{\"bgcolor\":\"#E5ECF6\",\"angularaxis\":{\"gridcolor\":\"white\",\"linecolor\":\"white\",\"ticks\":\"\"},\"radialaxis\":{\"gridcolor\":\"white\",\"linecolor\":\"white\",\"ticks\":\"\"}},\"ternary\":{\"bgcolor\":\"#E5ECF6\",\"aaxis\":{\"gridcolor\":\"white\",\"linecolor\":\"white\",\"ticks\":\"\"},\"baxis\":{\"gridcolor\":\"white\",\"linecolor\":\"white\",\"ticks\":\"\"},\"caxis\":{\"gridcolor\":\"white\",\"linecolor\":\"white\",\"ticks\":\"\"}},\"coloraxis\":{\"colorbar\":{\"outlinewidth\":0,\"ticks\":\"\"}},\"colorscale\":{\"sequential\":[[0.0,\"#0d0887\"],[0.1111111111111111,\"#46039f\"],[0.2222222222222222,\"#7201a8\"],[0.3333333333333333,\"#9c179e\"],[0.4444444444444444,\"#bd3786\"],[0.5555555555555556,\"#d8576b\"],[0.6666666666666666,\"#ed7953\"],[0.7777777777777778,\"#fb9f3a\"],[0.8888888888888888,\"#fdca26\"],[1.0,\"#f0f921\"]],\"sequentialminus\":[[0.0,\"#0d0887\"],[0.1111111111111111,\"#46039f\"],[0.2222222222222222,\"#7201a8\"],[0.3333333333333333,\"#9c179e\"],[0.4444444444444444,\"#bd3786\"],[0.5555555555555556,\"#d8576b\"],[0.6666666666666666,\"#ed7953\"],[0.7777777777777778,\"#fb9f3a\"],[0.8888888888888888,\"#fdca26\"],[1.0,\"#f0f921\"]],\"diverging\":[[0,\"#8e0152\"],[0.1,\"#c51b7d\"],[0.2,\"#de77ae\"],[0.3,\"#f1b6da\"],[0.4,\"#fde0ef\"],[0.5,\"#f7f7f7\"],[0.6,\"#e6f5d0\"],[0.7,\"#b8e186\"],[0.8,\"#7fbc41\"],[0.9,\"#4d9221\"],[1,\"#276419\"]]},\"xaxis\":{\"gridcolor\":\"white\",\"linecolor\":\"white\",\"ticks\":\"\",\"title\":{\"standoff\":15},\"zerolinecolor\":\"white\",\"automargin\":true,\"zerolinewidth\":2},\"yaxis\":{\"gridcolor\":\"white\",\"linecolor\":\"white\",\"ticks\":\"\",\"title\":{\"standoff\":15},\"zerolinecolor\":\"white\",\"automargin\":true,\"zerolinewidth\":2},\"scene\":{\"xaxis\":{\"backgroundcolor\":\"#E5ECF6\",\"gridcolor\":\"white\",\"linecolor\":\"white\",\"showbackground\":true,\"ticks\":\"\",\"zerolinecolor\":\"white\",\"gridwidth\":2},\"yaxis\":{\"backgroundcolor\":\"#E5ECF6\",\"gridcolor\":\"white\",\"linecolor\":\"white\",\"showbackground\":true,\"ticks\":\"\",\"zerolinecolor\":\"white\",\"gridwidth\":2},\"zaxis\":{\"backgroundcolor\":\"#E5ECF6\",\"gridcolor\":\"white\",\"linecolor\":\"white\",\"showbackground\":true,\"ticks\":\"\",\"zerolinecolor\":\"white\",\"gridwidth\":2}},\"shapedefaults\":{\"line\":{\"color\":\"#2a3f5f\"}},\"annotationdefaults\":{\"arrowcolor\":\"#2a3f5f\",\"arrowhead\":0,\"arrowwidth\":1},\"geo\":{\"bgcolor\":\"white\",\"landcolor\":\"#E5ECF6\",\"subunitcolor\":\"white\",\"showland\":true,\"showlakes\":true,\"lakecolor\":\"white\"},\"title\":{\"x\":0.05},\"mapbox\":{\"style\":\"light\"}}},\"legend\":{\"tracegroupgap\":0},\"margin\":{\"t\":60}},                        {\"responsive\": true}                    ).then(function(){\n",
       "                            \n",
       "var gd = document.getElementById('4a818d64-16f1-4cfa-a401-35098eed7972');\n",
       "var x = new MutationObserver(function (mutations, observer) {{\n",
       "        var display = window.getComputedStyle(gd).display;\n",
       "        if (!display || display === 'none') {{\n",
       "            console.log([gd, 'removed!']);\n",
       "            Plotly.purge(gd);\n",
       "            observer.disconnect();\n",
       "        }}\n",
       "}});\n",
       "\n",
       "// Listen for the removal of the full notebook cells\n",
       "var notebookContainer = gd.closest('#notebook-container');\n",
       "if (notebookContainer) {{\n",
       "    x.observe(notebookContainer, {childList: true});\n",
       "}}\n",
       "\n",
       "// Listen for the clearing of the current output cell\n",
       "var outputEl = gd.closest('.output');\n",
       "if (outputEl) {{\n",
       "    x.observe(outputEl, {childList: true});\n",
       "}}\n",
       "\n",
       "                        })                };                });            </script>        </div>"
      ]
     },
     "metadata": {},
     "output_type": "display_data"
    }
   ],
   "source": [
    "px.pie(data_frame=pd.DataFrame(df.trip_type.value_counts()).reset_index(),\n",
    "       names='index',\n",
    "       values='trip_type',\n",
    "       hole=0.5)"
   ]
  },
  {
   "cell_type": "code",
   "execution_count": 23,
   "id": "c116a972-a2d9-4496-8615-d362220a1500",
   "metadata": {
    "execution": {
     "iopub.execute_input": "2022-11-22T05:45:41.177001Z",
     "iopub.status.busy": "2022-11-22T05:45:41.175990Z",
     "iopub.status.idle": "2022-11-22T05:45:41.183003Z",
     "shell.execute_reply": "2022-11-22T05:45:41.183003Z",
     "shell.execute_reply.started": "2022-11-22T05:45:41.177001Z"
    }
   },
   "outputs": [
    {
     "data": {
      "text/plain": [
       "array(['Sat', 'Wed', 'Thu', 'Mon', 'Sun', 'Tue', 'Fri'], dtype=object)"
      ]
     },
     "execution_count": 23,
     "metadata": {},
     "output_type": "execute_result"
    }
   ],
   "source": [
    "df[\"flight_day\"].unique()"
   ]
  },
  {
   "cell_type": "code",
   "execution_count": 24,
   "id": "f6556667-1ab4-4d47-aa75-6b9fe7add060",
   "metadata": {
    "execution": {
     "iopub.execute_input": "2022-11-22T05:45:41.820546Z",
     "iopub.status.busy": "2022-11-22T05:45:41.820546Z",
     "iopub.status.idle": "2022-11-22T05:45:41.842599Z",
     "shell.execute_reply": "2022-11-22T05:45:41.842599Z",
     "shell.execute_reply.started": "2022-11-22T05:45:41.820546Z"
    }
   },
   "outputs": [],
   "source": [
    "mapping = {\n",
    "    \"Mon\": 1,\n",
    "    \"Tue\": 2,\n",
    "    \"Wed\": 3,\n",
    "    \"Thu\": 4,\n",
    "    \"Fri\": 5,\n",
    "    \"Sat\": 6,\n",
    "    \"Sun\": 7,\n",
    "}\n",
    "\n",
    "df[\"flight_day\"] = df[\"flight_day\"].map(mapping)"
   ]
  },
  {
   "cell_type": "code",
   "execution_count": 25,
   "id": "4fe1394d-c698-4e85-a429-080f96d1b0ae",
   "metadata": {
    "execution": {
     "iopub.execute_input": "2022-11-22T05:45:42.428008Z",
     "iopub.status.busy": "2022-11-22T05:45:42.428008Z",
     "iopub.status.idle": "2022-11-22T05:45:42.444010Z",
     "shell.execute_reply": "2022-11-22T05:45:42.444010Z",
     "shell.execute_reply.started": "2022-11-22T05:45:42.428008Z"
    }
   },
   "outputs": [
    {
     "data": {
      "text/plain": [
       "array([6, 3, 4, 1, 7, 2, 5], dtype=int64)"
      ]
     },
     "execution_count": 25,
     "metadata": {},
     "output_type": "execute_result"
    }
   ],
   "source": [
    "df[\"flight_day\"].unique()"
   ]
  },
  {
   "cell_type": "code",
   "execution_count": 27,
   "id": "714fd85d-ca7e-4f6e-9dd1-54b443dd662e",
   "metadata": {
    "execution": {
     "iopub.execute_input": "2022-11-22T05:45:54.892512Z",
     "iopub.status.busy": "2022-11-22T05:45:54.892512Z",
     "iopub.status.idle": "2022-11-22T05:45:54.924512Z",
     "shell.execute_reply": "2022-11-22T05:45:54.924512Z",
     "shell.execute_reply.started": "2022-11-22T05:45:54.892512Z"
    },
    "tags": []
   },
   "outputs": [
    {
     "data": {
      "text/html": [
       "<div>\n",
       "<style scoped>\n",
       "    .dataframe tbody tr th:only-of-type {\n",
       "        vertical-align: middle;\n",
       "    }\n",
       "\n",
       "    .dataframe tbody tr th {\n",
       "        vertical-align: top;\n",
       "    }\n",
       "\n",
       "    .dataframe thead th {\n",
       "        text-align: right;\n",
       "    }\n",
       "</style>\n",
       "<table border=\"1\" class=\"dataframe\">\n",
       "  <thead>\n",
       "    <tr style=\"text-align: right;\">\n",
       "      <th></th>\n",
       "      <th>num_passengers</th>\n",
       "      <th>purchase_lead</th>\n",
       "      <th>length_of_stay</th>\n",
       "      <th>flight_hour</th>\n",
       "      <th>flight_day</th>\n",
       "      <th>wants_extra_baggage</th>\n",
       "      <th>wants_preferred_seat</th>\n",
       "      <th>wants_in_flight_meals</th>\n",
       "      <th>flight_duration</th>\n",
       "      <th>booking_complete</th>\n",
       "    </tr>\n",
       "  </thead>\n",
       "  <tbody>\n",
       "    <tr>\n",
       "      <th>count</th>\n",
       "      <td>50000.000000</td>\n",
       "      <td>50000.000000</td>\n",
       "      <td>50000.00000</td>\n",
       "      <td>50000.00000</td>\n",
       "      <td>50000.000000</td>\n",
       "      <td>50000.000000</td>\n",
       "      <td>50000.000000</td>\n",
       "      <td>50000.000000</td>\n",
       "      <td>50000.000000</td>\n",
       "      <td>50000.000000</td>\n",
       "    </tr>\n",
       "    <tr>\n",
       "      <th>mean</th>\n",
       "      <td>1.591240</td>\n",
       "      <td>84.940480</td>\n",
       "      <td>23.04456</td>\n",
       "      <td>9.06634</td>\n",
       "      <td>3.814420</td>\n",
       "      <td>0.668780</td>\n",
       "      <td>0.296960</td>\n",
       "      <td>0.427140</td>\n",
       "      <td>7.277561</td>\n",
       "      <td>0.149560</td>\n",
       "    </tr>\n",
       "    <tr>\n",
       "      <th>std</th>\n",
       "      <td>1.020165</td>\n",
       "      <td>90.451378</td>\n",
       "      <td>33.88767</td>\n",
       "      <td>5.41266</td>\n",
       "      <td>1.992792</td>\n",
       "      <td>0.470657</td>\n",
       "      <td>0.456923</td>\n",
       "      <td>0.494668</td>\n",
       "      <td>1.496863</td>\n",
       "      <td>0.356643</td>\n",
       "    </tr>\n",
       "    <tr>\n",
       "      <th>min</th>\n",
       "      <td>1.000000</td>\n",
       "      <td>0.000000</td>\n",
       "      <td>0.00000</td>\n",
       "      <td>0.00000</td>\n",
       "      <td>1.000000</td>\n",
       "      <td>0.000000</td>\n",
       "      <td>0.000000</td>\n",
       "      <td>0.000000</td>\n",
       "      <td>4.670000</td>\n",
       "      <td>0.000000</td>\n",
       "    </tr>\n",
       "    <tr>\n",
       "      <th>25%</th>\n",
       "      <td>1.000000</td>\n",
       "      <td>21.000000</td>\n",
       "      <td>5.00000</td>\n",
       "      <td>5.00000</td>\n",
       "      <td>2.000000</td>\n",
       "      <td>0.000000</td>\n",
       "      <td>0.000000</td>\n",
       "      <td>0.000000</td>\n",
       "      <td>5.620000</td>\n",
       "      <td>0.000000</td>\n",
       "    </tr>\n",
       "    <tr>\n",
       "      <th>50%</th>\n",
       "      <td>1.000000</td>\n",
       "      <td>51.000000</td>\n",
       "      <td>17.00000</td>\n",
       "      <td>9.00000</td>\n",
       "      <td>4.000000</td>\n",
       "      <td>1.000000</td>\n",
       "      <td>0.000000</td>\n",
       "      <td>0.000000</td>\n",
       "      <td>7.570000</td>\n",
       "      <td>0.000000</td>\n",
       "    </tr>\n",
       "    <tr>\n",
       "      <th>75%</th>\n",
       "      <td>2.000000</td>\n",
       "      <td>115.000000</td>\n",
       "      <td>28.00000</td>\n",
       "      <td>13.00000</td>\n",
       "      <td>5.000000</td>\n",
       "      <td>1.000000</td>\n",
       "      <td>1.000000</td>\n",
       "      <td>1.000000</td>\n",
       "      <td>8.830000</td>\n",
       "      <td>0.000000</td>\n",
       "    </tr>\n",
       "    <tr>\n",
       "      <th>max</th>\n",
       "      <td>9.000000</td>\n",
       "      <td>867.000000</td>\n",
       "      <td>778.00000</td>\n",
       "      <td>23.00000</td>\n",
       "      <td>7.000000</td>\n",
       "      <td>1.000000</td>\n",
       "      <td>1.000000</td>\n",
       "      <td>1.000000</td>\n",
       "      <td>9.500000</td>\n",
       "      <td>1.000000</td>\n",
       "    </tr>\n",
       "  </tbody>\n",
       "</table>\n",
       "</div>"
      ],
      "text/plain": [
       "       num_passengers  purchase_lead  length_of_stay  flight_hour  \\\n",
       "count    50000.000000   50000.000000     50000.00000  50000.00000   \n",
       "mean         1.591240      84.940480        23.04456      9.06634   \n",
       "std          1.020165      90.451378        33.88767      5.41266   \n",
       "min          1.000000       0.000000         0.00000      0.00000   \n",
       "25%          1.000000      21.000000         5.00000      5.00000   \n",
       "50%          1.000000      51.000000        17.00000      9.00000   \n",
       "75%          2.000000     115.000000        28.00000     13.00000   \n",
       "max          9.000000     867.000000       778.00000     23.00000   \n",
       "\n",
       "         flight_day  wants_extra_baggage  wants_preferred_seat  \\\n",
       "count  50000.000000         50000.000000          50000.000000   \n",
       "mean       3.814420             0.668780              0.296960   \n",
       "std        1.992792             0.470657              0.456923   \n",
       "min        1.000000             0.000000              0.000000   \n",
       "25%        2.000000             0.000000              0.000000   \n",
       "50%        4.000000             1.000000              0.000000   \n",
       "75%        5.000000             1.000000              1.000000   \n",
       "max        7.000000             1.000000              1.000000   \n",
       "\n",
       "       wants_in_flight_meals  flight_duration  booking_complete  \n",
       "count           50000.000000     50000.000000      50000.000000  \n",
       "mean                0.427140         7.277561          0.149560  \n",
       "std                 0.494668         1.496863          0.356643  \n",
       "min                 0.000000         4.670000          0.000000  \n",
       "25%                 0.000000         5.620000          0.000000  \n",
       "50%                 0.000000         7.570000          0.000000  \n",
       "75%                 1.000000         8.830000          0.000000  \n",
       "max                 1.000000         9.500000          1.000000  "
      ]
     },
     "execution_count": 27,
     "metadata": {},
     "output_type": "execute_result"
    }
   ],
   "source": [
    "df.describe()"
   ]
  },
  {
   "cell_type": "code",
   "execution_count": 28,
   "id": "bd24cb0c-df78-4c82-a737-fc8001ef6c7f",
   "metadata": {
    "execution": {
     "iopub.execute_input": "2022-11-22T05:46:13.649012Z",
     "iopub.status.busy": "2022-11-22T05:46:13.649012Z",
     "iopub.status.idle": "2022-11-22T05:46:13.672009Z",
     "shell.execute_reply": "2022-11-22T05:46:13.672009Z",
     "shell.execute_reply.started": "2022-11-22T05:46:13.649012Z"
    }
   },
   "outputs": [
    {
     "data": {
      "text/html": [
       "<div>\n",
       "<style scoped>\n",
       "    .dataframe tbody tr th:only-of-type {\n",
       "        vertical-align: middle;\n",
       "    }\n",
       "\n",
       "    .dataframe tbody tr th {\n",
       "        vertical-align: top;\n",
       "    }\n",
       "\n",
       "    .dataframe thead th {\n",
       "        text-align: right;\n",
       "    }\n",
       "</style>\n",
       "<table border=\"1\" class=\"dataframe\">\n",
       "  <thead>\n",
       "    <tr style=\"text-align: right;\">\n",
       "      <th></th>\n",
       "      <th>num_passengers</th>\n",
       "      <th>sales_channel</th>\n",
       "      <th>trip_type</th>\n",
       "      <th>purchase_lead</th>\n",
       "      <th>length_of_stay</th>\n",
       "      <th>flight_hour</th>\n",
       "      <th>flight_day</th>\n",
       "      <th>route</th>\n",
       "      <th>booking_origin</th>\n",
       "      <th>wants_extra_baggage</th>\n",
       "      <th>wants_preferred_seat</th>\n",
       "      <th>wants_in_flight_meals</th>\n",
       "      <th>flight_duration</th>\n",
       "      <th>booking_complete</th>\n",
       "    </tr>\n",
       "  </thead>\n",
       "  <tbody>\n",
       "    <tr>\n",
       "      <th>49995</th>\n",
       "      <td>2</td>\n",
       "      <td>Internet</td>\n",
       "      <td>RoundTrip</td>\n",
       "      <td>27</td>\n",
       "      <td>6</td>\n",
       "      <td>9</td>\n",
       "      <td>6</td>\n",
       "      <td>PERPNH</td>\n",
       "      <td>Australia</td>\n",
       "      <td>1</td>\n",
       "      <td>0</td>\n",
       "      <td>1</td>\n",
       "      <td>5.62</td>\n",
       "      <td>0</td>\n",
       "    </tr>\n",
       "    <tr>\n",
       "      <th>49996</th>\n",
       "      <td>1</td>\n",
       "      <td>Internet</td>\n",
       "      <td>RoundTrip</td>\n",
       "      <td>111</td>\n",
       "      <td>6</td>\n",
       "      <td>4</td>\n",
       "      <td>7</td>\n",
       "      <td>PERPNH</td>\n",
       "      <td>Australia</td>\n",
       "      <td>0</td>\n",
       "      <td>0</td>\n",
       "      <td>0</td>\n",
       "      <td>5.62</td>\n",
       "      <td>0</td>\n",
       "    </tr>\n",
       "    <tr>\n",
       "      <th>49997</th>\n",
       "      <td>1</td>\n",
       "      <td>Internet</td>\n",
       "      <td>RoundTrip</td>\n",
       "      <td>24</td>\n",
       "      <td>6</td>\n",
       "      <td>22</td>\n",
       "      <td>6</td>\n",
       "      <td>PERPNH</td>\n",
       "      <td>Australia</td>\n",
       "      <td>0</td>\n",
       "      <td>0</td>\n",
       "      <td>1</td>\n",
       "      <td>5.62</td>\n",
       "      <td>0</td>\n",
       "    </tr>\n",
       "    <tr>\n",
       "      <th>49998</th>\n",
       "      <td>1</td>\n",
       "      <td>Internet</td>\n",
       "      <td>RoundTrip</td>\n",
       "      <td>15</td>\n",
       "      <td>6</td>\n",
       "      <td>11</td>\n",
       "      <td>1</td>\n",
       "      <td>PERPNH</td>\n",
       "      <td>Australia</td>\n",
       "      <td>1</td>\n",
       "      <td>0</td>\n",
       "      <td>1</td>\n",
       "      <td>5.62</td>\n",
       "      <td>0</td>\n",
       "    </tr>\n",
       "    <tr>\n",
       "      <th>49999</th>\n",
       "      <td>1</td>\n",
       "      <td>Internet</td>\n",
       "      <td>RoundTrip</td>\n",
       "      <td>19</td>\n",
       "      <td>6</td>\n",
       "      <td>10</td>\n",
       "      <td>4</td>\n",
       "      <td>PERPNH</td>\n",
       "      <td>Australia</td>\n",
       "      <td>0</td>\n",
       "      <td>1</td>\n",
       "      <td>0</td>\n",
       "      <td>5.62</td>\n",
       "      <td>0</td>\n",
       "    </tr>\n",
       "  </tbody>\n",
       "</table>\n",
       "</div>"
      ],
      "text/plain": [
       "       num_passengers sales_channel  trip_type  purchase_lead  length_of_stay  \\\n",
       "49995               2      Internet  RoundTrip             27               6   \n",
       "49996               1      Internet  RoundTrip            111               6   \n",
       "49997               1      Internet  RoundTrip             24               6   \n",
       "49998               1      Internet  RoundTrip             15               6   \n",
       "49999               1      Internet  RoundTrip             19               6   \n",
       "\n",
       "       flight_hour  flight_day   route booking_origin  wants_extra_baggage  \\\n",
       "49995            9           6  PERPNH      Australia                    1   \n",
       "49996            4           7  PERPNH      Australia                    0   \n",
       "49997           22           6  PERPNH      Australia                    0   \n",
       "49998           11           1  PERPNH      Australia                    1   \n",
       "49999           10           4  PERPNH      Australia                    0   \n",
       "\n",
       "       wants_preferred_seat  wants_in_flight_meals  flight_duration  \\\n",
       "49995                     0                      1             5.62   \n",
       "49996                     0                      0             5.62   \n",
       "49997                     0                      1             5.62   \n",
       "49998                     0                      1             5.62   \n",
       "49999                     1                      0             5.62   \n",
       "\n",
       "       booking_complete  \n",
       "49995                 0  \n",
       "49996                 0  \n",
       "49997                 0  \n",
       "49998                 0  \n",
       "49999                 0  "
      ]
     },
     "execution_count": 28,
     "metadata": {},
     "output_type": "execute_result"
    }
   ],
   "source": [
    "df.tail()"
   ]
  },
  {
   "cell_type": "code",
   "execution_count": 32,
   "id": "dfb52936-5c13-4556-bb44-64c1301b50f4",
   "metadata": {
    "execution": {
     "iopub.execute_input": "2022-11-22T05:48:35.651032Z",
     "iopub.status.busy": "2022-11-22T05:48:35.651032Z",
     "iopub.status.idle": "2022-11-22T05:48:35.678030Z",
     "shell.execute_reply": "2022-11-22T05:48:35.678030Z",
     "shell.execute_reply.started": "2022-11-22T05:48:35.651032Z"
    },
    "tags": []
   },
   "outputs": [],
   "source": [
    "df.sales_channel = pd.Categorical(df.sales_channel)\n",
    "df.trip_type = pd.Categorical(df.trip_type)\n",
    "df.route = pd.Categorical(df.route)\n",
    "df.booking_origin = pd.Categorical(df.booking_origin)"
   ]
  },
  {
   "cell_type": "code",
   "execution_count": 33,
   "id": "40b87dd7-4fe4-4f7c-a0aa-7dafb1a01618",
   "metadata": {
    "execution": {
     "iopub.execute_input": "2022-11-22T05:48:36.475017Z",
     "iopub.status.busy": "2022-11-22T05:48:36.475017Z",
     "iopub.status.idle": "2022-11-22T05:48:36.499009Z",
     "shell.execute_reply": "2022-11-22T05:48:36.499009Z",
     "shell.execute_reply.started": "2022-11-22T05:48:36.475017Z"
    },
    "tags": []
   },
   "outputs": [
    {
     "name": "stdout",
     "output_type": "stream",
     "text": [
      "<class 'pandas.core.frame.DataFrame'>\n",
      "RangeIndex: 50000 entries, 0 to 49999\n",
      "Data columns (total 14 columns):\n",
      " #   Column                 Non-Null Count  Dtype   \n",
      "---  ------                 --------------  -----   \n",
      " 0   num_passengers         50000 non-null  int64   \n",
      " 1   sales_channel          50000 non-null  category\n",
      " 2   trip_type              50000 non-null  category\n",
      " 3   purchase_lead          50000 non-null  int64   \n",
      " 4   length_of_stay         50000 non-null  int64   \n",
      " 5   flight_hour            50000 non-null  int64   \n",
      " 6   flight_day             50000 non-null  int64   \n",
      " 7   route                  50000 non-null  category\n",
      " 8   booking_origin         50000 non-null  category\n",
      " 9   wants_extra_baggage    50000 non-null  int64   \n",
      " 10  wants_preferred_seat   50000 non-null  int64   \n",
      " 11  wants_in_flight_meals  50000 non-null  int64   \n",
      " 12  flight_duration        50000 non-null  float64 \n",
      " 13  booking_complete       50000 non-null  int64   \n",
      "dtypes: category(4), float64(1), int64(9)\n",
      "memory usage: 4.1 MB\n"
     ]
    }
   ],
   "source": [
    "df.info()"
   ]
  },
  {
   "cell_type": "code",
   "execution_count": 34,
   "id": "aec3895a-ebe0-45ee-acb4-3fa91a161f81",
   "metadata": {
    "execution": {
     "iopub.execute_input": "2022-11-22T05:49:33.967327Z",
     "iopub.status.busy": "2022-11-22T05:49:33.967327Z",
     "iopub.status.idle": "2022-11-22T05:49:34.575331Z",
     "shell.execute_reply": "2022-11-22T05:49:34.575331Z",
     "shell.execute_reply.started": "2022-11-22T05:49:33.967327Z"
    }
   },
   "outputs": [],
   "source": [
    "from sklearn.model_selection import train_test_split\n",
    "import statsmodels.api as sm"
   ]
  },
  {
   "cell_type": "code",
   "execution_count": 36,
   "id": "df159d5e-76fd-4514-bdc3-9034e11346c5",
   "metadata": {
    "execution": {
     "iopub.execute_input": "2022-11-22T05:50:02.378113Z",
     "iopub.status.busy": "2022-11-22T05:50:02.378113Z",
     "iopub.status.idle": "2022-11-22T05:50:02.395109Z",
     "shell.execute_reply": "2022-11-22T05:50:02.395109Z",
     "shell.execute_reply.started": "2022-11-22T05:50:02.378113Z"
    },
    "tags": []
   },
   "outputs": [],
   "source": [
    "df = sm.add_constant(df, prepend=False)"
   ]
  },
  {
   "cell_type": "code",
   "execution_count": 55,
   "id": "18967967-fbc2-488a-9640-f99ca41c6461",
   "metadata": {
    "execution": {
     "iopub.execute_input": "2022-11-22T05:59:51.332004Z",
     "iopub.status.busy": "2022-11-22T05:59:51.332004Z",
     "iopub.status.idle": "2022-11-22T05:59:51.498008Z",
     "shell.execute_reply": "2022-11-22T05:59:51.498008Z",
     "shell.execute_reply.started": "2022-11-22T05:59:51.332004Z"
    },
    "tags": []
   },
   "outputs": [],
   "source": [
    "df1 = pd.get_dummies(df, columns=['sales_channel', 'trip_type', 'route', 'booking_origin'])"
   ]
  },
  {
   "cell_type": "code",
   "execution_count": 76,
   "id": "ff98f604-56f6-4185-bc28-eabb45d7c9f3",
   "metadata": {
    "execution": {
     "iopub.execute_input": "2022-11-22T06:03:26.251028Z",
     "iopub.status.busy": "2022-11-22T06:03:26.251028Z",
     "iopub.status.idle": "2022-11-22T06:03:26.506703Z",
     "shell.execute_reply": "2022-11-22T06:03:26.506031Z",
     "shell.execute_reply.started": "2022-11-22T06:03:26.251028Z"
    },
    "tags": []
   },
   "outputs": [],
   "source": [
    "X_train, X_test, y_train, y_test = train_test_split(df1.drop('booking_complete', axis=1), \n",
    "                                                    df1.booking_complete, \n",
    "                                                    test_size=0.2,\n",
    "                                                    random_state=42)"
   ]
  },
  {
   "cell_type": "code",
   "execution_count": 77,
   "id": "fdb136c0-4c1f-4f87-8b73-85fba25adda5",
   "metadata": {
    "execution": {
     "iopub.execute_input": "2022-11-22T06:03:26.749565Z",
     "iopub.status.busy": "2022-11-22T06:03:26.749565Z",
     "iopub.status.idle": "2022-11-22T06:03:26.754175Z",
     "shell.execute_reply": "2022-11-22T06:03:26.754175Z",
     "shell.execute_reply.started": "2022-11-22T06:03:26.749565Z"
    },
    "tags": []
   },
   "outputs": [
    {
     "data": {
      "text/plain": [
       "(40000, 10000, 40000, 10000)"
      ]
     },
     "execution_count": 77,
     "metadata": {},
     "output_type": "execute_result"
    }
   ],
   "source": [
    "len(X_train), len(X_test), len(y_train), len(y_test)"
   ]
  },
  {
   "cell_type": "code",
   "execution_count": 81,
   "id": "e9970943-2f47-4d4d-bda9-732a39e8d9f8",
   "metadata": {
    "execution": {
     "iopub.execute_input": "2022-11-22T06:03:46.458913Z",
     "iopub.status.busy": "2022-11-22T06:03:46.457912Z",
     "iopub.status.idle": "2022-11-22T06:03:46.466908Z",
     "shell.execute_reply": "2022-11-22T06:03:46.466908Z",
     "shell.execute_reply.started": "2022-11-22T06:03:46.458913Z"
    },
    "tags": []
   },
   "outputs": [],
   "source": [
    "y_train = np.array(y_train).reshape(-1, 1)"
   ]
  },
  {
   "cell_type": "code",
   "execution_count": 82,
   "id": "bd7f3a34-3261-4d5b-b86f-095f22935fe2",
   "metadata": {
    "execution": {
     "iopub.execute_input": "2022-11-22T06:03:49.784017Z",
     "iopub.status.busy": "2022-11-22T06:03:49.783017Z",
     "iopub.status.idle": "2022-11-22T06:03:49.790017Z",
     "shell.execute_reply": "2022-11-22T06:03:49.790017Z",
     "shell.execute_reply.started": "2022-11-22T06:03:49.784017Z"
    }
   },
   "outputs": [
    {
     "data": {
      "text/plain": [
       "array([[0],\n",
       "       [1],\n",
       "       [0],\n",
       "       ...,\n",
       "       [1],\n",
       "       [0],\n",
       "       [0]], dtype=int64)"
      ]
     },
     "execution_count": 82,
     "metadata": {},
     "output_type": "execute_result"
    }
   ],
   "source": [
    "y_train"
   ]
  },
  {
   "cell_type": "code",
   "execution_count": 85,
   "id": "40c3a913-2039-49ec-8a80-2f1f90c4dd6b",
   "metadata": {
    "execution": {
     "iopub.execute_input": "2022-11-22T06:04:09.395004Z",
     "iopub.status.busy": "2022-11-22T06:04:09.395004Z",
     "iopub.status.idle": "2022-11-22T06:04:14.276929Z",
     "shell.execute_reply": "2022-11-22T06:04:14.275928Z",
     "shell.execute_reply.started": "2022-11-22T06:04:09.395004Z"
    },
    "tags": []
   },
   "outputs": [],
   "source": [
    "model = sm.OLS(y_train, X_train).fit()"
   ]
  },
  {
   "cell_type": "code",
   "execution_count": 87,
   "id": "f2d052df-153f-4536-8b9f-ca9c117f37dc",
   "metadata": {
    "execution": {
     "iopub.execute_input": "2022-11-22T06:05:02.067997Z",
     "iopub.status.busy": "2022-11-22T06:05:02.067997Z",
     "iopub.status.idle": "2022-11-22T06:05:02.266003Z",
     "shell.execute_reply": "2022-11-22T06:05:02.266003Z",
     "shell.execute_reply.started": "2022-11-22T06:05:02.067997Z"
    },
    "scrolled": true,
    "tags": []
   },
   "outputs": [
    {
     "name": "stdout",
     "output_type": "stream",
     "text": [
      "                            OLS Regression Results                            \n",
      "==============================================================================\n",
      "Dep. Variable:                      y   R-squared:                       0.165\n",
      "Model:                            OLS   Adj. R-squared:                  0.147\n",
      "Method:                 Least Squares   F-statistic:                     8.773\n",
      "Date:                Tue, 22 Nov 2022   Prob (F-statistic):               0.00\n",
      "Time:                        17:05:02   Log-Likelihood:                -11942.\n",
      "No. Observations:               40000   AIC:                         2.565e+04\n",
      "Df Residuals:                   39115   BIC:                         3.326e+04\n",
      "Df Model:                         884                                         \n",
      "Covariance Type:            nonrobust                                         \n",
      "=======================================================================================================\n",
      "                                          coef    std err          t      P>|t|      [0.025      0.975]\n",
      "-------------------------------------------------------------------------------------------------------\n",
      "num_passengers                         -0.0017      0.002     -0.976      0.329      -0.005       0.002\n",
      "purchase_lead                          -0.0001   1.96e-05     -6.369      0.000      -0.000   -8.66e-05\n",
      "length_of_stay                         -0.0003    5.4e-05     -5.666      0.000      -0.000      -0.000\n",
      "flight_hour                             0.0007      0.000      2.248      0.025    8.99e-05       0.001\n",
      "flight_day                             -0.0009      0.001     -1.069      0.285      -0.003       0.001\n",
      "wants_extra_baggage                     0.0364      0.004      9.453      0.000       0.029       0.044\n",
      "wants_preferred_seat                    0.0331      0.004      8.308      0.000       0.025       0.041\n",
      "wants_in_flight_meals                   0.0257      0.004      6.945      0.000       0.018       0.033\n",
      "flight_duration                        -0.0067      0.004     -1.921      0.055      -0.014       0.000\n",
      "const                                   0.0583      0.019      3.055      0.002       0.021       0.096\n",
      "sales_channel_Internet                  0.0639      0.010      6.567      0.000       0.045       0.083\n",
      "sales_channel_Mobile                   -0.0057      0.010     -0.562      0.574      -0.025       0.014\n",
      "trip_type_CircleTrip                    0.0238      0.026      0.928      0.353      -0.026       0.074\n",
      "trip_type_OneWay                       -0.0089      0.018     -0.501      0.617      -0.044       0.026\n",
      "trip_type_RoundTrip                     0.0433      0.012      3.536      0.000       0.019       0.067\n",
      "route_AKLDEL                           -0.0544      0.083     -0.654      0.513      -0.218       0.109\n",
      "route_AKLHGH                           -0.1196      0.329     -0.363      0.716      -0.765       0.526\n",
      "route_AKLHND                           -0.0251      0.234     -0.107      0.915      -0.483       0.433\n",
      "route_AKLICN                           -0.0875      0.043     -2.052      0.040      -0.171      -0.004\n",
      "route_AKLKIX                           -0.0438      0.148     -0.296      0.767      -0.333       0.246\n",
      "route_AKLKTM                            0.0221      0.149      0.149      0.882      -0.269       0.314\n",
      "route_AKLKUL                            0.0791      0.013      6.083      0.000       0.054       0.105\n",
      "route_AKLMRU                           -0.0756      0.166     -0.455      0.649      -0.401       0.250\n",
      "route_AKLPEK                            0.6019      0.165      3.649      0.000       0.279       0.925\n",
      "route_AKLPVG                            0.1537      0.190      0.808      0.419      -0.219       0.527\n",
      "route_AKLTPE                           -0.1173      0.055     -2.135      0.033      -0.225      -0.010\n",
      "route_AORICN                            0.1394      0.083      1.681      0.093      -0.023       0.302\n",
      "route_AORKIX                            0.1364      0.096      1.425      0.154      -0.051       0.324\n",
      "route_AORKTM                           -0.0913      0.086     -1.064      0.287      -0.260       0.077\n",
      "route_AORMEL                            0.1207      0.076      1.589      0.112      -0.028       0.270\n",
      "route_AORPER                            0.8445      0.333      2.534      0.011       0.191       1.498\n",
      "route_AORPUS                            0.8726      0.330      2.648      0.008       0.227       1.519\n",
      "route_BBIMEL                           -0.1253      0.329     -0.381      0.703      -0.770       0.519\n",
      "route_BBIOOL                           -0.0746      0.233     -0.321      0.748      -0.531       0.381\n",
      "route_BBIPER                        -6.042e-14    6.3e-14     -0.959      0.337   -1.84e-13     6.3e-14\n",
      "route_BBISYD                            0.1194      0.110      1.086      0.278      -0.096       0.335\n",
      "route_BDOCTS                           -0.1886      0.233     -0.810      0.418      -0.645       0.268\n",
      "route_BDOCTU                           -0.2199      0.165     -1.334      0.182      -0.543       0.103\n",
      "route_BDOHGH                           -0.1079      0.076     -1.415      0.157      -0.257       0.042\n",
      "route_BDOICN                            0.0366      0.065      0.562      0.574      -0.091       0.164\n",
      "route_BDOIKA                           -0.1715      0.117     -1.465      0.143      -0.401       0.058\n",
      "route_BDOKIX                            0.1090      0.049      2.208      0.027       0.012       0.206\n",
      "route_BDOMEL                            0.1013      0.074      1.368      0.171      -0.044       0.247\n",
      "route_BDOOOL                            0.0580      0.125      0.465      0.642      -0.186       0.302\n",
      "route_BDOPEK                           -0.2127      0.110     -1.928      0.054      -0.429       0.004\n",
      "route_BDOPER                            0.1150      0.083      1.390      0.165      -0.047       0.277\n",
      "route_BDOPUS                           -0.0431      0.110     -0.391      0.696      -0.259       0.173\n",
      "route_BDOPVG                            0.4359      0.110      3.954      0.000       0.220       0.652\n",
      "route_BDOSYD                            0.0928      0.066      1.400      0.162      -0.037       0.223\n",
      "route_BDOTPE                            0.0199      0.105      0.191      0.849      -0.185       0.225\n",
      "route_BDOWUH                         2.866e-13    1.4e-13      2.053      0.040    1.29e-14     5.6e-13\n",
      "route_BDOXIY                           -0.2062      0.190     -1.084      0.278      -0.579       0.167\n",
      "route_BKICKG                           -0.1936      0.135     -1.438      0.150      -0.457       0.070\n",
      "route_BKICTS                           -0.0964      0.052     -1.866      0.062      -0.198       0.005\n",
      "route_BKICTU                            0.1031      0.066      1.551      0.121      -0.027       0.233\n",
      "route_BKIDEL                            0.1115      0.190      0.586      0.558      -0.261       0.484\n",
      "route_BKIHND                            0.0966      0.035      2.777      0.005       0.028       0.165\n",
      "route_BKIICN                            0.2482      0.027      9.214      0.000       0.195       0.301\n",
      "route_BKIKIX                            0.1093      0.040      2.727      0.006       0.031       0.188\n",
      "route_BKIKTM                            0.6642      0.139      4.772      0.000       0.391       0.937\n",
      "route_BKIMEL                            0.1391      0.029      4.740      0.000       0.082       0.197\n",
      "route_BKIMRU                        -1.448e-13   6.59e-14     -2.198      0.028   -2.74e-13   -1.57e-14\n",
      "route_BKIOOL                            0.0100      0.038      0.260      0.795      -0.065       0.085\n",
      "route_BKIPEK                            0.0239      0.037      0.644      0.519      -0.049       0.097\n",
      "route_BKIPER                            0.0156      0.032      0.486      0.627      -0.047       0.078\n",
      "route_BKIPUS                            0.2623      0.042      6.245      0.000       0.180       0.345\n",
      "route_BKIPVG                           -0.0346      0.062     -0.560      0.575      -0.156       0.086\n",
      "route_BKISYD                            0.1045      0.038      2.739      0.006       0.030       0.179\n",
      "route_BKIXIY                            0.0384      0.088      0.434      0.664      -0.135       0.212\n",
      "route_BLRICN                           -0.1497      0.148     -1.014      0.311      -0.439       0.140\n",
      "route_BLRMEL                            0.0787      0.043      1.831      0.067      -0.006       0.163\n",
      "route_BLRPER                            0.0061      0.046      0.133      0.894      -0.083       0.096\n",
      "route_BLRSYD                           -0.0158      0.038     -0.421      0.674      -0.090       0.058\n",
      "route_BOMMEL                           -0.1027      0.104     -0.983      0.325      -0.307       0.102\n",
      "route_BOMOOL                           -0.0669      0.233     -0.287      0.774      -0.523       0.389\n",
      "route_BOMPER                           -0.1654      0.125     -1.325      0.185      -0.410       0.079\n",
      "route_BOMSYD                           -0.0766      0.078     -0.978      0.328      -0.230       0.077\n",
      "route_BTJJED                           -0.2372      0.329     -0.722      0.470      -0.881       0.407\n",
      "route_BTUCKG                           -0.2811      0.233     -1.208      0.227      -0.737       0.175\n",
      "route_BTUICN                            0.0712      0.063      1.136      0.256      -0.052       0.194\n",
      "route_BTUPER                           -0.0197      0.044     -0.447      0.655      -0.106       0.067\n",
      "route_BTUSYD                           -0.2844      0.190     -1.495      0.135      -0.657       0.088\n",
      "route_BTUWUH                         1.607e-13   9.23e-14      1.740      0.082   -2.03e-14    3.42e-13\n",
      "route_BWNCKG                           -0.3260      0.084     -3.886      0.000      -0.490      -0.162\n",
      "route_BWNDEL                           -0.1257      0.101     -1.251      0.211      -0.323       0.071\n",
      "route_BWNHGH                           -0.1806      0.190     -0.949      0.343      -0.554       0.192\n",
      "route_BWNIKA                           -0.2041      0.239     -0.854      0.393      -0.673       0.264\n",
      "route_BWNKTM                           -0.0189      0.090     -0.211      0.833      -0.195       0.157\n",
      "route_BWNMEL                           -0.1705      0.150     -1.140      0.254      -0.464       0.123\n",
      "route_BWNOOL                           -0.0398      0.088     -0.454      0.650      -0.211       0.132\n",
      "route_BWNPER                            0.0441      0.063      0.705      0.481      -0.079       0.167\n",
      "route_BWNSYD                           -0.0577      0.127     -0.455      0.649      -0.307       0.191\n",
      "route_BWNTPE                           -0.0506      0.061     -0.830      0.407      -0.170       0.069\n",
      "route_BWNWUH                            0.8144      0.329      2.474      0.013       0.169       1.460\n",
      "route_CANDEL                           -0.0393      0.125     -0.314      0.754      -0.285       0.206\n",
      "route_CANIKA                           -0.1483      0.172     -0.862      0.389      -0.485       0.189\n",
      "route_CANMEL                           -0.0834      0.078     -1.070      0.285      -0.236       0.069\n",
      "route_CANMRU                            0.0885      0.118      0.750      0.453      -0.143       0.320\n",
      "route_CANOOL                            0.1237      0.110      1.125      0.260      -0.092       0.339\n",
      "route_CANPER                            0.0145      0.045      0.325      0.746      -0.073       0.102\n",
      "route_CANSYD                            0.0709      0.059      1.204      0.228      -0.044       0.186\n",
      "route_CCUMEL                            0.0393      0.043      0.918      0.359      -0.045       0.123\n",
      "route_CCUMRU                           -0.1386      0.337     -0.412      0.681      -0.799       0.521\n",
      "route_CCUOOL                            0.0222      0.063      0.353      0.724      -0.101       0.145\n",
      "route_CCUPER                           -0.0979      0.057     -1.712      0.087      -0.210       0.014\n",
      "route_CCUSYD                            0.0078      0.037      0.214      0.831      -0.064       0.079\n",
      "route_CCUTPE                           -0.0699      0.067     -1.045      0.296      -0.201       0.061\n",
      "route_CEBMEL                            0.0366      0.037      0.977      0.329      -0.037       0.110\n",
      "route_CEBOOL                            0.0259      0.040      0.643      0.520      -0.053       0.105\n",
      "route_CEBPER                           -0.0483      0.147     -0.327      0.743      -0.337       0.241\n",
      "route_CEBSYD                            0.0727      0.095      0.762      0.446      -0.114       0.260\n",
      "route_CGKCKG                           -0.0419      0.148     -0.284      0.776      -0.331       0.248\n",
      "route_CGKCTS                            0.1697      0.064      2.636      0.008       0.044       0.296\n",
      "route_CGKCTU                           -0.0473      0.071     -0.666      0.505      -0.186       0.092\n",
      "route_CGKDEL                           -0.1017      0.043     -2.358      0.018      -0.186      -0.017\n",
      "route_CGKHGH                           -0.0523      0.061     -0.859      0.390      -0.172       0.067\n",
      "route_CGKHND                            0.0996      0.021      4.756      0.000       0.059       0.141\n",
      "route_CGKICN                           -0.0036      0.020     -0.180      0.857      -0.043       0.036\n",
      "route_CGKIKA                           -0.1971      0.075     -2.643      0.008      -0.343      -0.051\n",
      "route_CGKJED                            0.0996      0.110      0.902      0.367      -0.117       0.316\n",
      "route_CGKKIX                            0.1065      0.022      4.881      0.000       0.064       0.149\n",
      "route_CGKKTM                            0.3449      0.071      4.828      0.000       0.205       0.485\n",
      "route_CGKMEL                            0.1703      0.032      5.266      0.000       0.107       0.234\n",
      "route_CGKMRU                           -0.1892      0.119     -1.586      0.113      -0.423       0.045\n",
      "route_CGKOOL                            0.1336      0.046      2.902      0.004       0.043       0.224\n",
      "route_CGKPEK                           -0.0194      0.033     -0.580      0.562      -0.085       0.046\n",
      "route_CGKPER                            0.0270      0.044      0.612      0.541      -0.059       0.113\n",
      "route_CGKPUS                            0.0297      0.043      0.694      0.488      -0.054       0.113\n",
      "route_CGKPVG                            0.0583      0.036      1.615      0.106      -0.012       0.129\n",
      "route_CGKSYD                            0.0311      0.029      1.082      0.279      -0.025       0.088\n",
      "route_CGKTPE                           -0.0096      0.034     -0.279      0.780      -0.077       0.058\n",
      "route_CGKWUH                           -0.2021      0.190     -1.062      0.288      -0.575       0.171\n",
      "route_CGKXIY                           -0.0746      0.078     -0.951      0.341      -0.228       0.079\n",
      "route_CKGCOK                           -0.1670      0.165     -1.013      0.311      -0.490       0.156\n",
      "route_CKGDPS                           -0.0799      0.080     -0.993      0.321      -0.238       0.078\n",
      "route_CKGHKT                           -0.2103      0.329     -0.639      0.523      -0.855       0.434\n",
      "route_CKGJHB                           -0.2488      0.190     -1.309      0.191      -0.622       0.124\n",
      "route_CKGKCH                           -0.1245      0.117     -1.067      0.286      -0.353       0.104\n",
      "route_CKGKNO                            0.7335      0.329      2.229      0.026       0.088       1.378\n",
      "route_CKGLGK                            0.1809      0.190      0.951      0.342      -0.192       0.554\n",
      "route_CKGLOP                           -0.1294      0.329     -0.393      0.694      -0.774       0.515\n",
      "route_CKGMAA                           -0.2163      0.190     -1.137      0.255      -0.589       0.156\n",
      "route_CKGMEL                           -0.1220      0.190     -0.642      0.521      -0.495       0.251\n",
      "route_CKGMRU                            0.0923      0.165      0.558      0.577      -0.232       0.416\n",
      "route_CKGMYY                            0.0710      0.190      0.374      0.709      -0.302       0.444\n",
      "route_CKGOOL                            0.1476      0.165      0.897      0.370      -0.175       0.470\n",
      "route_CKGPEN                           -0.2324      0.135     -1.722      0.085      -0.497       0.032\n",
      "route_CKGPER                           -0.1343      0.135     -0.998      0.318      -0.398       0.130\n",
      "route_CKGPNH                            0.1006      0.190      0.528      0.597      -0.273       0.474\n",
      "route_CKGSBW                            0.0777      0.190      0.409      0.683      -0.295       0.450\n",
      "route_CKGSGN                            0.7629      0.330      2.313      0.021       0.117       1.409\n",
      "route_CKGSIN                           -0.0048      0.165     -0.029      0.977      -0.328       0.319\n",
      "route_CKGSUB                            0.0748      0.190      0.393      0.694      -0.298       0.447\n",
      "route_CKGSYD                           -0.1054      0.147     -0.716      0.474      -0.394       0.183\n",
      "route_CKGTGG                           -0.1539      0.233     -0.661      0.509      -0.610       0.302\n",
      "route_CKGTRZ                           -0.1901      0.105     -1.816      0.069      -0.395       0.015\n",
      "route_CKGTWU                           -0.1496      0.100     -1.498      0.134      -0.345       0.046\n",
      "route_CMBCTS                        -3.102e-13   3.41e-13     -0.911      0.362   -9.78e-13    3.57e-13\n",
      "route_CMBCTU                           -0.1966      0.165     -1.193      0.233      -0.519       0.126\n",
      "route_CMBHGH                            0.0081      0.096      0.084      0.933      -0.179       0.196\n",
      "route_CMBHND                           -0.0048      0.068     -0.071      0.943      -0.138       0.129\n",
      "route_CMBICN                           -0.1087      0.060     -1.803      0.071      -0.227       0.009\n",
      "route_CMBKIX                           -0.0066      0.043     -0.152      0.879      -0.092       0.079\n",
      "route_CMBMEL                           -0.0485      0.019     -2.546      0.011      -0.086      -0.011\n",
      "route_CMBMRU                           -0.1571      0.234     -0.671      0.502      -0.616       0.302\n",
      "route_CMBOOL                           -0.0394      0.034     -1.162      0.245      -0.106       0.027\n",
      "route_CMBPEK                            0.0280      0.065      0.429      0.668      -0.100       0.156\n",
      "route_CMBPER                           -0.0653      0.032     -2.052      0.040      -0.128      -0.003\n",
      "route_CMBPVG                            0.0006      0.064      0.010      0.992      -0.125       0.126\n",
      "route_CMBSYD                           -0.0569      0.023     -2.521      0.012      -0.101      -0.013\n",
      "route_CMBWUH                           -0.2000      0.329     -0.608      0.543      -0.845       0.445\n",
      "route_CNXDEL                           -0.1067      0.329     -0.324      0.746      -0.752       0.539\n",
      "route_CNXHND                            0.0402      0.052      0.768      0.442      -0.062       0.143\n",
      "route_CNXICN                           -0.1196      0.080     -1.487      0.137      -0.277       0.038\n",
      "route_CNXKIX                           -0.0058      0.046     -0.127      0.899      -0.096       0.085\n",
      "route_CNXMEL                            0.0901      0.047      1.914      0.056      -0.002       0.182\n",
      "route_CNXOOL                            0.0137      0.042      0.326      0.745      -0.069       0.096\n",
      "route_CNXPEK                            0.2372      0.086      2.774      0.006       0.070       0.405\n",
      "route_CNXPER                           -0.0416      0.036     -1.169      0.242      -0.111       0.028\n",
      "route_CNXPUS                           -0.1198      0.165     -0.726      0.468      -0.443       0.204\n",
      "route_CNXPVG                            0.4674      0.135      3.470      0.001       0.203       0.731\n",
      "route_CNXSYD                           -0.0418      0.050     -0.839      0.402      -0.139       0.056\n",
      "route_CNXTPE                           -0.1092      0.054     -2.011      0.044      -0.216      -0.003\n",
      "route_CNXXIY                           -0.1710      0.329     -0.520      0.603      -0.816       0.474\n",
      "route_COKCTS                           -0.1409      0.329     -0.428      0.669      -0.786       0.504\n",
      "route_COKCTU                           -0.1221      0.083     -1.473      0.141      -0.285       0.040\n",
      "route_COKHGH                            0.0588      0.058      1.009      0.313      -0.055       0.173\n",
      "route_COKICN                           -0.0462      0.058     -0.793      0.428      -0.160       0.068\n",
      "route_COKKIX                           -0.0174      0.056     -0.312      0.755      -0.126       0.092\n",
      "route_COKMEL                           -0.0168      0.019     -0.873      0.383      -0.055       0.021\n",
      "route_COKOOL                           -0.0548      0.030     -1.800      0.072      -0.115       0.005\n",
      "route_COKPER                           -0.0458      0.022     -2.094      0.036      -0.089      -0.003\n",
      "route_COKPUS                           -0.0114      0.117     -0.097      0.922      -0.241       0.218\n",
      "route_COKSYD                           -0.0161      0.018     -0.875      0.382      -0.052       0.020\n",
      "route_COKTPE                           -0.1219      0.066     -1.850      0.064      -0.251       0.007\n",
      "route_COKWUH                           -0.3570      0.329     -1.084      0.278      -1.003       0.288\n",
      "route_CRKMEL                           -0.0112      0.078     -0.144      0.885      -0.164       0.142\n",
      "route_CRKOOL                            0.1141      0.053      2.160      0.031       0.011       0.218\n",
      "route_CRKSYD                           -0.0841      0.148     -0.569      0.569      -0.374       0.205\n",
      "route_CSXMRU                           -0.1809      0.330     -0.549      0.583      -0.827       0.465\n",
      "route_CSXPER                         4.495e-13   2.43e-13      1.850      0.064   -2.67e-14    9.26e-13\n",
      "route_CSXSYD                            0.0083      0.329      0.025      0.980      -0.637       0.653\n",
      "route_CTSDMK                            0.0879      0.023      3.750      0.000       0.042       0.134\n",
      "route_CTSDPS                            0.0399      0.053      0.751      0.453      -0.064       0.144\n",
      "route_CTSHKT                           -0.1400      0.074     -1.884      0.060      -0.286       0.006\n",
      "route_CTSJHB                            0.2994      0.085      3.502      0.000       0.132       0.467\n",
      "route_CTSJOG                            0.0153      0.165      0.093      0.926      -0.308       0.339\n",
      "route_CTSKBR                            0.1038      0.190      0.546      0.585      -0.269       0.476\n",
      "route_CTSKCH                           -0.0629      0.100     -0.632      0.528      -0.258       0.132\n",
      "route_CTSKNO                           -0.1233      0.135     -0.915      0.360      -0.387       0.141\n",
      "route_CTSLGK                           -0.0674      0.092     -0.732      0.464      -0.248       0.113\n",
      "route_CTSMEL                           -0.0331      0.165     -0.201      0.841      -0.356       0.290\n",
      "route_CTSMYY                           -0.0075      0.148     -0.051      0.960      -0.297       0.282\n",
      "route_CTSOOL                            0.1258      0.104      1.206      0.228      -0.079       0.330\n",
      "route_CTSPEN                            0.0887      0.043      2.055      0.040       0.004       0.173\n",
      "route_CTSPER                            0.0624      0.085      0.731      0.465      -0.105       0.230\n",
      "route_CTSSBW                           -0.2331      0.135     -1.731      0.083      -0.497       0.031\n",
      "route_CTSSGN                            0.2078      0.106      1.962      0.050       0.000       0.415\n",
      "route_CTSSIN                            0.0165      0.045      0.370      0.712      -0.071       0.104\n",
      "route_CTSSUB                            0.1045      0.105      1.000      0.317      -0.100       0.309\n",
      "route_CTSSYD                            0.1513      0.104      1.451      0.147      -0.053       0.356\n",
      "route_CTUDMK                           -0.1224      0.233     -0.526      0.599      -0.579       0.334\n",
      "route_CTUDPS                            0.0191      0.040      0.476      0.634      -0.060       0.098\n",
      "route_CTUHKT                            0.1226      0.058      2.126      0.034       0.010       0.236\n",
      "route_CTUIKA                           -0.1649      0.233     -0.708      0.479      -0.622       0.292\n",
      "route_CTUJHB                            0.0758      0.083      0.911      0.362      -0.087       0.239\n",
      "route_CTUKBR                           -0.1821      0.233     -0.782      0.434      -0.638       0.274\n",
      "route_CTUKBV                            0.0113      0.105      0.108      0.914      -0.194       0.216\n",
      "route_CTUKCH                           -0.0411      0.071     -0.579      0.562      -0.180       0.098\n",
      "route_CTUKNO                            0.0964      0.190      0.507      0.612      -0.276       0.469\n",
      "route_CTULGK                            0.1086      0.100      1.088      0.276      -0.087       0.304\n",
      "route_CTULOP                           -0.1906      0.233     -0.819      0.413      -0.647       0.266\n",
      "route_CTUMAA                            0.0592      0.165      0.360      0.719      -0.264       0.382\n",
      "route_CTUMEL                           -0.0284      0.069     -0.410      0.682      -0.164       0.107\n",
      "route_CTUMLE                            0.1409      0.190      0.741      0.459      -0.232       0.514\n",
      "route_CTUMRU                           -0.1394      0.148     -0.943      0.346      -0.429       0.150\n",
      "route_CTUMYY                            0.0322      0.191      0.169      0.866      -0.341       0.406\n",
      "route_CTUOOL                            0.0272      0.110      0.247      0.805      -0.188       0.243\n",
      "route_CTUPEN                            0.1944      0.054      3.632      0.000       0.090       0.299\n",
      "route_CTUPER                           -0.0857      0.080     -1.067      0.286      -0.243       0.072\n",
      "route_CTUREP                            0.2930      0.233      1.259      0.208      -0.163       0.749\n",
      "route_CTUSBW                           -0.1030      0.125     -0.826      0.409      -0.347       0.141\n",
      "route_CTUSGN                            0.2627      0.233      1.128      0.259      -0.194       0.719\n",
      "route_CTUSIN                            0.0476      0.071      0.670      0.503      -0.092       0.187\n",
      "route_CTUSRG                        -4.118e-13   2.34e-13     -1.757      0.079   -8.71e-13    4.75e-14\n",
      "route_CTUSUB                           -0.2308      0.190     -1.214      0.225      -0.603       0.142\n",
      "route_CTUSYD                            0.0629      0.069      0.908      0.364      -0.073       0.199\n",
      "route_CTUTGG                           -0.0924      0.076     -1.212      0.226      -0.242       0.057\n",
      "route_CTUTRZ                           -0.0172      0.125     -0.138      0.890      -0.262       0.227\n",
      "route_CTUTWU                            0.1179      0.057      2.051      0.040       0.005       0.231\n",
      "route_CTUURT                            0.5586      0.190      2.939      0.003       0.186       0.931\n",
      "route_CXRMEL                            0.9026      0.329      2.744      0.006       0.258       1.547\n",
      "route_DACHGH                           -0.2774      0.235     -1.179      0.238      -0.739       0.184\n",
      "route_DACHND                           -0.1109      0.150     -0.739      0.460      -0.405       0.183\n",
      "route_DACICN                           -0.1250      0.111     -1.130      0.258      -0.342       0.092\n",
      "route_DACKIX                           -0.1286      0.117     -1.098      0.272      -0.358       0.101\n",
      "route_DACMEL                           -0.0681      0.042     -1.608      0.108      -0.151       0.015\n",
      "route_DACMRU                           -0.0866      0.339     -0.256      0.798      -0.750       0.577\n",
      "route_DACOOL                           -0.0608      0.076     -0.800      0.424      -0.210       0.088\n",
      "route_DACPEK                        -2.923e-13   1.59e-13     -1.842      0.066   -6.03e-13    1.88e-14\n",
      "route_DACPER                           -0.0548      0.067     -0.822      0.411      -0.185       0.076\n",
      "route_DACPUS                        -4.139e-13   2.57e-13     -1.610      0.107   -9.18e-13    9.01e-14\n",
      "route_DACSYD                           -0.0600      0.029     -2.090      0.037      -0.116      -0.004\n",
      "route_DACTPE                           -0.1645      0.166     -0.993      0.321      -0.489       0.160\n",
      "route_DADMEL                            0.0080      0.045      0.178      0.859      -0.080       0.096\n",
      "route_DADOOL                           -0.0149      0.052     -0.289      0.773      -0.116       0.086\n",
      "route_DADSYD                           -0.0201      0.057     -0.352      0.725      -0.132       0.092\n",
      "route_DELDMK                           -0.1576      0.080     -1.982      0.047      -0.314      -0.002\n",
      "route_DELDPS                           -0.1539      0.031     -4.894      0.000      -0.215      -0.092\n",
      "route_DELHKG                           -0.1688      0.081     -2.087      0.037      -0.327      -0.010\n",
      "route_DELHKT                           -0.1692      0.081     -2.088      0.037      -0.328      -0.010\n",
      "route_DELHND                            0.0366      0.105      0.350      0.726      -0.169       0.242\n",
      "route_DELJHB                            0.0976      0.135      0.725      0.469      -0.166       0.362\n",
      "route_DELJOG                           -0.1578      0.166     -0.953      0.341      -0.482       0.167\n",
      "route_DELKBR                         2.517e-13   2.07e-13      1.216      0.224   -1.54e-13    6.57e-13\n",
      "route_DELKBV                           -0.0424      0.105     -0.404      0.686      -0.248       0.163\n",
      "route_DELKCH                           -0.2197      0.233     -0.943      0.346      -0.676       0.237\n",
      "route_DELKIX                           -0.0715      0.117     -0.610      0.542      -0.301       0.158\n",
      "route_DELKNO                           -0.2155      0.092     -2.346      0.019      -0.396      -0.035\n",
      "route_DELLGK                           -0.1578      0.075     -2.105      0.035      -0.305      -0.011\n",
      "route_DELMEL                           -0.0699      0.024     -2.865      0.004      -0.118      -0.022\n",
      "route_DELMFM                           -0.2455      0.149     -1.644      0.100      -0.538       0.047\n",
      "route_DELMNL                           -0.1042      0.046     -2.286      0.022      -0.194      -0.015\n",
      "route_DELMRU                           -0.1526      0.112     -1.359      0.174      -0.373       0.067\n",
      "route_DELMYY                           -0.3124      0.195     -1.603      0.109      -0.694       0.070\n",
      "route_DELOOL                           -0.0727      0.068     -1.070      0.285      -0.206       0.060\n",
      "route_DELPEN                           -0.0393      0.076     -0.516      0.606      -0.188       0.110\n",
      "route_DELPER                           -0.0910      0.034     -2.697      0.007      -0.157      -0.025\n",
      "route_DELPNH                           -0.0741      0.093     -0.801      0.423      -0.256       0.107\n",
      "route_DELREP                           -0.2074      0.329     -0.629      0.529      -0.853       0.438\n",
      "route_DELRGN                           -0.1835      0.330     -0.557      0.578      -0.830       0.463\n",
      "route_DELSBW                           -0.2340      0.233     -1.005      0.315      -0.691       0.223\n",
      "route_DELSGN                            0.0044      0.073      0.060      0.952      -0.140       0.148\n",
      "route_DELSIN                           -0.1631      0.051     -3.206      0.001      -0.263      -0.063\n",
      "route_DELSUB                           -0.0858      0.089     -0.970      0.332      -0.259       0.088\n",
      "route_DELSYD                           -0.0983      0.026     -3.710      0.000      -0.150      -0.046\n",
      "route_DELSZX                           -0.1747      0.329     -0.530      0.596      -0.821       0.471\n",
      "route_DELURT                           -0.1536      0.190     -0.807      0.420      -0.527       0.220\n",
      "route_DMKHGH                            0.3979      0.125      3.185      0.001       0.153       0.643\n",
      "route_DMKHND                            0.0198      0.029      0.680      0.496      -0.037       0.077\n",
      "route_DMKICN                           -0.0255      0.025     -1.024      0.306      -0.074       0.023\n",
      "route_DMKIKA                           -0.1762      0.066     -2.676      0.007      -0.305      -0.047\n",
      "route_DMKKIX                            0.0678      0.017      3.973      0.000       0.034       0.101\n",
      "route_DMKKTM                            0.1195      0.127      0.938      0.348      -0.130       0.369\n",
      "route_DMKMEL                           -0.0090      0.022     -0.417      0.677      -0.051       0.033\n",
      "route_DMKMRU                            0.0614      0.096      0.637      0.524      -0.128       0.250\n",
      "route_DMKOOL                           -0.0143      0.017     -0.850      0.395      -0.047       0.019\n",
      "route_DMKPEK                            0.0110      0.042      0.265      0.791      -0.070       0.092\n",
      "route_DMKPER                           -0.0443      0.017     -2.682      0.007      -0.077      -0.012\n",
      "route_DMKPUS                           -0.1162      0.043     -2.708      0.007      -0.200      -0.032\n",
      "route_DMKPVG                           -0.0634      0.059     -1.069      0.285      -0.180       0.053\n",
      "route_DMKSYD                           -0.0250      0.018     -1.405      0.160      -0.060       0.010\n",
      "route_DMKTPE                           -0.0068      0.046     -0.146      0.884      -0.098       0.084\n",
      "route_DPSHGH                            0.1674      0.038      4.353      0.000       0.092       0.243\n",
      "route_DPSHND                            0.0552      0.023      2.406      0.016       0.010       0.100\n",
      "route_DPSICN                           -0.0241      0.018     -1.378      0.168      -0.058       0.010\n",
      "route_DPSIKA                           -0.1731      0.165     -1.050      0.294      -0.496       0.150\n",
      "route_DPSKIX                            0.0948      0.022      4.299      0.000       0.052       0.138\n",
      "route_DPSKTM                           -0.0119      0.079     -0.151      0.880      -0.167       0.144\n",
      "route_DPSMEL                            0.0065      0.032      0.203      0.839      -0.056       0.069\n",
      "route_DPSMRU                           -0.0458      0.151     -0.304      0.761      -0.341       0.250\n",
      "route_DPSOOL                           -0.0401      0.059     -0.683      0.495      -0.155       0.075\n",
      "route_DPSPEK                            0.0277      0.025      1.095      0.274      -0.022       0.077\n",
      "route_DPSPUS                           -0.0549      0.027     -2.058      0.040      -0.107      -0.003\n",
      "route_DPSPVG                            0.0323      0.021      1.540      0.124      -0.009       0.073\n",
      "route_DPSSYD                           -0.0195      0.032     -0.613      0.540      -0.082       0.043\n",
      "route_DPSTPE                           -0.1111      0.031     -3.552      0.000      -0.172      -0.050\n",
      "route_DPSWUH                            0.3650      0.117      3.125      0.002       0.136       0.594\n",
      "route_DPSXIY                            0.0805      0.066      1.229      0.219      -0.048       0.209\n",
      "route_GOIKUL                            0.1738      0.127      1.372      0.170      -0.074       0.422\n",
      "route_GOIMEL                            0.0080      0.100      0.081      0.936      -0.187       0.203\n",
      "route_GOIOOL                            0.0309      0.104      0.296      0.767      -0.174       0.235\n",
      "route_GOIPER                           -0.0183      0.078     -0.233      0.816      -0.172       0.135\n",
      "route_GOISYD                           -0.0707      0.117     -0.606      0.545      -0.299       0.158\n",
      "route_HANKTM                            0.0406      0.165      0.246      0.806      -0.284       0.365\n",
      "route_HANMEL                           -0.0289      0.070     -0.414      0.679      -0.166       0.108\n",
      "route_HANOOL                            0.0400      0.041      0.966      0.334      -0.041       0.121\n",
      "route_HANPER                            0.0749      0.060      1.254      0.210      -0.042       0.192\n",
      "route_HANSYD                            0.0706      0.054      1.298      0.194      -0.036       0.177\n",
      "route_HDYHGH                           -0.2605      0.329     -0.791      0.429      -0.906       0.385\n",
      "route_HDYKIX                            0.7272      0.330      2.206      0.027       0.081       1.373\n",
      "route_HDYKTM                           -0.2762      0.329     -0.840      0.401      -0.921       0.368\n",
      "route_HDYMEL                           -0.0054      0.125     -0.043      0.966      -0.250       0.239\n",
      "route_HDYOOL                            0.8378      0.148      5.678      0.000       0.549       1.127\n",
      "route_HDYPEK                            0.2143      0.148      1.452      0.146      -0.075       0.504\n",
      "route_HDYPER                            0.2936      0.125      2.354      0.019       0.049       0.538\n",
      "route_HDYPVG                            0.1247      0.190      0.656      0.512      -0.248       0.498\n",
      "route_HDYSYD                            0.1933      0.135      1.436      0.151      -0.070       0.457\n",
      "route_HDYTPE                           -0.1276      0.117     -1.092      0.275      -0.357       0.101\n",
      "route_HDYXIY                           -0.2084      0.165     -1.264      0.206      -0.532       0.115\n",
      "route_HGHHKT                            0.0559      0.052      1.073      0.283      -0.046       0.158\n",
      "route_HGHJHB                           -0.0471      0.147     -0.320      0.749      -0.336       0.242\n",
      "route_HGHJOG                            0.3584      0.110      3.256      0.001       0.143       0.574\n",
      "route_HGHKBR                           -0.2472      0.233     -1.062      0.288      -0.703       0.209\n",
      "route_HGHKBV                            0.1449      0.135      1.075      0.282      -0.119       0.409\n",
      "route_HGHKCH                           -0.1369      0.092     -1.492      0.136      -0.317       0.043\n",
      "route_HGHKNO                           -0.2672      0.125     -2.137      0.033      -0.512      -0.022\n",
      "route_HGHLGK                            0.0293      0.086      0.342      0.732      -0.139       0.197\n",
      "route_HGHLOP                            0.0328      0.147      0.222      0.824      -0.256       0.322\n",
      "route_HGHMAA                            0.1033      0.125      0.828      0.408      -0.141       0.348\n",
      "route_HGHMEL                            0.0121      0.066      0.183      0.855      -0.118       0.142\n",
      "route_HGHMRU                            0.0909      0.165      0.551      0.582      -0.233       0.415\n",
      "route_HGHMYY                           -0.2343      0.190     -1.232      0.218      -0.607       0.138\n",
      "route_HGHOOL                           -0.0627      0.080     -0.779      0.436      -0.220       0.095\n",
      "route_HGHPEN                            0.0073      0.057      0.129      0.898      -0.105       0.119\n",
      "route_HGHPER                            0.0132      0.085      0.154      0.878      -0.154       0.181\n",
      "route_HGHSBW                            0.0824      0.135      0.612      0.541      -0.181       0.346\n",
      "route_HGHSGN                            0.3120      0.165      1.893      0.058      -0.011       0.635\n",
      "route_HGHSIN                           -0.1723      0.100     -1.726      0.084      -0.368       0.023\n",
      "route_HGHSUB                           -0.0582      0.083     -0.702      0.483      -0.221       0.104\n",
      "route_HGHSYD                            0.1421      0.078      1.816      0.069      -0.011       0.295\n",
      "route_HGHTGG                           -0.3151      0.147     -2.136      0.033      -0.604      -0.026\n",
      "route_HGHTRZ                           -0.0139      0.064     -0.216      0.829      -0.139       0.112\n",
      "route_HGHTWU                            0.0271      0.148      0.184      0.854      -0.262       0.316\n",
      "route_HKGIKA                           -0.2515      0.192     -1.312      0.189      -0.627       0.124\n",
      "route_HKGJED                         5.675e-13   4.34e-13      1.308      0.191   -2.83e-13    1.42e-12\n",
      "route_HKGKTM                           -0.2053      0.126     -1.632      0.103      -0.452       0.041\n",
      "route_HKGMEL                            0.1705      0.038      4.536      0.000       0.097       0.244\n",
      "route_HKGMRU                            0.5555      0.166      3.350      0.001       0.230       0.881\n",
      "route_HKGOOL                            0.0431      0.041      1.048      0.295      -0.038       0.124\n",
      "route_HKGPER                           -0.0009      0.030     -0.030      0.976      -0.059       0.057\n",
      "route_HKGSYD                            0.0021      0.033      0.063      0.950      -0.063       0.067\n",
      "route_HKTHND                            0.0319      0.036      0.874      0.382      -0.040       0.103\n",
      "route_HKTICN                           -0.1009      0.022     -4.639      0.000      -0.144      -0.058\n",
      "route_HKTIKA                           -0.1897      0.329     -0.576      0.565      -0.835       0.456\n",
      "route_HKTJED                           -0.3308      0.335     -0.988      0.323      -0.987       0.326\n",
      "route_HKTKIX                            0.0204      0.027      0.770      0.441      -0.032       0.072\n",
      "route_HKTKTM                           -0.1031      0.236     -0.437      0.662      -0.565       0.359\n",
      "route_HKTMEL                           -0.0316      0.026     -1.198      0.231      -0.083       0.020\n",
      "route_HKTMRU                           -0.1962      0.236     -0.833      0.405      -0.658       0.266\n",
      "route_HKTOOL                           -0.0136      0.024     -0.563      0.573      -0.061       0.034\n",
      "route_HKTPEK                           -0.0103      0.029     -0.351      0.726      -0.068       0.047\n",
      "route_HKTPER                           -0.0110      0.022     -0.500      0.617      -0.054       0.032\n",
      "route_HKTPUS                           -0.1176      0.043     -2.724      0.006      -0.202      -0.033\n",
      "route_HKTPVG                            0.0514      0.042      1.220      0.222      -0.031       0.134\n",
      "route_HKTSYD                           -0.0305      0.021     -1.438      0.150      -0.072       0.011\n",
      "route_HKTTPE                           -0.0993      0.040     -2.453      0.014      -0.179      -0.020\n",
      "route_HKTWUH                            0.0593      0.063      0.938      0.348      -0.065       0.183\n",
      "route_HKTXIY                            0.0627      0.092      0.683      0.495      -0.117       0.243\n",
      "route_HNDIKA                           -0.0598      0.068     -0.873      0.383      -0.194       0.074\n",
      "route_HNDJOG                           -0.0418      0.067     -0.629      0.530      -0.172       0.089\n",
      "route_HNDKBR                            0.0671      0.080      0.836      0.403      -0.090       0.224\n",
      "route_HNDKBV                            0.0304      0.076      0.398      0.690      -0.119       0.180\n",
      "route_HNDKCH                            0.1844      0.049      3.784      0.000       0.089       0.280\n",
      "route_HNDKNO                            0.1040      0.056      1.871      0.061      -0.005       0.213\n",
      "route_HNDKTM                           -0.1129      0.165     -0.684      0.494      -0.436       0.211\n",
      "route_HNDLGK                           -0.0150      0.032     -0.463      0.643      -0.078       0.048\n",
      "route_HNDLOP                           -0.1002      0.190     -0.526      0.599      -0.473       0.273\n",
      "route_HNDMAA                           -0.1259      0.165     -0.763      0.446      -0.449       0.198\n",
      "route_HNDMEL                            0.0819      0.044      1.858      0.063      -0.004       0.168\n",
      "route_HNDMLE                           -0.0775      0.096     -0.811      0.418      -0.265       0.110\n",
      "route_HNDOOL                           -0.0596      0.125     -0.479      0.632      -0.304       0.185\n",
      "route_HNDPEN                            0.0638      0.019      3.323      0.001       0.026       0.101\n",
      "route_HNDPER                            0.0012      0.024      0.050      0.961      -0.045       0.047\n",
      "route_HNDPNH                            0.3254      0.074      4.426      0.000       0.181       0.469\n",
      "route_HNDREP                            0.1234      0.047      2.613      0.009       0.031       0.216\n",
      "route_HNDRGN                            0.1311      0.071      1.837      0.066      -0.009       0.271\n",
      "route_HNDSBW                           -0.1438      0.083     -1.738      0.082      -0.306       0.018\n",
      "route_HNDSGN                            0.1183      0.062      1.907      0.057      -0.003       0.240\n",
      "route_HNDSIN                            0.0285      0.024      1.182      0.237      -0.019       0.076\n",
      "route_HNDSUB                            0.0822      0.054      1.537      0.124      -0.023       0.187\n",
      "route_HNDSYD                            0.0163      0.054      0.302      0.762      -0.090       0.122\n",
      "route_HNDTRZ                           -0.0811      0.063     -1.285      0.199      -0.205       0.043\n",
      "route_HYDMEL                           -0.0458      0.031     -1.476      0.140      -0.107       0.015\n",
      "route_HYDMRU                           -0.1662      0.233     -0.712      0.476      -0.623       0.291\n",
      "route_HYDOOL                           -0.0313      0.061     -0.515      0.606      -0.150       0.088\n",
      "route_HYDPER                           -0.0468      0.032     -1.453      0.146      -0.110       0.016\n",
      "route_HYDSYD                           -0.0154      0.024     -0.641      0.522      -0.062       0.032\n",
      "route_HYDWUH                           -0.2086      0.233     -0.896      0.370      -0.665       0.248\n",
      "route_ICNIKA                           -0.1263      0.089     -1.421      0.155      -0.301       0.048\n",
      "route_ICNJED                           -0.3244      0.335     -0.968      0.333      -0.981       0.332\n",
      "route_ICNJHB                            0.1591      0.029      5.474      0.000       0.102       0.216\n",
      "route_ICNKBR                            0.1619      0.074      2.180      0.029       0.016       0.307\n",
      "route_ICNKBV                           -0.1181      0.045     -2.610      0.009      -0.207      -0.029\n",
      "route_ICNKCH                            0.2045      0.037      5.572      0.000       0.133       0.276\n",
      "route_ICNKNO                           -0.1210      0.038     -3.195      0.001      -0.195      -0.047\n",
      "route_ICNKTM                           -0.1053      0.089     -1.187      0.235      -0.279       0.069\n",
      "route_ICNLGK                            0.3529      0.034     10.395      0.000       0.286       0.419\n",
      "route_ICNMAA                           -0.0847      0.065     -1.297      0.194      -0.213       0.043\n",
      "route_ICNMEL                           -0.0633      0.023     -2.776      0.006      -0.108      -0.019\n",
      "route_ICNMLE                            0.2205      0.031      7.189      0.000       0.160       0.281\n",
      "route_ICNMRU                           -0.0323      0.330     -0.098      0.922      -0.678       0.614\n",
      "route_ICNMYY                            0.1751      0.060      2.895      0.004       0.057       0.294\n",
      "route_ICNOOL                           -0.0564      0.027     -2.103      0.035      -0.109      -0.004\n",
      "route_ICNPEN                            0.2458      0.023     10.895      0.000       0.202       0.290\n",
      "route_ICNPER                           -0.0830      0.021     -3.890      0.000      -0.125      -0.041\n",
      "route_ICNREP                           -0.0815      0.135     -0.604      0.546      -0.346       0.183\n",
      "route_ICNRGN                           -0.1275      0.070     -1.820      0.069      -0.265       0.010\n",
      "route_ICNSBW                           -0.0730      0.053     -1.387      0.165      -0.176       0.030\n",
      "route_ICNSDK                            0.4502      0.165      2.730      0.006       0.127       0.773\n",
      "route_ICNSGN                            0.0009      0.135      0.007      0.995      -0.264       0.265\n",
      "route_ICNSIN                           -0.0510      0.016     -3.121      0.002      -0.083      -0.019\n",
      "route_ICNSUB                           -0.0887      0.050     -1.771      0.077      -0.187       0.009\n",
      "route_ICNSYD                           -0.0755      0.017     -4.447      0.000      -0.109      -0.042\n",
      "route_ICNTGG                            0.1431      0.095      1.500      0.134      -0.044       0.330\n",
      "route_ICNTRZ                           -0.0924      0.071     -1.303      0.193      -0.231       0.047\n",
      "route_ICNVTE                           -0.1123      0.233     -0.482      0.630      -0.569       0.345\n",
      "route_ICNVTZ                           -0.0508      0.089     -0.574      0.566      -0.224       0.123\n",
      "route_IKAKCH                           -0.1784      0.329     -0.542      0.588      -0.824       0.467\n",
      "route_IKAKIX                           -0.0608      0.329     -0.184      0.854      -0.706       0.585\n",
      "route_IKALOP                           -0.2701      0.329     -0.820      0.412      -0.916       0.375\n",
      "route_IKAMEL                           -0.0731      0.046     -1.576      0.115      -0.164       0.018\n",
      "route_IKAMFM                           -0.2325      0.194     -1.200      0.230      -0.612       0.147\n",
      "route_IKAMNL                           -0.2809      0.099     -2.844      0.004      -0.475      -0.087\n",
      "route_IKAOOL                           -0.0810      0.044     -1.855      0.064      -0.167       0.005\n",
      "route_IKAPEK                           -0.1035      0.233     -0.444      0.657      -0.560       0.353\n",
      "route_IKAPEN                           -0.0619      0.135     -0.460      0.646      -0.326       0.202\n",
      "route_IKAPER                           -0.0648      0.045     -1.452      0.147      -0.152       0.023\n",
      "route_IKAPUS                           -0.1121      0.190     -0.589      0.556      -0.485       0.261\n",
      "route_IKAPVG                           -0.1662      0.233     -0.713      0.476      -0.623       0.291\n",
      "route_IKASGN                           -0.2339      0.330     -0.709      0.478      -0.880       0.413\n",
      "route_IKASIN                           -0.2583      0.073     -3.527      0.000      -0.402      -0.115\n",
      "route_IKASUB                           -0.2657      0.165     -1.610      0.107      -0.589       0.058\n",
      "route_IKASYD                           -0.0764      0.038     -2.036      0.042      -0.150      -0.003\n",
      "route_IKASZX                           -0.0771      0.117     -0.658      0.511      -0.307       0.153\n",
      "route_IKATPE                           -0.1180      0.093     -1.274      0.203      -0.300       0.064\n",
      "route_JEDJOG                           -0.2539      0.329     -0.773      0.440      -0.898       0.390\n",
      "route_JEDKNO                            0.1341      0.191      0.700      0.484      -0.241       0.509\n",
      "route_JEDMEL                           -0.3544      0.242     -1.467      0.142      -0.828       0.119\n",
      "route_JEDMFM                           -0.2698      0.335     -0.805      0.421      -0.926       0.387\n",
      "route_JEDMNL                           -0.4199      0.335     -1.254      0.210      -1.076       0.237\n",
      "route_JEDPDG                        -4.305e-13   4.47e-13     -0.963      0.335   -1.31e-12    4.45e-13\n",
      "route_JEDPEN                            0.7509      0.328      2.286      0.022       0.107       1.395\n",
      "route_JEDSUB                           -0.2413      0.110     -2.185      0.029      -0.458      -0.025\n",
      "route_JHBKIX                            0.1520      0.052      2.924      0.003       0.050       0.254\n",
      "route_JHBKTM                            0.1331      0.021      6.235      0.000       0.091       0.175\n",
      "route_JHBMEL                            0.0556      0.041      1.366      0.172      -0.024       0.135\n",
      "route_JHBMRU                            0.2825      0.166      1.705      0.088      -0.042       0.607\n",
      "route_JHBOOL                            0.0483      0.095      0.506      0.613      -0.139       0.235\n",
      "route_JHBPEK                            0.1631      0.069      2.362      0.018       0.028       0.298\n",
      "route_JHBPUS                            0.1906      0.049      3.875      0.000       0.094       0.287\n",
      "route_JHBPVG                            0.0976      0.047      2.063      0.039       0.005       0.190\n",
      "route_JHBSYD                            0.1942      0.080      2.422      0.015       0.037       0.351\n",
      "route_JHBTPE                            0.2122      0.034      6.156      0.000       0.145       0.280\n",
      "route_JHBWUH                           -0.0729      0.147     -0.494      0.621      -0.362       0.216\n",
      "route_JHBXIY                           -0.0773      0.078     -0.990      0.322      -0.230       0.076\n",
      "route_JOGKIX                           -0.0049      0.051     -0.097      0.923      -0.105       0.095\n",
      "route_JOGKTM                         4.107e-13   3.17e-13      1.296      0.195    -2.1e-13    1.03e-12\n",
      "route_JOGMEL                           -0.0613      0.092     -0.669      0.504      -0.241       0.118\n",
      "route_JOGOOL                            0.1462      0.110      1.330      0.183      -0.069       0.362\n",
      "route_JOGPER                           -0.1148      0.233     -0.493      0.622      -0.571       0.342\n",
      "route_JOGPVG                            0.0207      0.074      0.279      0.781      -0.125       0.166\n",
      "route_JOGSYD                            0.1164      0.085      1.365      0.172      -0.051       0.284\n",
      "route_JOGTPE                           -0.1411      0.052     -2.690      0.007      -0.244      -0.038\n",
      "route_KBRKIX                            0.0803      0.060      1.347      0.178      -0.037       0.197\n",
      "route_KBRKTM                            0.0476      0.190      0.251      0.802      -0.325       0.420\n",
      "route_KBRMEL                            0.2024      0.069      2.921      0.003       0.067       0.338\n",
      "route_KBROOL                           -0.0821      0.147     -0.558      0.577      -0.371       0.207\n",
      "route_KBRPEK                            0.2052      0.086      2.399      0.016       0.038       0.373\n",
      "route_KBRPER                            0.1243      0.104      1.191      0.234      -0.080       0.329\n",
      "route_KBRPUS                            0.3927      0.148      2.662      0.008       0.104       0.682\n",
      "route_KBRPVG                            0.2187      0.125      1.754      0.079      -0.026       0.463\n",
      "route_KBRSYD                            0.1693      0.117      1.453      0.146      -0.059       0.398\n",
      "route_KBRTPE                            0.4420      0.089      4.990      0.000       0.268       0.616\n",
      "route_KBRWUH                           -0.1421      0.329     -0.432      0.666      -0.787       0.503\n",
      "route_KBRXIY                         1.204e-13   3.18e-13      0.379      0.705   -5.02e-13    7.43e-13\n",
      "route_KBVKIX                            0.0210      0.078      0.268      0.789      -0.133       0.175\n",
      "route_KBVKTM                           -0.1968      0.235     -0.836      0.403      -0.658       0.265\n",
      "route_KBVMEL                           -0.0582      0.076     -0.767      0.443      -0.207       0.091\n",
      "route_KBVOOL                            0.0301      0.071      0.426      0.670      -0.108       0.169\n",
      "route_KBVPEK                           -0.0185      0.040     -0.457      0.647      -0.098       0.061\n",
      "route_KBVPER                           -0.0312      0.053     -0.591      0.555      -0.135       0.072\n",
      "route_KBVPUS                           -0.1403      0.233     -0.602      0.548      -0.597       0.317\n",
      "route_KBVPVG                           -0.0168      0.039     -0.425      0.671      -0.094       0.061\n",
      "route_KBVSYD                           -0.1050      0.069     -1.521      0.128      -0.240       0.030\n",
      "route_KBVTPE                           -0.1142      0.092     -1.238      0.216      -0.295       0.067\n",
      "route_KBVWUH                           -0.1806      0.233     -0.776      0.438      -0.637       0.276\n",
      "route_KBVXIY                           -0.1722      0.165     -1.045      0.296      -0.495       0.151\n",
      "route_KCHKIX                            0.0872      0.055      1.596      0.111      -0.020       0.194\n",
      "route_KCHKTM                           -0.2661      0.190     -1.400      0.162      -0.639       0.106\n",
      "route_KCHMEL                            0.0199      0.026      0.765      0.444      -0.031       0.071\n",
      "route_KCHMRU                        -5.749e-14   3.45e-13     -0.167      0.868   -7.33e-13    6.18e-13\n",
      "route_KCHOOL                            0.0097      0.041      0.238      0.812      -0.070       0.089\n",
      "route_KCHPEK                           -0.0342      0.036     -0.951      0.342      -0.105       0.036\n",
      "route_KCHPER                            0.0544      0.025      2.201      0.028       0.006       0.103\n",
      "route_KCHPUS                            0.2280      0.068      3.369      0.001       0.095       0.361\n",
      "route_KCHPVG                            0.0804      0.046      1.730      0.084      -0.011       0.171\n",
      "route_KCHSYD                            0.0504      0.048      1.057      0.290      -0.043       0.144\n",
      "route_KCHTPE                            0.1003      0.035      2.881      0.004       0.032       0.168\n",
      "route_KCHWUH                            0.2408      0.165      1.461      0.144      -0.082       0.564\n",
      "route_KCHXIY                           -0.0894      0.088     -1.011      0.312      -0.263       0.084\n",
      "route_KHHMEL                           -0.0862      0.092     -0.939      0.348      -0.266       0.094\n",
      "route_KHHOOL                           -0.0361      0.233     -0.155      0.877      -0.492       0.420\n",
      "route_KHHPER                           -0.1316      0.125     -1.054      0.292      -0.376       0.113\n",
      "route_KHHSYD                           -0.1117      0.125     -0.896      0.370      -0.356       0.133\n",
      "route_KIXKNO                           -0.0192      0.061     -0.316      0.752      -0.138       0.100\n",
      "route_KIXKTM                           -0.0326      0.236     -0.138      0.890      -0.495       0.430\n",
      "route_KIXLBU                         2.567e-13   2.49e-13      1.031      0.302   -2.31e-13    7.45e-13\n",
      "route_KIXLGK                            0.0139      0.052      0.265      0.791      -0.089       0.117\n",
      "route_KIXLOP                            0.1644      0.083      1.981      0.048       0.002       0.327\n",
      "route_KIXLPQ                           -0.0806      0.089     -0.907      0.364      -0.255       0.093\n",
      "route_KIXMAA                           -0.0540      0.083     -0.652      0.514      -0.216       0.108\n",
      "route_KIXMEL                            0.0078      0.043      0.180      0.858      -0.077       0.093\n",
      "route_KIXMLE                            0.1073      0.083      1.289      0.197      -0.056       0.270\n",
      "route_KIXMRU                           -0.0861      0.330     -0.261      0.794      -0.732       0.560\n",
      "route_KIXMYY                            0.2271      0.095      2.382      0.017       0.040       0.414\n",
      "route_KIXOOL                            0.0061      0.059      0.105      0.917      -0.109       0.121\n",
      "route_KIXPEN                            0.1866      0.026      7.169      0.000       0.136       0.238\n",
      "route_KIXPER                           -0.0094      0.036     -0.260      0.795      -0.080       0.061\n",
      "route_KIXPNH                            0.1819      0.068      2.659      0.008       0.048       0.316\n",
      "route_KIXREP                            0.1044      0.044      2.364      0.018       0.018       0.191\n",
      "route_KIXRGN                            0.0166      0.049      0.339      0.734      -0.079       0.113\n",
      "route_KIXSBW                           -0.0695      0.080     -0.866      0.386      -0.227       0.088\n",
      "route_KIXSGN                            0.0350      0.041      0.859      0.390      -0.045       0.115\n",
      "route_KIXSIN                            0.0463      0.025      1.821      0.069      -0.004       0.096\n",
      "route_KIXSUB                            0.1483      0.055      2.703      0.007       0.041       0.256\n",
      "route_KIXSYD                            0.1197      0.055      2.160      0.031       0.011       0.228\n",
      "route_KIXTGG                            0.0513      0.083      0.620      0.535      -0.111       0.214\n",
      "route_KIXTRZ                            0.0315      0.110      0.286      0.775      -0.185       0.248\n",
      "route_KIXTWU                            0.3574      0.148      2.423      0.015       0.068       0.647\n",
      "route_KLOMEL                            0.0578      0.068      0.854      0.393      -0.075       0.190\n",
      "route_KLOOOL                           -0.0933      0.100     -0.937      0.349      -0.288       0.102\n",
      "route_KLOSYD                           -0.0435      0.165     -0.264      0.792      -0.366       0.279\n",
      "route_KNOKTM                           -0.2920      0.329     -0.887      0.375      -0.937       0.353\n",
      "route_KNOMEL                           -0.0170      0.057     -0.298      0.766      -0.129       0.095\n",
      "route_KNOOOL                            0.0534      0.069      0.773      0.440      -0.082       0.189\n",
      "route_KNOPEK                            0.0034      0.054      0.063      0.950      -0.102       0.109\n",
      "route_KNOPER                           -0.0573      0.053     -1.086      0.277      -0.161       0.046\n",
      "route_KNOPUS                           -0.0181      0.080     -0.225      0.822      -0.176       0.139\n",
      "route_KNOPVG                            0.0283      0.083      0.341      0.733      -0.134       0.191\n",
      "route_KNOSYD                           -0.0894      0.035     -2.530      0.011      -0.159      -0.020\n",
      "route_KNOTPE                           -0.1266      0.028     -4.483      0.000      -0.182      -0.071\n",
      "route_KNOWUH                         6.207e-13   2.81e-13      2.209      0.027       7e-14    1.17e-12\n",
      "route_KNOXIY                           -0.2538      0.165     -1.540      0.123      -0.577       0.069\n",
      "route_KOSMEL                           -0.0511      0.329     -0.156      0.876      -0.696       0.593\n",
      "route_KOSOOL                            0.0149      0.165      0.091      0.928      -0.308       0.338\n",
      "route_KOSPEK                           -0.2995      0.331     -0.904      0.366      -0.949       0.350\n",
      "route_KOSSYD                         2.071e-13   3.22e-13      0.644      0.520   -4.23e-13    8.38e-13\n",
      "route_KTMMEL                           -0.0427      0.050     -0.855      0.393      -0.141       0.055\n",
      "route_KTMMFM                           -0.0367      0.056     -0.652      0.514      -0.147       0.074\n",
      "route_KTMMYY                           -0.2663      0.165     -1.616      0.106      -0.589       0.057\n",
      "route_KTMPEN                            0.0929      0.024      3.944      0.000       0.047       0.139\n",
      "route_KTMPER                           -0.0692      0.060     -1.158      0.247      -0.186       0.048\n",
      "route_KTMREP                           -0.1245      0.154     -0.810      0.418      -0.426       0.177\n",
      "route_KTMSGN                            0.3026      0.126      2.410      0.016       0.056       0.549\n",
      "route_KTMSIN                           -0.0292      0.053     -0.552      0.581      -0.133       0.075\n",
      "route_KTMSUB                            0.1042      0.135      0.771      0.441      -0.161       0.369\n",
      "route_KTMSYD                           -0.0754      0.055     -1.359      0.174      -0.184       0.033\n",
      "route_KTMTGG                           -0.2801      0.125     -2.244      0.025      -0.525      -0.035\n",
      "route_KTMTPE                           -0.1390      0.092     -1.508      0.132      -0.320       0.042\n",
      "route_KTMTWU                         7.194e-14   2.69e-13      0.268      0.789   -4.55e-13    5.99e-13\n",
      "route_KTMURT                            0.7581      0.329      2.304      0.021       0.113       1.403\n",
      "route_KWLPER                           -0.0886      0.165     -0.538      0.591      -0.412       0.234\n",
      "route_LBUPER                           -0.0428      0.080     -0.533      0.594      -0.200       0.115\n",
      "route_LBUTPE                           -0.1571      0.329     -0.478      0.633      -0.802       0.488\n",
      "route_LGKMEL                           -0.0703      0.053     -1.335      0.182      -0.174       0.033\n",
      "route_LGKOOL                           -0.0361      0.085     -0.423      0.673      -0.203       0.131\n",
      "route_LGKPEK                            0.2077      0.054      3.877      0.000       0.103       0.313\n",
      "route_LGKPER                           -0.0835      0.038     -2.172      0.030      -0.159      -0.008\n",
      "route_LGKPUS                            0.3863      0.074      5.189      0.000       0.240       0.532\n",
      "route_LGKPVG                            0.0092      0.042      0.217      0.828      -0.074       0.092\n",
      "route_LGKSYD                            0.0686      0.056      1.220      0.222      -0.042       0.179\n",
      "route_LGKTPE                            0.3921      0.054      7.220      0.000       0.286       0.498\n",
      "route_LGKWUH                            0.3513      0.233      1.508      0.132      -0.105       0.808\n",
      "route_LGKXIY                           -0.2190      0.165     -1.324      0.186      -0.543       0.105\n",
      "route_LOPOOL                            0.2025      0.190      1.066      0.287      -0.170       0.575\n",
      "route_LOPPEK                            0.0891      0.074      1.198      0.231      -0.057       0.235\n",
      "route_LOPPER                           -0.0801      0.125     -0.642      0.521      -0.325       0.164\n",
      "route_LOPPVG                           -0.0462      0.070     -0.665      0.506      -0.183       0.090\n",
      "route_LOPSYD                            0.0385      0.117      0.330      0.741      -0.190       0.267\n",
      "route_LOPTPE                           -0.0747      0.057     -1.300      0.193      -0.187       0.038\n",
      "route_LOPXIY                           -0.1644      0.329     -0.500      0.617      -0.809       0.481\n",
      "route_LPQMEL                           -0.0553      0.233     -0.238      0.812      -0.511       0.401\n",
      "route_LPQOOL                           -0.0598      0.233     -0.257      0.797      -0.516       0.396\n",
      "route_LPQPER                            0.4865      0.233      2.089      0.037       0.030       0.943\n",
      "route_LPQTPE                            0.0509      0.148      0.344      0.730      -0.239       0.340\n",
      "route_MAAMEL                           -0.0294      0.035     -0.848      0.396      -0.097       0.039\n",
      "route_MAAMRU                           -0.1338      0.142     -0.939      0.348      -0.413       0.145\n",
      "route_MAAOOL                            0.0146      0.053      0.276      0.783      -0.089       0.118\n",
      "route_MAAPER                           -0.0540      0.032     -1.678      0.093      -0.117       0.009\n",
      "route_MAAPVG                           -0.1797      0.147     -1.219      0.223      -0.469       0.109\n",
      "route_MAASYD                            0.0215      0.031      0.695      0.487      -0.039       0.082\n",
      "route_MAATPE                           -0.0627      0.045     -1.406      0.160      -0.150       0.025\n",
      "route_MAAWUH                           -0.1944      0.165     -1.180      0.238      -0.518       0.129\n",
      "route_MELMFM                            0.3066      0.082      3.742      0.000       0.146       0.467\n",
      "route_MELMLE                            0.0715      0.111      0.645      0.519      -0.146       0.289\n",
      "route_MELMNL                            0.0835      0.027      3.045      0.002       0.030       0.137\n",
      "route_MELMRU                           -0.0896      0.044     -2.050      0.040      -0.175      -0.004\n",
      "route_MELMYY                            0.0980      0.060      1.640      0.101      -0.019       0.215\n",
      "route_MELNRT                            0.9589      0.329      2.915      0.004       0.314       1.604\n",
      "route_MELPEK                            0.0199      0.039      0.506      0.613      -0.057       0.097\n",
      "route_MELPEN                            0.0365      0.017      2.182      0.029       0.004       0.069\n",
      "route_MELPNH                            0.0452      0.036      1.253      0.210      -0.026       0.116\n",
      "route_MELPUS                           -0.0842      0.052     -1.628      0.103      -0.186       0.017\n",
      "route_MELPVG                           -0.0328      0.037     -0.885      0.376      -0.105       0.040\n",
      "route_MELREP                           -0.0254      0.047     -0.538      0.591      -0.118       0.067\n",
      "route_MELRGN                           -0.0443      0.043     -1.023      0.307      -0.129       0.041\n",
      "route_MELSBW                           -0.0408      0.036     -1.123      0.261      -0.112       0.030\n",
      "route_MELSGN                           -0.0428      0.015     -2.759      0.006      -0.073      -0.012\n",
      "route_MELSIN                            0.0332      0.045      0.740      0.459      -0.055       0.121\n",
      "route_MELSUB                            0.0401      0.078      0.514      0.607      -0.113       0.193\n",
      "route_MELSWA                           -0.1273      0.233     -0.547      0.584      -0.583       0.329\n",
      "route_MELSZX                           -0.0513      0.329     -0.156      0.876      -0.696       0.593\n",
      "route_MELTGG                            0.1865      0.135      1.386      0.166      -0.077       0.450\n",
      "route_MELTPE                           -0.0794      0.018     -4.451      0.000      -0.114      -0.044\n",
      "route_MELTRZ                           -0.0311      0.036     -0.866      0.387      -0.102       0.039\n",
      "route_MELTWU                           -0.1397      0.117     -1.199      0.231      -0.368       0.089\n",
      "route_MELURT                           -0.0268      0.100     -0.269      0.788      -0.222       0.168\n",
      "route_MELUTP                           -0.0937      0.165     -0.569      0.569      -0.416       0.229\n",
      "route_MELVTE                        -4.281e-13   3.27e-13     -1.310      0.190   -1.07e-12    2.13e-13\n",
      "route_MELVTZ                           -0.0200      0.051     -0.389      0.697      -0.121       0.081\n",
      "route_MELWUH                           -0.0269      0.329     -0.082      0.935      -0.672       0.618\n",
      "route_MELXIY                           -0.0164      0.069     -0.236      0.813      -0.152       0.119\n",
      "route_MFMOOL                            0.2109      0.118      1.783      0.075      -0.021       0.443\n",
      "route_MFMPER                            0.0397      0.064      0.623      0.533      -0.085       0.164\n",
      "route_MFMSYD                           -0.0928      0.148     -0.628      0.530      -0.382       0.197\n",
      "route_MLEOOL                           -0.0289      0.329     -0.088      0.930      -0.674       0.616\n",
      "route_MLEPEK                           -0.1702      0.148     -1.152      0.249      -0.460       0.119\n",
      "route_MLEPER                            0.0156      0.090      0.173      0.863      -0.161       0.192\n",
      "route_MLEPVG                            0.0272      0.148      0.184      0.854      -0.262       0.316\n",
      "route_MLESYD                           -0.0971      0.141     -0.689      0.491      -0.373       0.179\n",
      "route_MLETPE                           -0.1276      0.057     -2.246      0.025      -0.239      -0.016\n",
      "route_MNLMRU                           -0.1766      0.236     -0.750      0.453      -0.638       0.285\n",
      "route_MNLOOL                            0.0463      0.053      0.875      0.382      -0.057       0.150\n",
      "route_MNLPER                            0.0006      0.035      0.018      0.985      -0.067       0.068\n",
      "route_MNLSYD                            0.0734      0.046      1.603      0.109      -0.016       0.163\n",
      "route_MRUOOL                           -0.1208      0.128     -0.946      0.344      -0.371       0.129\n",
      "route_MRUPEK                            0.1267      0.070      1.819      0.069      -0.010       0.263\n",
      "route_MRUPEN                            0.1329      0.137      0.973      0.331      -0.135       0.401\n",
      "route_MRUPER                           -0.0735      0.083     -0.889      0.374      -0.236       0.089\n",
      "route_MRUPVG                           -0.0386      0.089     -0.434      0.664      -0.213       0.135\n",
      "route_MRUSGN                           -0.2126      0.236     -0.902      0.367      -0.675       0.249\n",
      "route_MRUSIN                           -0.0591      0.073     -0.808      0.419      -0.202       0.084\n",
      "route_MRUSUB                           -0.2904      0.233     -1.245      0.213      -0.748       0.167\n",
      "route_MRUSYD                            0.1275      0.088      1.444      0.149      -0.046       0.301\n",
      "route_MRUSZX                            0.2149      0.148      1.450      0.147      -0.076       0.506\n",
      "route_MRUTPE                           -0.3444      0.330     -1.043      0.297      -0.991       0.303\n",
      "route_MRUXIY                           -0.2186      0.330     -0.663      0.507      -0.865       0.427\n",
      "route_MYYOOL                           -0.1854      0.074     -2.497      0.013      -0.331      -0.040\n",
      "route_MYYPER                           -0.0876      0.034     -2.564      0.010      -0.155      -0.021\n",
      "route_MYYPUS                            0.3631      0.105      3.475      0.001       0.158       0.568\n",
      "route_MYYSYD                           -0.0101      0.072     -0.140      0.889      -0.152       0.132\n",
      "route_MYYXIY                            0.0144      0.191      0.076      0.940      -0.359       0.388\n",
      "route_NRTSYD                            0.4485      0.233      1.927      0.054      -0.008       0.905\n",
      "route_OOLPEK                           -0.0982      0.069     -1.420      0.156      -0.234       0.037\n",
      "route_OOLPEN                            0.0465      0.029      1.629      0.103      -0.009       0.102\n",
      "route_OOLPNH                           -0.0374      0.031     -1.192      0.233      -0.099       0.024\n",
      "route_OOLPUS                           -0.0760      0.058     -1.309      0.190      -0.190       0.038\n",
      "route_OOLPVG                           -0.0229      0.066     -0.348      0.727      -0.152       0.106\n",
      "route_OOLREP                            0.0044      0.056      0.078      0.938      -0.106       0.115\n",
      "route_OOLRGN                            0.0050      0.080      0.062      0.951      -0.153       0.163\n",
      "route_OOLSBW                           -0.1179      0.075     -1.572      0.116      -0.265       0.029\n",
      "route_OOLSDK                           -0.2021      0.110     -1.837      0.066      -0.418       0.013\n",
      "route_OOLSGN                            0.0319      0.023      1.416      0.157      -0.012       0.076\n",
      "route_OOLSIN                            0.0125      0.057      0.218      0.827      -0.100       0.125\n",
      "route_OOLSUB                           -0.0533      0.165     -0.324      0.746      -0.376       0.269\n",
      "route_OOLSZX                            0.1254      0.092      1.369      0.171      -0.054       0.305\n",
      "route_OOLTGG                           -0.0747      0.190     -0.393      0.694      -0.447       0.298\n",
      "route_OOLTPE                           -0.0698      0.032     -2.198      0.028      -0.132      -0.008\n",
      "route_OOLTRZ                            0.0904      0.078      1.160      0.246      -0.062       0.243\n",
      "route_OOLTWU                            0.1525      0.190      0.802      0.422      -0.220       0.525\n",
      "route_OOLURT                            0.0048      0.100      0.048      0.961      -0.190       0.200\n",
      "route_OOLUTP                            0.1015      0.147      0.689      0.491      -0.187       0.390\n",
      "route_OOLVTE                            0.0076      0.082      0.093      0.926      -0.153       0.168\n",
      "route_OOLWUH                           -0.1531      0.329     -0.465      0.642      -0.798       0.492\n",
      "route_OOLXIY                           -0.1031      0.135     -0.766      0.444      -0.367       0.161\n",
      "route_PEKPEN                            0.1270      0.029      4.370      0.000       0.070       0.184\n",
      "route_PEKPER                            0.0025      0.076      0.033      0.973      -0.146       0.151\n",
      "route_PEKREP                           -0.0294      0.081     -0.365      0.715      -0.187       0.128\n",
      "route_PEKRGN                           -0.1098      0.191     -0.576      0.565      -0.484       0.264\n",
      "route_PEKSBW                            0.0461      0.072      0.638      0.524      -0.096       0.188\n",
      "route_PEKSGN                           -0.2604      0.330     -0.789      0.430      -0.907       0.387\n",
      "route_PEKSIN                            0.0449      0.036      1.256      0.209      -0.025       0.115\n",
      "route_PEKSUB                           -0.1386      0.059     -2.355      0.019      -0.254      -0.023\n",
      "route_PEKSYD                            0.0039      0.038      0.104      0.917      -0.070       0.078\n",
      "route_PEKTGG                            0.0149      0.065      0.229      0.819      -0.113       0.143\n",
      "route_PEKTRZ                           -0.0487      0.071     -0.688      0.491      -0.187       0.090\n",
      "route_PEKTWU                           -0.0073      0.034     -0.212      0.832      -0.075       0.060\n",
      "route_PENPER                            0.0138      0.019      0.722      0.470      -0.024       0.051\n",
      "route_PENPUS                            0.1674      0.037      4.526      0.000       0.095       0.240\n",
      "route_PENPVG                            0.1193      0.025      4.780      0.000       0.070       0.168\n",
      "route_PENSYD                            0.0488      0.021      2.337      0.019       0.008       0.090\n",
      "route_PENTPE                            0.2022      0.016     12.499      0.000       0.171       0.234\n",
      "route_PENWUH                           -0.0543      0.147     -0.368      0.713      -0.343       0.235\n",
      "route_PENXIY                            0.1186      0.076      1.559      0.119      -0.031       0.268\n",
      "route_PERPNH                           -0.0485      0.026     -1.881      0.060      -0.099       0.002\n",
      "route_PERPUS                           -0.0829      0.042     -1.996      0.046      -0.164      -0.001\n",
      "route_PERPVG                           -0.0059      0.049     -0.121      0.903      -0.101       0.089\n",
      "route_PERREP                           -0.0889      0.069     -1.285      0.199      -0.225       0.047\n",
      "route_PERRGN                           -0.0572      0.053     -1.082      0.279      -0.161       0.046\n",
      "route_PERSBW                           -0.0900      0.044     -2.026      0.043      -0.177      -0.003\n",
      "route_PERSDK                           -0.0104      0.088     -0.118      0.906      -0.184       0.163\n",
      "route_PERSGN                           -0.0233      0.021     -1.096      0.273      -0.065       0.018\n",
      "route_PERSIN                           -0.1279      0.083     -1.543      0.123      -0.290       0.035\n",
      "route_PERSUB                           -0.1619      0.190     -0.851      0.395      -0.535       0.211\n",
      "route_PERSWA                           -0.1165      0.329     -0.354      0.724      -0.762       0.529\n",
      "route_PERSZX                            0.1506      0.085      1.764      0.078      -0.017       0.318\n",
      "route_PERTGG                            0.3442      0.148      2.333      0.020       0.055       0.633\n",
      "route_PERTPE                           -0.0854      0.022     -3.862      0.000      -0.129      -0.042\n",
      "route_PERTRZ                           -0.0490      0.042     -1.164      0.244      -0.131       0.033\n",
      "route_PERTWU                           -0.0780      0.100     -0.783      0.434      -0.273       0.117\n",
      "route_PERUTP                           -0.0755      0.061     -1.243      0.214      -0.195       0.044\n",
      "route_PERVTE                           -0.1089      0.329     -0.331      0.741      -0.754       0.537\n",
      "route_PERVTZ                           -0.0765      0.058     -1.320      0.187      -0.190       0.037\n",
      "route_PERWUH                           -0.0550      0.233     -0.236      0.813      -0.512       0.402\n",
      "route_PERXIY                           -0.0092      0.104     -0.088      0.930      -0.214       0.195\n",
      "route_PNHSYD                            0.0601      0.032      1.859      0.063      -0.003       0.123\n",
      "route_PNHTPE                            0.4525      0.135      3.349      0.001       0.188       0.717\n",
      "route_PNKTPE                           -0.0153      0.081     -0.190      0.850      -0.173       0.143\n",
      "route_PUSRGN                           -0.0806      0.135     -0.598      0.550      -0.345       0.184\n",
      "route_PUSSBW                           -0.2409      0.125     -1.931      0.054      -0.486       0.004\n",
      "route_PUSSGN                           -0.1401      0.125     -1.122      0.262      -0.385       0.105\n",
      "route_PUSSIN                           -0.0768      0.029     -2.688      0.007      -0.133      -0.021\n",
      "route_PUSSUB                            0.0567      0.092      0.618      0.537      -0.123       0.237\n",
      "route_PUSSYD                           -0.0718      0.038     -1.880      0.060      -0.147       0.003\n",
      "route_PUSTRZ                           -0.0745      0.062     -1.201      0.230      -0.196       0.047\n",
      "route_PVGREP                           -0.1075      0.190     -0.565      0.572      -0.480       0.266\n",
      "route_PVGRGN                            0.0325      0.165      0.197      0.844      -0.292       0.357\n",
      "route_PVGSGN                            0.5520      0.165      3.339      0.001       0.228       0.876\n",
      "route_PVGSIN                            0.0004      0.041      0.010      0.992      -0.079       0.080\n",
      "route_PVGSUB                            0.1912      0.057      3.342      0.001       0.079       0.303\n",
      "route_PVGSYD                            0.0049      0.043      0.116      0.908      -0.079       0.088\n",
      "route_PVGTGG                            0.0064      0.147      0.043      0.966      -0.283       0.295\n",
      "route_PVGTWU                           -0.0218      0.057     -0.384      0.701      -0.133       0.089\n",
      "route_PVGURT                           -0.1789      0.190     -0.940      0.347      -0.552       0.194\n",
      "route_REPSYD                           -0.0471      0.053     -0.894      0.371      -0.150       0.056\n",
      "route_REPTPE                           -0.1273      0.044     -2.902      0.004      -0.213      -0.041\n",
      "route_RGNSYD                           -0.0874      0.054     -1.613      0.107      -0.193       0.019\n",
      "route_RGNTPE                           -0.1576      0.089     -1.767      0.077      -0.332       0.017\n",
      "route_SBWSYD                            0.0328      0.074      0.443      0.658      -0.112       0.178\n",
      "route_SBWTPE                            0.0711      0.037      1.925      0.054      -0.001       0.143\n",
      "route_SBWWUH                            0.2578      0.233      1.107      0.268      -0.198       0.714\n",
      "route_SBWXIY                           -0.2579      0.329     -0.784      0.433      -0.903       0.387\n",
      "route_SDKSYD                            0.0722      0.125      0.579      0.563      -0.172       0.316\n",
      "route_SDKTPE                            0.3025      0.233      1.300      0.194      -0.154       0.759\n",
      "route_SGNSYD                            0.0075      0.017      0.442      0.659      -0.026       0.041\n",
      "route_SGNXIY                           -0.2749      0.331     -0.831      0.406      -0.923       0.373\n",
      "route_SINSYD                            0.0992      0.054      1.836      0.066      -0.007       0.205\n",
      "route_SINTPE                           -0.1060      0.070     -1.523      0.128      -0.242       0.030\n",
      "route_SINWUH                            0.0543      0.081      0.672      0.501      -0.104       0.212\n",
      "route_SINXIY                            0.0588      0.092      0.638      0.524      -0.122       0.240\n",
      "route_SRGTPE                           -0.1296      0.089     -1.461      0.144      -0.303       0.044\n",
      "route_SUBSYD                            0.1097      0.110      0.997      0.319      -0.106       0.325\n",
      "route_SUBTPE                           -0.1218      0.066     -1.851      0.064      -0.251       0.007\n",
      "route_SUBWUH                           -0.1595      0.233     -0.685      0.493      -0.616       0.297\n",
      "route_SUBXIY                            0.2597      0.135      1.929      0.054      -0.004       0.524\n",
      "route_SYDSZX                            0.2183      0.135      1.622      0.105      -0.046       0.482\n",
      "route_SYDTPE                           -0.0824      0.029     -2.869      0.004      -0.139      -0.026\n",
      "route_SYDTRZ                           -0.0612      0.032     -1.934      0.053      -0.123       0.001\n",
      "route_SYDTWU                           -0.0865      0.147     -0.587      0.557      -0.375       0.202\n",
      "route_SYDVTE                            0.1333      0.166      0.804      0.422      -0.192       0.458\n",
      "route_SYDVTZ                           -0.0162      0.233     -0.070      0.944      -0.472       0.440\n",
      "route_SYDXIY                           -0.0429      0.233     -0.184      0.854      -0.499       0.413\n",
      "route_TGGTPE                            0.2271      0.062      3.647      0.000       0.105       0.349\n",
      "route_TGGXIY                            0.7578      0.233      3.256      0.001       0.302       1.214\n",
      "route_TPETRZ                           -0.1133      0.073     -1.550      0.121      -0.257       0.030\n",
      "route_TPETWU                            0.2149      0.135      1.592      0.111      -0.050       0.480\n",
      "route_TPEURT                           -0.1682      0.329     -0.511      0.609      -0.813       0.477\n",
      "route_TPEVTE                        -2.505e-13   3.14e-13     -0.798      0.425   -8.66e-13    3.65e-13\n",
      "route_TRZWUH                           -0.2151      0.100     -2.154      0.031      -0.411      -0.019\n",
      "route_TRZXIY                           -0.1724      0.135     -1.277      0.202      -0.437       0.092\n",
      "route_TWUWUH                            0.2958      0.233      1.270      0.204      -0.161       0.752\n",
      "route_TWUXIY                            0.1141      0.135      0.848      0.397      -0.150       0.378\n",
      "route_URTXIY                        -6.997e-14   1.98e-13     -0.353      0.724   -4.59e-13    3.19e-13\n",
      "booking_origin_(not set)                0.0146      0.045      0.323      0.746      -0.074       0.103\n",
      "booking_origin_Afghanistan             -0.4599      0.335     -1.374      0.169      -1.116       0.196\n",
      "booking_origin_Algeria                 -0.0866      0.327     -0.264      0.791      -0.728       0.555\n",
      "booking_origin_Argentina               -0.0737      0.148     -0.497      0.619      -0.364       0.217\n",
      "booking_origin_Australia               -0.0694      0.021     -3.376      0.001      -0.110      -0.029\n",
      "booking_origin_Austria                 -0.1284      0.126     -1.017      0.309      -0.376       0.119\n",
      "booking_origin_Bahrain                  0.5862      0.165      3.544      0.000       0.262       0.910\n",
      "booking_origin_Bangladesh              -0.0097      0.071     -0.137      0.891      -0.148       0.129\n",
      "booking_origin_Belarus              -1.782e-13   1.56e-13     -1.144      0.253   -4.84e-13    1.27e-13\n",
      "booking_origin_Belgium                  0.0724      0.148      0.490      0.624      -0.217       0.362\n",
      "booking_origin_Bhutan                  -0.1376      0.327     -0.420      0.674      -0.779       0.504\n",
      "booking_origin_Brazil                  -0.1441      0.126     -1.140      0.254      -0.392       0.104\n",
      "booking_origin_Brunei                   0.1674      0.047      3.559      0.000       0.075       0.260\n",
      "booking_origin_Bulgaria             -1.434e-14   2.34e-13     -0.061      0.951   -4.73e-13    4.45e-13\n",
      "booking_origin_Cambodia                 0.1552      0.040      3.863      0.000       0.076       0.234\n",
      "booking_origin_Canada                  -0.1067      0.055     -1.954      0.051      -0.214       0.000\n",
      "booking_origin_Chile                   -0.0395      0.087     -0.455      0.649      -0.210       0.131\n",
      "booking_origin_China                    0.0432      0.023      1.893      0.058      -0.002       0.088\n",
      "booking_origin_Colombia                -0.1771      0.166     -1.069      0.285      -0.502       0.148\n",
      "booking_origin_Croatia                 -0.1615      0.327     -0.494      0.622      -0.803       0.480\n",
      "booking_origin_Cyprus                  -0.2088      0.233     -0.896      0.370      -0.665       0.248\n",
      "booking_origin_Czech Republic          -0.1378      0.148     -0.931      0.352      -0.428       0.152\n",
      "booking_origin_Czechia                 -0.1060      0.330     -0.322      0.748      -0.752       0.540\n",
      "booking_origin_Denmark                  0.2737      0.125      2.182      0.029       0.028       0.519\n",
      "booking_origin_Egypt                   -0.2459      0.335     -0.734      0.463      -0.903       0.411\n",
      "booking_origin_Estonia                 -0.1031      0.328     -0.315      0.753      -0.745       0.539\n",
      "booking_origin_Finland                 -0.1591      0.126     -1.265      0.206      -0.406       0.087\n",
      "booking_origin_France                   0.1088      0.050      2.166      0.030       0.010       0.207\n",
      "booking_origin_Germany                  0.0485      0.053      0.908      0.364      -0.056       0.153\n",
      "booking_origin_Ghana                   -0.2172      0.328     -0.663      0.508      -0.860       0.425\n",
      "booking_origin_Gibraltar               -0.2237      0.328     -0.683      0.495      -0.866       0.419\n",
      "booking_origin_Greece                   0.0211      0.135      0.156      0.876      -0.244       0.286\n",
      "booking_origin_Guam                    -0.2700      0.232     -1.162      0.245      -0.725       0.185\n",
      "booking_origin_Guatemala               -0.4337      0.328     -1.323      0.186      -1.076       0.209\n",
      "booking_origin_Hong Kong                0.0840      0.031      2.699      0.007       0.023       0.145\n",
      "booking_origin_Hungary                 -0.1502      0.232     -0.648      0.517      -0.605       0.304\n",
      "booking_origin_India                    0.0216      0.024      0.908      0.364      -0.025       0.068\n",
      "booking_origin_Indonesia                0.1081      0.023      4.730      0.000       0.063       0.153\n",
      "booking_origin_Iran                    -0.0247      0.100     -0.247      0.805      -0.221       0.172\n",
      "booking_origin_Iraq                     0.7625      0.327      2.330      0.020       0.121       1.404\n",
      "booking_origin_Ireland                 -0.1436      0.118     -1.219      0.223      -0.374       0.087\n",
      "booking_origin_Israel                  -0.0800      0.327     -0.244      0.807      -0.722       0.562\n",
      "booking_origin_Italy                    0.0165      0.055      0.300      0.764      -0.091       0.124\n",
      "booking_origin_Japan                   -0.0567      0.022     -2.540      0.011      -0.101      -0.013\n",
      "booking_origin_Jordan                  -0.0377      0.328     -0.115      0.909      -0.680       0.605\n",
      "booking_origin_Kazakhstan            1.526e-13   1.56e-13      0.976      0.329   -1.54e-13    4.59e-13\n",
      "booking_origin_Kenya                    0.1726      0.192      0.898      0.369      -0.204       0.549\n",
      "booking_origin_Kuwait                  -0.0190      0.136     -0.140      0.888      -0.285       0.247\n",
      "booking_origin_Laos                     0.0779      0.081      0.967      0.333      -0.080       0.236\n",
      "booking_origin_Lebanon                 -0.0523      0.329     -0.159      0.873      -0.696       0.592\n",
      "booking_origin_Macau                    0.1828      0.057      3.182      0.001       0.070       0.295\n",
      "booking_origin_Malaysia                 0.1167      0.021      5.524      0.000       0.075       0.158\n",
      "booking_origin_Maldives                -0.1373      0.126     -1.088      0.277      -0.385       0.110\n",
      "booking_origin_Malta                   -0.0866      0.327     -0.264      0.791      -0.728       0.555\n",
      "booking_origin_Mauritius               -0.0291      0.073     -0.401      0.689      -0.172       0.113\n",
      "booking_origin_Mexico                  -0.0008      0.126     -0.006      0.995      -0.248       0.247\n",
      "booking_origin_Mongolia                -0.1250      0.118     -1.058      0.290      -0.356       0.107\n",
      "booking_origin_Myanmar (Burma)          0.1898      0.061      3.109      0.002       0.070       0.310\n",
      "booking_origin_Nepal                   -0.1099      0.074     -1.476      0.140      -0.256       0.036\n",
      "booking_origin_Netherlands             -0.1159      0.057     -2.028      0.043      -0.228      -0.004\n",
      "booking_origin_New Caledonia           -0.0648      0.194     -0.333      0.739      -0.446       0.316\n",
      "booking_origin_New Zealand             -0.1356      0.024     -5.558      0.000      -0.183      -0.088\n",
      "booking_origin_Nicaragua               -0.1183      0.329     -0.360      0.719      -0.762       0.526\n",
      "booking_origin_Norfolk Island          -0.0739      0.327     -0.226      0.821      -0.716       0.568\n",
      "booking_origin_Norway                   0.0436      0.168      0.260      0.795      -0.285       0.372\n",
      "booking_origin_Oman                     0.1997      0.111      1.795      0.073      -0.018       0.418\n",
      "booking_origin_Pakistan                 0.6421      0.328      1.959      0.050      -0.000       1.285\n",
      "booking_origin_Panama                2.304e-13   2.07e-13      1.112      0.266   -1.76e-13    6.37e-13\n",
      "booking_origin_Papua New Guinea      2.943e-13   3.46e-13      0.852      0.394   -3.83e-13    9.72e-13\n",
      "booking_origin_Paraguay                -0.0563      0.329     -0.171      0.864      -0.700       0.588\n",
      "booking_origin_Peru                    -0.0623      0.237     -0.263      0.793      -0.528       0.403\n",
      "booking_origin_Philippines              0.1717      0.035      4.936      0.000       0.104       0.240\n",
      "booking_origin_Poland                  -0.1515      0.126     -1.200      0.230      -0.399       0.096\n",
      "booking_origin_Portugal                 0.0610      0.149      0.409      0.682      -0.231       0.353\n",
      "booking_origin_Qatar                    0.0661      0.148      0.446      0.655      -0.224       0.357\n",
      "booking_origin_Romania                  0.1522      0.190      0.801      0.423      -0.220       0.525\n",
      "booking_origin_Russia                  -0.0383      0.066     -0.584      0.559      -0.167       0.090\n",
      "booking_origin_Réunion                  0.0212      0.132      0.160      0.873      -0.238       0.281\n",
      "booking_origin_Saudi Arabia             0.2333      0.070      3.336      0.001       0.096       0.370\n",
      "booking_origin_Seychelles               0.7149      0.331      2.157      0.031       0.065       1.364\n",
      "booking_origin_Singapore                0.1376      0.025      5.616      0.000       0.090       0.186\n",
      "booking_origin_Slovakia              1.263e-15   4.01e-14      0.031      0.975   -7.73e-14    7.99e-14\n",
      "booking_origin_Slovenia                -0.1965      0.233     -0.844      0.398      -0.653       0.260\n",
      "booking_origin_Solomon Islands         -0.1193      0.235     -0.508      0.611      -0.579       0.341\n",
      "booking_origin_South Africa            -0.0531      0.335     -0.159      0.874      -0.709       0.603\n",
      "booking_origin_South Korea             -0.0315      0.022     -1.410      0.158      -0.075       0.012\n",
      "booking_origin_Spain                   -0.0917      0.080     -1.144      0.253      -0.249       0.065\n",
      "booking_origin_Sri Lanka               -0.0809      0.047     -1.734      0.083      -0.172       0.011\n",
      "booking_origin_Svalbard & Jan Mayen    -0.2259      0.347     -0.651      0.515      -0.906       0.454\n",
      "booking_origin_Sweden                   0.2838      0.101      2.803      0.005       0.085       0.482\n",
      "booking_origin_Switzerland              0.0544      0.082      0.663      0.508      -0.107       0.215\n",
      "booking_origin_Taiwan                  -0.0108      0.024     -0.459      0.646      -0.057       0.035\n",
      "booking_origin_Tanzania                -0.0649      0.330     -0.197      0.844      -0.711       0.581\n",
      "booking_origin_Thailand                 0.0817      0.023      3.502      0.000       0.036       0.127\n",
      "booking_origin_Timor-Leste             -0.0915      0.232     -0.394      0.694      -0.547       0.364\n",
      "booking_origin_Tonga                   -0.1423      0.327     -0.435      0.664      -0.784       0.499\n",
      "booking_origin_Tunisia                 -0.0535      0.327     -0.163      0.870      -0.695       0.588\n",
      "booking_origin_Turkey                  -0.0098      0.117     -0.084      0.933      -0.240       0.220\n",
      "booking_origin_Ukraine                 -0.1595      0.165     -0.966      0.334      -0.483       0.164\n",
      "booking_origin_United Arab Emirates    -0.0911      0.057     -1.589      0.112      -0.203       0.021\n",
      "booking_origin_United Kingdom          -0.0391      0.035     -1.116      0.264      -0.108       0.030\n",
      "booking_origin_United States            0.0276      0.027      1.034      0.301      -0.025       0.080\n",
      "booking_origin_Vanuatu                  0.8328      0.329      2.535      0.011       0.189       1.477\n",
      "booking_origin_Vietnam                  0.1415      0.029      4.950      0.000       0.085       0.198\n",
      "==============================================================================\n",
      "Omnibus:                     9334.452   Durbin-Watson:                   2.008\n",
      "Prob(Omnibus):                  0.000   Jarque-Bera (JB):            17748.652\n",
      "Skew:                           1.468   Prob(JB):                         0.00\n",
      "Kurtosis:                       4.425   Cond. No.                     5.40e+19\n",
      "==============================================================================\n",
      "\n",
      "Notes:\n",
      "[1] Standard Errors assume that the covariance matrix of the errors is correctly specified.\n",
      "[2] The smallest eigenvalue is 2.15e-31. This might indicate that there are\n",
      "strong multicollinearity problems or that the design matrix is singular.\n"
     ]
    }
   ],
   "source": [
    "print(model.summary())"
   ]
  },
  {
   "cell_type": "code",
   "execution_count": 102,
   "id": "e4779055-0dc2-4dd4-b775-2c3ebe1fa3ad",
   "metadata": {
    "execution": {
     "iopub.execute_input": "2022-11-22T06:12:57.562964Z",
     "iopub.status.busy": "2022-11-22T06:12:57.562964Z",
     "iopub.status.idle": "2022-11-22T06:12:57.587965Z",
     "shell.execute_reply": "2022-11-22T06:12:57.587965Z",
     "shell.execute_reply.started": "2022-11-22T06:12:57.562964Z"
    }
   },
   "outputs": [
    {
     "data": {
      "text/html": [
       "<div>\n",
       "<style scoped>\n",
       "    .dataframe tbody tr th:only-of-type {\n",
       "        vertical-align: middle;\n",
       "    }\n",
       "\n",
       "    .dataframe tbody tr th {\n",
       "        vertical-align: top;\n",
       "    }\n",
       "\n",
       "    .dataframe thead th {\n",
       "        text-align: right;\n",
       "    }\n",
       "</style>\n",
       "<table border=\"1\" class=\"dataframe\">\n",
       "  <thead>\n",
       "    <tr style=\"text-align: right;\">\n",
       "      <th></th>\n",
       "      <th>num_passengers</th>\n",
       "      <th>sales_channel</th>\n",
       "      <th>trip_type</th>\n",
       "      <th>purchase_lead</th>\n",
       "      <th>length_of_stay</th>\n",
       "      <th>flight_hour</th>\n",
       "      <th>flight_day</th>\n",
       "      <th>route</th>\n",
       "      <th>booking_origin</th>\n",
       "      <th>wants_extra_baggage</th>\n",
       "      <th>wants_preferred_seat</th>\n",
       "      <th>wants_in_flight_meals</th>\n",
       "      <th>flight_duration</th>\n",
       "      <th>booking_complete</th>\n",
       "      <th>const</th>\n",
       "    </tr>\n",
       "  </thead>\n",
       "  <tbody>\n",
       "    <tr>\n",
       "      <th>49995</th>\n",
       "      <td>2</td>\n",
       "      <td>Internet</td>\n",
       "      <td>RoundTrip</td>\n",
       "      <td>27</td>\n",
       "      <td>6</td>\n",
       "      <td>9</td>\n",
       "      <td>6</td>\n",
       "      <td>PERPNH</td>\n",
       "      <td>Australia</td>\n",
       "      <td>1</td>\n",
       "      <td>0</td>\n",
       "      <td>1</td>\n",
       "      <td>5.62</td>\n",
       "      <td>0</td>\n",
       "      <td>1.0</td>\n",
       "    </tr>\n",
       "    <tr>\n",
       "      <th>49996</th>\n",
       "      <td>1</td>\n",
       "      <td>Internet</td>\n",
       "      <td>RoundTrip</td>\n",
       "      <td>111</td>\n",
       "      <td>6</td>\n",
       "      <td>4</td>\n",
       "      <td>7</td>\n",
       "      <td>PERPNH</td>\n",
       "      <td>Australia</td>\n",
       "      <td>0</td>\n",
       "      <td>0</td>\n",
       "      <td>0</td>\n",
       "      <td>5.62</td>\n",
       "      <td>0</td>\n",
       "      <td>1.0</td>\n",
       "    </tr>\n",
       "    <tr>\n",
       "      <th>49997</th>\n",
       "      <td>1</td>\n",
       "      <td>Internet</td>\n",
       "      <td>RoundTrip</td>\n",
       "      <td>24</td>\n",
       "      <td>6</td>\n",
       "      <td>22</td>\n",
       "      <td>6</td>\n",
       "      <td>PERPNH</td>\n",
       "      <td>Australia</td>\n",
       "      <td>0</td>\n",
       "      <td>0</td>\n",
       "      <td>1</td>\n",
       "      <td>5.62</td>\n",
       "      <td>0</td>\n",
       "      <td>1.0</td>\n",
       "    </tr>\n",
       "    <tr>\n",
       "      <th>49998</th>\n",
       "      <td>1</td>\n",
       "      <td>Internet</td>\n",
       "      <td>RoundTrip</td>\n",
       "      <td>15</td>\n",
       "      <td>6</td>\n",
       "      <td>11</td>\n",
       "      <td>1</td>\n",
       "      <td>PERPNH</td>\n",
       "      <td>Australia</td>\n",
       "      <td>1</td>\n",
       "      <td>0</td>\n",
       "      <td>1</td>\n",
       "      <td>5.62</td>\n",
       "      <td>0</td>\n",
       "      <td>1.0</td>\n",
       "    </tr>\n",
       "    <tr>\n",
       "      <th>49999</th>\n",
       "      <td>1</td>\n",
       "      <td>Internet</td>\n",
       "      <td>RoundTrip</td>\n",
       "      <td>19</td>\n",
       "      <td>6</td>\n",
       "      <td>10</td>\n",
       "      <td>4</td>\n",
       "      <td>PERPNH</td>\n",
       "      <td>Australia</td>\n",
       "      <td>0</td>\n",
       "      <td>1</td>\n",
       "      <td>0</td>\n",
       "      <td>5.62</td>\n",
       "      <td>0</td>\n",
       "      <td>1.0</td>\n",
       "    </tr>\n",
       "  </tbody>\n",
       "</table>\n",
       "</div>"
      ],
      "text/plain": [
       "       num_passengers sales_channel  trip_type  purchase_lead  length_of_stay  \\\n",
       "49995               2      Internet  RoundTrip             27               6   \n",
       "49996               1      Internet  RoundTrip            111               6   \n",
       "49997               1      Internet  RoundTrip             24               6   \n",
       "49998               1      Internet  RoundTrip             15               6   \n",
       "49999               1      Internet  RoundTrip             19               6   \n",
       "\n",
       "       flight_hour  flight_day   route booking_origin  wants_extra_baggage  \\\n",
       "49995            9           6  PERPNH      Australia                    1   \n",
       "49996            4           7  PERPNH      Australia                    0   \n",
       "49997           22           6  PERPNH      Australia                    0   \n",
       "49998           11           1  PERPNH      Australia                    1   \n",
       "49999           10           4  PERPNH      Australia                    0   \n",
       "\n",
       "       wants_preferred_seat  wants_in_flight_meals  flight_duration  \\\n",
       "49995                     0                      1             5.62   \n",
       "49996                     0                      0             5.62   \n",
       "49997                     0                      1             5.62   \n",
       "49998                     0                      1             5.62   \n",
       "49999                     1                      0             5.62   \n",
       "\n",
       "       booking_complete  const  \n",
       "49995                 0    1.0  \n",
       "49996                 0    1.0  \n",
       "49997                 0    1.0  \n",
       "49998                 0    1.0  \n",
       "49999                 0    1.0  "
      ]
     },
     "execution_count": 102,
     "metadata": {},
     "output_type": "execute_result"
    }
   ],
   "source": [
    "df.tail()"
   ]
  },
  {
   "cell_type": "code",
   "execution_count": 101,
   "id": "d5a8c0f4-9926-4c13-bdce-92120b631068",
   "metadata": {
    "execution": {
     "iopub.execute_input": "2022-11-22T06:12:43.478960Z",
     "iopub.status.busy": "2022-11-22T06:12:43.478960Z",
     "iopub.status.idle": "2022-11-22T06:12:43.494959Z",
     "shell.execute_reply": "2022-11-22T06:12:43.494959Z",
     "shell.execute_reply.started": "2022-11-22T06:12:43.478960Z"
    }
   },
   "outputs": [
    {
     "data": {
      "text/plain": [
       "Index(['num_passengers', 'sales_channel', 'trip_type', 'purchase_lead',\n",
       "       'length_of_stay', 'flight_hour', 'flight_day', 'route',\n",
       "       'booking_origin', 'wants_extra_baggage', 'wants_preferred_seat',\n",
       "       'wants_in_flight_meals', 'flight_duration', 'booking_complete',\n",
       "       'const'],\n",
       "      dtype='object')"
      ]
     },
     "execution_count": 101,
     "metadata": {},
     "output_type": "execute_result"
    }
   ],
   "source": [
    "df.columns"
   ]
  },
  {
   "cell_type": "code",
   "execution_count": 104,
   "id": "f2fadaff-ef62-44e9-9563-46fd2ef99f1d",
   "metadata": {
    "execution": {
     "iopub.execute_input": "2022-11-22T06:13:37.944967Z",
     "iopub.status.busy": "2022-11-22T06:13:37.944967Z",
     "iopub.status.idle": "2022-11-22T06:13:37.956966Z",
     "shell.execute_reply": "2022-11-22T06:13:37.956966Z",
     "shell.execute_reply.started": "2022-11-22T06:13:37.944967Z"
    },
    "tags": []
   },
   "outputs": [],
   "source": [
    "df2 = df.drop(['sales_channel', 'trip_type', 'route', 'booking_origin'], axis=1)"
   ]
  },
  {
   "cell_type": "code",
   "execution_count": 105,
   "id": "6e4807e0-e55b-42ca-9604-19a7cfeb2ffb",
   "metadata": {
    "execution": {
     "iopub.execute_input": "2022-11-22T06:13:41.505994Z",
     "iopub.status.busy": "2022-11-22T06:13:41.505994Z",
     "iopub.status.idle": "2022-11-22T06:13:41.523992Z",
     "shell.execute_reply": "2022-11-22T06:13:41.523992Z",
     "shell.execute_reply.started": "2022-11-22T06:13:41.505994Z"
    }
   },
   "outputs": [
    {
     "data": {
      "text/html": [
       "<div>\n",
       "<style scoped>\n",
       "    .dataframe tbody tr th:only-of-type {\n",
       "        vertical-align: middle;\n",
       "    }\n",
       "\n",
       "    .dataframe tbody tr th {\n",
       "        vertical-align: top;\n",
       "    }\n",
       "\n",
       "    .dataframe thead th {\n",
       "        text-align: right;\n",
       "    }\n",
       "</style>\n",
       "<table border=\"1\" class=\"dataframe\">\n",
       "  <thead>\n",
       "    <tr style=\"text-align: right;\">\n",
       "      <th></th>\n",
       "      <th>num_passengers</th>\n",
       "      <th>purchase_lead</th>\n",
       "      <th>length_of_stay</th>\n",
       "      <th>flight_hour</th>\n",
       "      <th>flight_day</th>\n",
       "      <th>wants_extra_baggage</th>\n",
       "      <th>wants_preferred_seat</th>\n",
       "      <th>wants_in_flight_meals</th>\n",
       "      <th>flight_duration</th>\n",
       "      <th>booking_complete</th>\n",
       "      <th>const</th>\n",
       "    </tr>\n",
       "  </thead>\n",
       "  <tbody>\n",
       "    <tr>\n",
       "      <th>49995</th>\n",
       "      <td>2</td>\n",
       "      <td>27</td>\n",
       "      <td>6</td>\n",
       "      <td>9</td>\n",
       "      <td>6</td>\n",
       "      <td>1</td>\n",
       "      <td>0</td>\n",
       "      <td>1</td>\n",
       "      <td>5.62</td>\n",
       "      <td>0</td>\n",
       "      <td>1.0</td>\n",
       "    </tr>\n",
       "    <tr>\n",
       "      <th>49996</th>\n",
       "      <td>1</td>\n",
       "      <td>111</td>\n",
       "      <td>6</td>\n",
       "      <td>4</td>\n",
       "      <td>7</td>\n",
       "      <td>0</td>\n",
       "      <td>0</td>\n",
       "      <td>0</td>\n",
       "      <td>5.62</td>\n",
       "      <td>0</td>\n",
       "      <td>1.0</td>\n",
       "    </tr>\n",
       "    <tr>\n",
       "      <th>49997</th>\n",
       "      <td>1</td>\n",
       "      <td>24</td>\n",
       "      <td>6</td>\n",
       "      <td>22</td>\n",
       "      <td>6</td>\n",
       "      <td>0</td>\n",
       "      <td>0</td>\n",
       "      <td>1</td>\n",
       "      <td>5.62</td>\n",
       "      <td>0</td>\n",
       "      <td>1.0</td>\n",
       "    </tr>\n",
       "    <tr>\n",
       "      <th>49998</th>\n",
       "      <td>1</td>\n",
       "      <td>15</td>\n",
       "      <td>6</td>\n",
       "      <td>11</td>\n",
       "      <td>1</td>\n",
       "      <td>1</td>\n",
       "      <td>0</td>\n",
       "      <td>1</td>\n",
       "      <td>5.62</td>\n",
       "      <td>0</td>\n",
       "      <td>1.0</td>\n",
       "    </tr>\n",
       "    <tr>\n",
       "      <th>49999</th>\n",
       "      <td>1</td>\n",
       "      <td>19</td>\n",
       "      <td>6</td>\n",
       "      <td>10</td>\n",
       "      <td>4</td>\n",
       "      <td>0</td>\n",
       "      <td>1</td>\n",
       "      <td>0</td>\n",
       "      <td>5.62</td>\n",
       "      <td>0</td>\n",
       "      <td>1.0</td>\n",
       "    </tr>\n",
       "  </tbody>\n",
       "</table>\n",
       "</div>"
      ],
      "text/plain": [
       "       num_passengers  purchase_lead  length_of_stay  flight_hour  flight_day  \\\n",
       "49995               2             27               6            9           6   \n",
       "49996               1            111               6            4           7   \n",
       "49997               1             24               6           22           6   \n",
       "49998               1             15               6           11           1   \n",
       "49999               1             19               6           10           4   \n",
       "\n",
       "       wants_extra_baggage  wants_preferred_seat  wants_in_flight_meals  \\\n",
       "49995                    1                     0                      1   \n",
       "49996                    0                     0                      0   \n",
       "49997                    0                     0                      1   \n",
       "49998                    1                     0                      1   \n",
       "49999                    0                     1                      0   \n",
       "\n",
       "       flight_duration  booking_complete  const  \n",
       "49995             5.62                 0    1.0  \n",
       "49996             5.62                 0    1.0  \n",
       "49997             5.62                 0    1.0  \n",
       "49998             5.62                 0    1.0  \n",
       "49999             5.62                 0    1.0  "
      ]
     },
     "execution_count": 105,
     "metadata": {},
     "output_type": "execute_result"
    }
   ],
   "source": [
    "df2.tail()"
   ]
  },
  {
   "cell_type": "code",
   "execution_count": 106,
   "id": "9f27565e-4dea-4375-afa7-4708a6618f69",
   "metadata": {
    "execution": {
     "iopub.execute_input": "2022-11-22T06:13:55.748633Z",
     "iopub.status.busy": "2022-11-22T06:13:55.748633Z",
     "iopub.status.idle": "2022-11-22T06:13:55.759635Z",
     "shell.execute_reply": "2022-11-22T06:13:55.759635Z",
     "shell.execute_reply.started": "2022-11-22T06:13:55.748633Z"
    }
   },
   "outputs": [],
   "source": [
    "X_train, X_test, y_train, y_test = train_test_split(df2.drop('booking_complete', axis=1), \n",
    "                                                    df2.booking_complete, \n",
    "                                                    test_size=0.2,\n",
    "                                                    random_state=42)"
   ]
  },
  {
   "cell_type": "code",
   "execution_count": 107,
   "id": "e03108ed-4a34-44f6-a5c9-ddbc1fd17910",
   "metadata": {
    "execution": {
     "iopub.execute_input": "2022-11-22T06:14:09.338971Z",
     "iopub.status.busy": "2022-11-22T06:14:09.338971Z",
     "iopub.status.idle": "2022-11-22T06:14:09.362609Z",
     "shell.execute_reply": "2022-11-22T06:14:09.362609Z",
     "shell.execute_reply.started": "2022-11-22T06:14:09.338971Z"
    }
   },
   "outputs": [],
   "source": [
    "model = sm.OLS(y_train, X_train).fit()"
   ]
  },
  {
   "cell_type": "code",
   "execution_count": 108,
   "id": "2fe1ce07-4433-4283-bcb7-5a44e5f6f4e8",
   "metadata": {
    "execution": {
     "iopub.execute_input": "2022-11-22T06:14:17.202679Z",
     "iopub.status.busy": "2022-11-22T06:14:17.202679Z",
     "iopub.status.idle": "2022-11-22T06:14:17.219674Z",
     "shell.execute_reply": "2022-11-22T06:14:17.219674Z",
     "shell.execute_reply.started": "2022-11-22T06:14:17.202679Z"
    }
   },
   "outputs": [
    {
     "name": "stdout",
     "output_type": "stream",
     "text": [
      "                            OLS Regression Results                            \n",
      "==============================================================================\n",
      "Dep. Variable:       booking_complete   R-squared:                       0.020\n",
      "Model:                            OLS   Adj. R-squared:                  0.020\n",
      "Method:                 Least Squares   F-statistic:                     92.31\n",
      "Date:                Tue, 22 Nov 2022   Prob (F-statistic):          3.34e-171\n",
      "Time:                        17:14:17   Log-Likelihood:                -15148.\n",
      "No. Observations:               40000   AIC:                         3.032e+04\n",
      "Df Residuals:                   39990   BIC:                         3.040e+04\n",
      "Df Model:                           9                                         \n",
      "Covariance Type:            nonrobust                                         \n",
      "=========================================================================================\n",
      "                            coef    std err          t      P>|t|      [0.025      0.975]\n",
      "-----------------------------------------------------------------------------------------\n",
      "num_passengers            0.0053      0.002      2.919      0.004       0.002       0.009\n",
      "purchase_lead         -6.102e-05   2.02e-05     -3.022      0.003      -0.000   -2.14e-05\n",
      "length_of_stay           -0.0005   5.48e-05     -8.371      0.000      -0.001      -0.000\n",
      "flight_hour               0.0005      0.000      1.559      0.119      -0.000       0.001\n",
      "flight_day               -0.0013      0.001     -1.439      0.150      -0.003       0.000\n",
      "wants_extra_baggage       0.0485      0.004     12.181      0.000       0.041       0.056\n",
      "wants_preferred_seat      0.0319      0.004      7.719      0.000       0.024       0.040\n",
      "wants_in_flight_meals     0.0153      0.004      3.961      0.000       0.008       0.023\n",
      "flight_duration          -0.0250      0.001    -20.642      0.000      -0.027      -0.023\n",
      "const                     0.2913      0.010     27.882      0.000       0.271       0.312\n",
      "==============================================================================\n",
      "Omnibus:                    12746.485   Durbin-Watson:                   1.999\n",
      "Prob(Omnibus):                  0.000   Jarque-Bera (JB):            29376.989\n",
      "Skew:                           1.902   Prob(JB):                         0.00\n",
      "Kurtosis:                       4.775   Cond. No.                         745.\n",
      "==============================================================================\n",
      "\n",
      "Notes:\n",
      "[1] Standard Errors assume that the covariance matrix of the errors is correctly specified.\n"
     ]
    }
   ],
   "source": [
    "print(model.summary())"
   ]
  },
  {
   "cell_type": "code",
   "execution_count": 146,
   "id": "e8a045eb-51ab-4369-b261-348b14c55685",
   "metadata": {
    "execution": {
     "iopub.execute_input": "2022-11-22T06:29:56.675550Z",
     "iopub.status.busy": "2022-11-22T06:29:56.674547Z",
     "iopub.status.idle": "2022-11-22T06:29:56.682550Z",
     "shell.execute_reply": "2022-11-22T06:29:56.682550Z",
     "shell.execute_reply.started": "2022-11-22T06:29:56.674547Z"
    },
    "tags": []
   },
   "outputs": [],
   "source": [
    "from sklearn.neural_network import MLPRegressor, MLPClassifier"
   ]
  },
  {
   "cell_type": "code",
   "execution_count": 171,
   "id": "caa92843-398b-4e85-a15a-f13000e6020f",
   "metadata": {
    "execution": {
     "iopub.execute_input": "2022-11-22T06:36:07.493012Z",
     "iopub.status.busy": "2022-11-22T06:36:07.493012Z",
     "iopub.status.idle": "2022-11-22T06:36:11.827402Z",
     "shell.execute_reply": "2022-11-22T06:36:11.827402Z",
     "shell.execute_reply.started": "2022-11-22T06:36:07.493012Z"
    },
    "tags": []
   },
   "outputs": [],
   "source": [
    "clf = MLPClassifier(random_state=42, max_iter=1000, solver='adam', verbose=True, learning_rate_init=0.01)\n",
    "clf = regr.fit(X_train, y_train)"
   ]
  },
  {
   "cell_type": "code",
   "execution_count": 172,
   "id": "eb281364-dd99-4cef-9ab7-dcbd6e5ea34a",
   "metadata": {
    "execution": {
     "iopub.execute_input": "2022-11-22T06:36:33.741769Z",
     "iopub.status.busy": "2022-11-22T06:36:33.741769Z",
     "iopub.status.idle": "2022-11-22T06:36:33.774273Z",
     "shell.execute_reply": "2022-11-22T06:36:33.774273Z",
     "shell.execute_reply.started": "2022-11-22T06:36:33.741769Z"
    },
    "tags": []
   },
   "outputs": [
    {
     "name": "stdout",
     "output_type": "stream",
     "text": [
      "Training set score: 0.850075\n",
      "Test set score: 0.852000\n"
     ]
    }
   ],
   "source": [
    "print(\"Training set score: %f\" % clf.score(X_train, y_train))\n",
    "print(\"Test set score: %f\" % clf.score(X_test, y_test))"
   ]
  },
  {
   "cell_type": "code",
   "execution_count": 161,
   "id": "1ced3b71-671a-425b-b81d-e72596a3bcd7",
   "metadata": {
    "execution": {
     "iopub.execute_input": "2022-11-22T06:32:04.537909Z",
     "iopub.status.busy": "2022-11-22T06:32:04.537909Z",
     "iopub.status.idle": "2022-11-22T06:32:04.552855Z",
     "shell.execute_reply": "2022-11-22T06:32:04.552855Z",
     "shell.execute_reply.started": "2022-11-22T06:32:04.537909Z"
    },
    "tags": []
   },
   "outputs": [
    {
     "data": {
      "text/plain": [
       "{'activation': 'relu',\n",
       " 'alpha': 0.0001,\n",
       " 'batch_size': 'auto',\n",
       " 'beta_1': 0.9,\n",
       " 'beta_2': 0.999,\n",
       " 'early_stopping': False,\n",
       " 'epsilon': 1e-08,\n",
       " 'hidden_layer_sizes': (100,),\n",
       " 'learning_rate': 'constant',\n",
       " 'learning_rate_init': 0.001,\n",
       " 'max_fun': 15000,\n",
       " 'max_iter': 500,\n",
       " 'momentum': 0.9,\n",
       " 'n_iter_no_change': 10,\n",
       " 'nesterovs_momentum': True,\n",
       " 'power_t': 0.5,\n",
       " 'random_state': 42,\n",
       " 'shuffle': True,\n",
       " 'solver': 'adam',\n",
       " 'tol': 0.0001,\n",
       " 'validation_fraction': 0.1,\n",
       " 'verbose': False,\n",
       " 'warm_start': False}"
      ]
     },
     "execution_count": 161,
     "metadata": {},
     "output_type": "execute_result"
    }
   ],
   "source": [
    "clf.get_params()"
   ]
  },
  {
   "cell_type": "code",
   "execution_count": 165,
   "id": "021be36d-a820-4f50-bd0d-ed63be44da97",
   "metadata": {
    "execution": {
     "iopub.execute_input": "2022-11-22T06:34:01.963992Z",
     "iopub.status.busy": "2022-11-22T06:34:01.963992Z",
     "iopub.status.idle": "2022-11-22T06:34:01.975992Z",
     "shell.execute_reply": "2022-11-22T06:34:01.974993Z",
     "shell.execute_reply.started": "2022-11-22T06:34:01.963992Z"
    }
   },
   "outputs": [
    {
     "data": {
      "text/html": [
       "<style>#sk-container-id-3 {color: black;background-color: white;}#sk-container-id-3 pre{padding: 0;}#sk-container-id-3 div.sk-toggleable {background-color: white;}#sk-container-id-3 label.sk-toggleable__label {cursor: pointer;display: block;width: 100%;margin-bottom: 0;padding: 0.3em;box-sizing: border-box;text-align: center;}#sk-container-id-3 label.sk-toggleable__label-arrow:before {content: \"▸\";float: left;margin-right: 0.25em;color: #696969;}#sk-container-id-3 label.sk-toggleable__label-arrow:hover:before {color: black;}#sk-container-id-3 div.sk-estimator:hover label.sk-toggleable__label-arrow:before {color: black;}#sk-container-id-3 div.sk-toggleable__content {max-height: 0;max-width: 0;overflow: hidden;text-align: left;background-color: #f0f8ff;}#sk-container-id-3 div.sk-toggleable__content pre {margin: 0.2em;color: black;border-radius: 0.25em;background-color: #f0f8ff;}#sk-container-id-3 input.sk-toggleable__control:checked~div.sk-toggleable__content {max-height: 200px;max-width: 100%;overflow: auto;}#sk-container-id-3 input.sk-toggleable__control:checked~label.sk-toggleable__label-arrow:before {content: \"▾\";}#sk-container-id-3 div.sk-estimator input.sk-toggleable__control:checked~label.sk-toggleable__label {background-color: #d4ebff;}#sk-container-id-3 div.sk-label input.sk-toggleable__control:checked~label.sk-toggleable__label {background-color: #d4ebff;}#sk-container-id-3 input.sk-hidden--visually {border: 0;clip: rect(1px 1px 1px 1px);clip: rect(1px, 1px, 1px, 1px);height: 1px;margin: -1px;overflow: hidden;padding: 0;position: absolute;width: 1px;}#sk-container-id-3 div.sk-estimator {font-family: monospace;background-color: #f0f8ff;border: 1px dotted black;border-radius: 0.25em;box-sizing: border-box;margin-bottom: 0.5em;}#sk-container-id-3 div.sk-estimator:hover {background-color: #d4ebff;}#sk-container-id-3 div.sk-parallel-item::after {content: \"\";width: 100%;border-bottom: 1px solid gray;flex-grow: 1;}#sk-container-id-3 div.sk-label:hover label.sk-toggleable__label {background-color: #d4ebff;}#sk-container-id-3 div.sk-serial::before {content: \"\";position: absolute;border-left: 1px solid gray;box-sizing: border-box;top: 0;bottom: 0;left: 50%;z-index: 0;}#sk-container-id-3 div.sk-serial {display: flex;flex-direction: column;align-items: center;background-color: white;padding-right: 0.2em;padding-left: 0.2em;position: relative;}#sk-container-id-3 div.sk-item {position: relative;z-index: 1;}#sk-container-id-3 div.sk-parallel {display: flex;align-items: stretch;justify-content: center;background-color: white;position: relative;}#sk-container-id-3 div.sk-item::before, #sk-container-id-3 div.sk-parallel-item::before {content: \"\";position: absolute;border-left: 1px solid gray;box-sizing: border-box;top: 0;bottom: 0;left: 50%;z-index: -1;}#sk-container-id-3 div.sk-parallel-item {display: flex;flex-direction: column;z-index: 1;position: relative;background-color: white;}#sk-container-id-3 div.sk-parallel-item:first-child::after {align-self: flex-end;width: 50%;}#sk-container-id-3 div.sk-parallel-item:last-child::after {align-self: flex-start;width: 50%;}#sk-container-id-3 div.sk-parallel-item:only-child::after {width: 0;}#sk-container-id-3 div.sk-dashed-wrapped {border: 1px dashed gray;margin: 0 0.4em 0.5em 0.4em;box-sizing: border-box;padding-bottom: 0.4em;background-color: white;}#sk-container-id-3 div.sk-label label {font-family: monospace;font-weight: bold;display: inline-block;line-height: 1.2em;}#sk-container-id-3 div.sk-label-container {text-align: center;}#sk-container-id-3 div.sk-container {/* jupyter's `normalize.less` sets `[hidden] { display: none; }` but bootstrap.min.css set `[hidden] { display: none !important; }` so we also need the `!important` here to be able to override the default hidden behavior on the sphinx rendered scikit-learn.org. See: https://github.com/scikit-learn/scikit-learn/issues/21755 */display: inline-block !important;position: relative;}#sk-container-id-3 div.sk-text-repr-fallback {display: none;}</style><div id=\"sk-container-id-3\" class=\"sk-top-container\"><div class=\"sk-text-repr-fallback\"><pre>MLPClassifier(max_iter=500, random_state=42)</pre><b>In a Jupyter environment, please rerun this cell to show the HTML representation or trust the notebook. <br />On GitHub, the HTML representation is unable to render, please try loading this page with nbviewer.org.</b></div><div class=\"sk-container\" hidden><div class=\"sk-item\"><div class=\"sk-estimator sk-toggleable\"><input class=\"sk-toggleable__control sk-hidden--visually\" id=\"sk-estimator-id-3\" type=\"checkbox\" checked><label for=\"sk-estimator-id-3\" class=\"sk-toggleable__label sk-toggleable__label-arrow\">MLPClassifier</label><div class=\"sk-toggleable__content\"><pre>MLPClassifier(max_iter=500, random_state=42)</pre></div></div></div></div></div>"
      ],
      "text/plain": [
       "MLPClassifier(max_iter=500, random_state=42)"
      ]
     },
     "execution_count": 165,
     "metadata": {},
     "output_type": "execute_result"
    }
   ],
   "source": [
    "clf"
   ]
  },
  {
   "cell_type": "code",
   "execution_count": 180,
   "id": "47b8852f-8cda-4332-8581-9ed0e9608dc6",
   "metadata": {
    "execution": {
     "iopub.execute_input": "2022-11-22T06:44:00.594001Z",
     "iopub.status.busy": "2022-11-22T06:44:00.594001Z",
     "iopub.status.idle": "2022-11-22T06:44:00.609000Z",
     "shell.execute_reply": "2022-11-22T06:44:00.609000Z",
     "shell.execute_reply.started": "2022-11-22T06:44:00.594001Z"
    }
   },
   "outputs": [
    {
     "data": {
      "text/plain": [
       "Index(['num_passengers', 'sales_channel', 'trip_type', 'purchase_lead',\n",
       "       'length_of_stay', 'flight_hour', 'flight_day', 'route',\n",
       "       'booking_origin', 'wants_extra_baggage', 'wants_preferred_seat',\n",
       "       'wants_in_flight_meals', 'flight_duration', 'booking_complete',\n",
       "       'const'],\n",
       "      dtype='object')"
      ]
     },
     "execution_count": 180,
     "metadata": {},
     "output_type": "execute_result"
    }
   ],
   "source": [
    "df.columns"
   ]
  },
  {
   "cell_type": "code",
   "execution_count": 181,
   "id": "459e5a1e-1989-4944-be8c-f273961ead08",
   "metadata": {
    "execution": {
     "iopub.execute_input": "2022-11-22T06:44:49.059954Z",
     "iopub.status.busy": "2022-11-22T06:44:49.059954Z",
     "iopub.status.idle": "2022-11-22T06:44:49.083071Z",
     "shell.execute_reply": "2022-11-22T06:44:49.083071Z",
     "shell.execute_reply.started": "2022-11-22T06:44:49.059954Z"
    }
   },
   "outputs": [
    {
     "data": {
      "text/html": [
       "<div>\n",
       "<style scoped>\n",
       "    .dataframe tbody tr th:only-of-type {\n",
       "        vertical-align: middle;\n",
       "    }\n",
       "\n",
       "    .dataframe tbody tr th {\n",
       "        vertical-align: top;\n",
       "    }\n",
       "\n",
       "    .dataframe thead th {\n",
       "        text-align: right;\n",
       "    }\n",
       "</style>\n",
       "<table border=\"1\" class=\"dataframe\">\n",
       "  <thead>\n",
       "    <tr style=\"text-align: right;\">\n",
       "      <th></th>\n",
       "      <th>num_passengers</th>\n",
       "      <th>sales_channel</th>\n",
       "      <th>trip_type</th>\n",
       "      <th>purchase_lead</th>\n",
       "      <th>length_of_stay</th>\n",
       "      <th>flight_hour</th>\n",
       "      <th>flight_day</th>\n",
       "      <th>route</th>\n",
       "      <th>booking_origin</th>\n",
       "      <th>wants_extra_baggage</th>\n",
       "      <th>wants_preferred_seat</th>\n",
       "      <th>wants_in_flight_meals</th>\n",
       "      <th>flight_duration</th>\n",
       "      <th>booking_complete</th>\n",
       "      <th>const</th>\n",
       "    </tr>\n",
       "  </thead>\n",
       "  <tbody>\n",
       "    <tr>\n",
       "      <th>49995</th>\n",
       "      <td>2</td>\n",
       "      <td>Internet</td>\n",
       "      <td>RoundTrip</td>\n",
       "      <td>27</td>\n",
       "      <td>6</td>\n",
       "      <td>9</td>\n",
       "      <td>6</td>\n",
       "      <td>PERPNH</td>\n",
       "      <td>Australia</td>\n",
       "      <td>1</td>\n",
       "      <td>0</td>\n",
       "      <td>1</td>\n",
       "      <td>5.62</td>\n",
       "      <td>0</td>\n",
       "      <td>1.0</td>\n",
       "    </tr>\n",
       "    <tr>\n",
       "      <th>49996</th>\n",
       "      <td>1</td>\n",
       "      <td>Internet</td>\n",
       "      <td>RoundTrip</td>\n",
       "      <td>111</td>\n",
       "      <td>6</td>\n",
       "      <td>4</td>\n",
       "      <td>7</td>\n",
       "      <td>PERPNH</td>\n",
       "      <td>Australia</td>\n",
       "      <td>0</td>\n",
       "      <td>0</td>\n",
       "      <td>0</td>\n",
       "      <td>5.62</td>\n",
       "      <td>0</td>\n",
       "      <td>1.0</td>\n",
       "    </tr>\n",
       "    <tr>\n",
       "      <th>49997</th>\n",
       "      <td>1</td>\n",
       "      <td>Internet</td>\n",
       "      <td>RoundTrip</td>\n",
       "      <td>24</td>\n",
       "      <td>6</td>\n",
       "      <td>22</td>\n",
       "      <td>6</td>\n",
       "      <td>PERPNH</td>\n",
       "      <td>Australia</td>\n",
       "      <td>0</td>\n",
       "      <td>0</td>\n",
       "      <td>1</td>\n",
       "      <td>5.62</td>\n",
       "      <td>0</td>\n",
       "      <td>1.0</td>\n",
       "    </tr>\n",
       "    <tr>\n",
       "      <th>49998</th>\n",
       "      <td>1</td>\n",
       "      <td>Internet</td>\n",
       "      <td>RoundTrip</td>\n",
       "      <td>15</td>\n",
       "      <td>6</td>\n",
       "      <td>11</td>\n",
       "      <td>1</td>\n",
       "      <td>PERPNH</td>\n",
       "      <td>Australia</td>\n",
       "      <td>1</td>\n",
       "      <td>0</td>\n",
       "      <td>1</td>\n",
       "      <td>5.62</td>\n",
       "      <td>0</td>\n",
       "      <td>1.0</td>\n",
       "    </tr>\n",
       "    <tr>\n",
       "      <th>49999</th>\n",
       "      <td>1</td>\n",
       "      <td>Internet</td>\n",
       "      <td>RoundTrip</td>\n",
       "      <td>19</td>\n",
       "      <td>6</td>\n",
       "      <td>10</td>\n",
       "      <td>4</td>\n",
       "      <td>PERPNH</td>\n",
       "      <td>Australia</td>\n",
       "      <td>0</td>\n",
       "      <td>1</td>\n",
       "      <td>0</td>\n",
       "      <td>5.62</td>\n",
       "      <td>0</td>\n",
       "      <td>1.0</td>\n",
       "    </tr>\n",
       "  </tbody>\n",
       "</table>\n",
       "</div>"
      ],
      "text/plain": [
       "       num_passengers sales_channel  trip_type  purchase_lead  length_of_stay  \\\n",
       "49995               2      Internet  RoundTrip             27               6   \n",
       "49996               1      Internet  RoundTrip            111               6   \n",
       "49997               1      Internet  RoundTrip             24               6   \n",
       "49998               1      Internet  RoundTrip             15               6   \n",
       "49999               1      Internet  RoundTrip             19               6   \n",
       "\n",
       "       flight_hour  flight_day   route booking_origin  wants_extra_baggage  \\\n",
       "49995            9           6  PERPNH      Australia                    1   \n",
       "49996            4           7  PERPNH      Australia                    0   \n",
       "49997           22           6  PERPNH      Australia                    0   \n",
       "49998           11           1  PERPNH      Australia                    1   \n",
       "49999           10           4  PERPNH      Australia                    0   \n",
       "\n",
       "       wants_preferred_seat  wants_in_flight_meals  flight_duration  \\\n",
       "49995                     0                      1             5.62   \n",
       "49996                     0                      0             5.62   \n",
       "49997                     0                      1             5.62   \n",
       "49998                     0                      1             5.62   \n",
       "49999                     1                      0             5.62   \n",
       "\n",
       "       booking_complete  const  \n",
       "49995                 0    1.0  \n",
       "49996                 0    1.0  \n",
       "49997                 0    1.0  \n",
       "49998                 0    1.0  \n",
       "49999                 0    1.0  "
      ]
     },
     "execution_count": 181,
     "metadata": {},
     "output_type": "execute_result"
    }
   ],
   "source": [
    "df.tail()"
   ]
  },
  {
   "cell_type": "code",
   "execution_count": 192,
   "id": "016ffde7-4ab0-48d9-bd30-05ea2d4bbaf8",
   "metadata": {
    "execution": {
     "iopub.execute_input": "2022-11-22T06:46:59.245842Z",
     "iopub.status.busy": "2022-11-22T06:46:59.245842Z",
     "iopub.status.idle": "2022-11-22T06:46:59.260836Z",
     "shell.execute_reply": "2022-11-22T06:46:59.260836Z",
     "shell.execute_reply.started": "2022-11-22T06:46:59.245842Z"
    }
   },
   "outputs": [],
   "source": [
    "df3 = df.copy()"
   ]
  },
  {
   "cell_type": "code",
   "execution_count": 194,
   "id": "c65cad54-0d3f-4beb-aadd-f0669b8f31bc",
   "metadata": {
    "execution": {
     "iopub.execute_input": "2022-11-22T06:47:34.148414Z",
     "iopub.status.busy": "2022-11-22T06:47:34.147414Z",
     "iopub.status.idle": "2022-11-22T06:47:34.168416Z",
     "shell.execute_reply": "2022-11-22T06:47:34.167413Z",
     "shell.execute_reply.started": "2022-11-22T06:47:34.148414Z"
    },
    "tags": []
   },
   "outputs": [],
   "source": [
    "df3.sales_channel = df3.sales_channel.map(dict(zip(df.sales_channel.unique(), np.arange(0,len(df.sales_channel.unique())))))"
   ]
  },
  {
   "cell_type": "code",
   "execution_count": 195,
   "id": "be93d1be-7d5d-4a9d-93cf-ac284fd41b7d",
   "metadata": {
    "execution": {
     "iopub.execute_input": "2022-11-22T06:47:48.107119Z",
     "iopub.status.busy": "2022-11-22T06:47:48.107119Z",
     "iopub.status.idle": "2022-11-22T06:47:48.118120Z",
     "shell.execute_reply": "2022-11-22T06:47:48.118120Z",
     "shell.execute_reply.started": "2022-11-22T06:47:48.107119Z"
    },
    "tags": []
   },
   "outputs": [],
   "source": [
    "df3.trip_type = df3.trip_type.map(dict(zip(df.trip_type.unique(), np.arange(0,len(df.trip_type.unique())))))"
   ]
  },
  {
   "cell_type": "code",
   "execution_count": 196,
   "id": "3970aaf2-7023-4c15-8a01-67741d54813b",
   "metadata": {
    "execution": {
     "iopub.execute_input": "2022-11-22T06:47:58.480988Z",
     "iopub.status.busy": "2022-11-22T06:47:58.480988Z",
     "iopub.status.idle": "2022-11-22T06:47:58.501987Z",
     "shell.execute_reply": "2022-11-22T06:47:58.500990Z",
     "shell.execute_reply.started": "2022-11-22T06:47:58.480988Z"
    },
    "scrolled": true,
    "tags": []
   },
   "outputs": [],
   "source": [
    "df3.route = df3.route.map(dict(zip(df.route.unique(), np.arange(0,len(df.route.unique())))))"
   ]
  },
  {
   "cell_type": "code",
   "execution_count": 197,
   "id": "53c1b357-cd41-4278-8ca9-24fa8b3b53f4",
   "metadata": {
    "execution": {
     "iopub.execute_input": "2022-11-22T06:48:19.021973Z",
     "iopub.status.busy": "2022-11-22T06:48:19.021973Z",
     "iopub.status.idle": "2022-11-22T06:48:19.030973Z",
     "shell.execute_reply": "2022-11-22T06:48:19.030973Z",
     "shell.execute_reply.started": "2022-11-22T06:48:19.021973Z"
    },
    "scrolled": true,
    "tags": []
   },
   "outputs": [],
   "source": [
    "df3.booking_origin = df3.booking_origin.map(dict(zip(df.booking_origin.unique(), np.arange(0,len(df.booking_origin.unique())))))"
   ]
  },
  {
   "cell_type": "code",
   "execution_count": 204,
   "id": "da26d70e-3bf2-478e-aed1-b119025abf7e",
   "metadata": {
    "execution": {
     "iopub.execute_input": "2022-11-22T06:49:44.247977Z",
     "iopub.status.busy": "2022-11-22T06:49:44.247977Z",
     "iopub.status.idle": "2022-11-22T06:49:44.263981Z",
     "shell.execute_reply": "2022-11-22T06:49:44.263981Z",
     "shell.execute_reply.started": "2022-11-22T06:49:44.247977Z"
    },
    "tags": []
   },
   "outputs": [],
   "source": [
    "df3 = df3.astype({\"sales_channel\": \"int8\", \"trip_type\": \"int8\", \"route\": \"int8\", \"booking_origin\": \"int8\"})"
   ]
  },
  {
   "cell_type": "code",
   "execution_count": 205,
   "id": "59eb4dc4-ab98-4af9-a968-2d05a57e52be",
   "metadata": {
    "execution": {
     "iopub.execute_input": "2022-11-22T06:49:49.899089Z",
     "iopub.status.busy": "2022-11-22T06:49:49.899089Z",
     "iopub.status.idle": "2022-11-22T06:49:49.929089Z",
     "shell.execute_reply": "2022-11-22T06:49:49.929089Z",
     "shell.execute_reply.started": "2022-11-22T06:49:49.899089Z"
    },
    "tags": []
   },
   "outputs": [],
   "source": [
    "X_train, X_test, y_train, y_test = train_test_split(df3.drop('booking_complete', axis=1), \n",
    "                                                    df3.booking_complete, \n",
    "                                                    test_size=0.2,\n",
    "                                                    random_state=42)"
   ]
  },
  {
   "cell_type": "code",
   "execution_count": 206,
   "id": "94aac39a-894e-4d11-aba6-10eef6aaeaaf",
   "metadata": {
    "execution": {
     "iopub.execute_input": "2022-11-22T06:49:53.796000Z",
     "iopub.status.busy": "2022-11-22T06:49:53.796000Z",
     "iopub.status.idle": "2022-11-22T06:50:10.406219Z",
     "shell.execute_reply": "2022-11-22T06:50:10.406219Z",
     "shell.execute_reply.started": "2022-11-22T06:49:53.796000Z"
    },
    "tags": []
   },
   "outputs": [],
   "source": [
    "clf = MLPClassifier(random_state=42, max_iter=500, solver='adam', verbose=True)\n",
    "clf = regr.fit(X_train, y_train)"
   ]
  },
  {
   "cell_type": "code",
   "execution_count": 207,
   "id": "5a962173-1155-4e0e-91c7-1c1608b08ace",
   "metadata": {
    "execution": {
     "iopub.execute_input": "2022-11-22T06:50:10.408223Z",
     "iopub.status.busy": "2022-11-22T06:50:10.408223Z",
     "iopub.status.idle": "2022-11-22T06:50:10.454219Z",
     "shell.execute_reply": "2022-11-22T06:50:10.454219Z",
     "shell.execute_reply.started": "2022-11-22T06:50:10.408223Z"
    },
    "tags": []
   },
   "outputs": [
    {
     "name": "stdout",
     "output_type": "stream",
     "text": [
      "Training set score: 0.850250\n",
      "Test set score: 0.851900\n"
     ]
    }
   ],
   "source": [
    "print(\"Training set score: %f\" % clf.score(X_train, y_train))\n",
    "print(\"Test set score: %f\" % clf.score(X_test, y_test))"
   ]
  },
  {
   "cell_type": "code",
   "execution_count": 209,
   "id": "c2be0ce4-3b64-4da4-9b04-143697b11e28",
   "metadata": {
    "execution": {
     "iopub.execute_input": "2022-11-22T06:51:00.687398Z",
     "iopub.status.busy": "2022-11-22T06:51:00.687398Z",
     "iopub.status.idle": "2022-11-22T06:51:00.699401Z",
     "shell.execute_reply": "2022-11-22T06:51:00.699401Z",
     "shell.execute_reply.started": "2022-11-22T06:51:00.687398Z"
    },
    "tags": []
   },
   "outputs": [
    {
     "data": {
      "text/plain": [
       "[array([ 1.00071090e-01,  6.23685875e-02, -5.91639075e-01,  2.90610560e-01,\n",
       "         2.47031496e-01,  1.26460470e-01,  1.43611384e-01,  2.59400467e-02,\n",
       "        -1.57949156e-01,  1.22950150e-01, -2.87271224e-01, -4.09991946e-01,\n",
       "        -1.32486439e-01, -8.61024708e-02,  1.61852410e-01,  3.49202522e-01,\n",
       "        -5.84538931e-01, -2.07405987e-01,  2.44879119e-02,  1.74507305e-01,\n",
       "         1.83224930e-01, -1.47067668e-01, -3.22590256e-02, -1.38599665e-01,\n",
       "         4.76924000e-02,  4.26731790e-01, -1.28787726e-01,  4.20002864e-01,\n",
       "        -2.06304571e-02,  1.23611246e-01,  2.14122985e-02, -3.11071917e-01,\n",
       "        -6.34598241e-02,  4.60218357e-02, -6.00244686e-02, -2.07957660e-01,\n",
       "         1.23142115e-01, -1.23647045e-01, -2.95569236e-01,  2.08554996e-01,\n",
       "         1.47380772e-01,  4.42524464e-02, -1.19616218e-02, -5.01192049e-01,\n",
       "         1.18143797e-01, -2.94747236e-01, -5.08803912e-02,  3.76583522e-02,\n",
       "         1.98594569e-01, -1.06724998e-01, -1.88171969e-01, -2.48120079e-01,\n",
       "        -3.79384240e-02,  4.84467089e-03, -3.66926868e-01,  4.57190686e-01,\n",
       "        -6.19139604e-02, -3.78230847e-01, -3.65288013e-01, -1.33374002e-01,\n",
       "        -2.75506428e-01,  1.65128821e-01, -2.05362732e-01,  1.14104386e-02,\n",
       "         1.10279900e-01, -2.23193740e-01,  2.91473607e-02,  1.28934656e-01,\n",
       "         1.61604581e-01,  2.18509635e-02,  1.10694636e-01,  1.25835857e-02,\n",
       "         3.33193256e-01, -2.14034676e-01, -7.50778588e-03,  9.87604185e-02,\n",
       "         2.50203182e-01,  1.41132292e-01, -7.64034065e-02, -2.89330588e-01,\n",
       "         9.17325131e-02, -1.49156327e-01, -1.16204414e-01, -3.64257813e-01,\n",
       "        -2.37559806e-01,  1.30718160e-01, -8.71888370e-01, -5.12809515e-02,\n",
       "         1.25328011e-01, -2.61427261e-01, -3.51695683e-01, -1.88466696e-01,\n",
       "        -4.86780443e-01, -3.35367339e-04,  5.22601684e-02, -1.52167885e-01,\n",
       "         3.19555857e-01,  4.22535219e-02,  1.51095957e-01, -1.69370523e-02]),\n",
       " array([-0.3192811])]"
      ]
     },
     "execution_count": 209,
     "metadata": {},
     "output_type": "execute_result"
    }
   ],
   "source": [
    "clf.intercepts_"
   ]
  },
  {
   "cell_type": "code",
   "execution_count": 222,
   "id": "3fa8a115-67b2-4d70-8eac-ac1d4e1c5d2b",
   "metadata": {
    "execution": {
     "iopub.execute_input": "2022-11-22T06:53:15.300005Z",
     "iopub.status.busy": "2022-11-22T06:53:15.300005Z",
     "iopub.status.idle": "2022-11-22T06:53:16.003450Z",
     "shell.execute_reply": "2022-11-22T06:53:16.003450Z",
     "shell.execute_reply.started": "2022-11-22T06:53:15.300005Z"
    }
   },
   "outputs": [],
   "source": [
    "import seaborn as sns"
   ]
  },
  {
   "cell_type": "code",
   "execution_count": 224,
   "id": "b156d598-aa7a-4173-a238-82b33cf41482",
   "metadata": {
    "execution": {
     "iopub.execute_input": "2022-11-22T06:53:27.566612Z",
     "iopub.status.busy": "2022-11-22T06:53:27.566612Z",
     "iopub.status.idle": "2022-11-22T06:53:27.959290Z",
     "shell.execute_reply": "2022-11-22T06:53:27.959290Z",
     "shell.execute_reply.started": "2022-11-22T06:53:27.566612Z"
    },
    "tags": []
   },
   "outputs": [
    {
     "data": {
      "text/plain": [
       "<AxesSubplot:>"
      ]
     },
     "execution_count": 224,
     "metadata": {},
     "output_type": "execute_result"
    },
    {
     "data": {
      "image/png": "[encoded data removed]",
      "text/plain": [
       "<Figure size 432x288 with 2 Axes>"
      ]
     },
     "metadata": {
      "needs_background": "light"
     },
     "output_type": "display_data"
    }
   ],
   "source": [
    "sns.heatmap(df2.drop('const', axis=1).corr(), annot=True)"
   ]
  },
  {
   "cell_type": "code",
   "execution_count": 238,
   "id": "a8e6dbb3-a488-4611-8e27-b9bcc8e90536",
   "metadata": {
    "execution": {
     "iopub.execute_input": "2022-11-22T06:56:38.955024Z",
     "iopub.status.busy": "2022-11-22T06:56:38.954021Z",
     "iopub.status.idle": "2022-11-22T06:56:38.986018Z",
     "shell.execute_reply": "2022-11-22T06:56:38.986018Z",
     "shell.execute_reply.started": "2022-11-22T06:56:38.955024Z"
    },
    "tags": []
   },
   "outputs": [
    {
     "data": {
      "text/html": [
       "<div>\n",
       "<style scoped>\n",
       "    .dataframe tbody tr th:only-of-type {\n",
       "        vertical-align: middle;\n",
       "    }\n",
       "\n",
       "    .dataframe tbody tr th {\n",
       "        vertical-align: top;\n",
       "    }\n",
       "\n",
       "    .dataframe thead th {\n",
       "        text-align: right;\n",
       "    }\n",
       "</style>\n",
       "<table border=\"1\" class=\"dataframe\">\n",
       "  <thead>\n",
       "    <tr style=\"text-align: right;\">\n",
       "      <th></th>\n",
       "      <th>index</th>\n",
       "      <th>booking_complete</th>\n",
       "    </tr>\n",
       "  </thead>\n",
       "  <tbody>\n",
       "    <tr>\n",
       "      <th>5</th>\n",
       "      <td>wants_extra_baggage</td>\n",
       "      <td>0.068139</td>\n",
       "    </tr>\n",
       "    <tr>\n",
       "      <th>6</th>\n",
       "      <td>wants_preferred_seat</td>\n",
       "      <td>0.050116</td>\n",
       "    </tr>\n",
       "    <tr>\n",
       "      <th>7</th>\n",
       "      <td>wants_in_flight_meals</td>\n",
       "      <td>0.026511</td>\n",
       "    </tr>\n",
       "    <tr>\n",
       "      <th>0</th>\n",
       "      <td>num_passengers</td>\n",
       "      <td>0.024116</td>\n",
       "    </tr>\n",
       "    <tr>\n",
       "      <th>3</th>\n",
       "      <td>flight_hour</td>\n",
       "      <td>0.007127</td>\n",
       "    </tr>\n",
       "    <tr>\n",
       "      <th>4</th>\n",
       "      <td>flight_day</td>\n",
       "      <td>-0.006986</td>\n",
       "    </tr>\n",
       "    <tr>\n",
       "      <th>1</th>\n",
       "      <td>purchase_lead</td>\n",
       "      <td>-0.022131</td>\n",
       "    </tr>\n",
       "    <tr>\n",
       "      <th>2</th>\n",
       "      <td>length_of_stay</td>\n",
       "      <td>-0.042408</td>\n",
       "    </tr>\n",
       "    <tr>\n",
       "      <th>8</th>\n",
       "      <td>flight_duration</td>\n",
       "      <td>-0.106266</td>\n",
       "    </tr>\n",
       "  </tbody>\n",
       "</table>\n",
       "</div>"
      ],
      "text/plain": [
       "                   index  booking_complete\n",
       "5    wants_extra_baggage          0.068139\n",
       "6   wants_preferred_seat          0.050116\n",
       "7  wants_in_flight_meals          0.026511\n",
       "0         num_passengers          0.024116\n",
       "3            flight_hour          0.007127\n",
       "4             flight_day         -0.006986\n",
       "1          purchase_lead         -0.022131\n",
       "2         length_of_stay         -0.042408\n",
       "8        flight_duration         -0.106266"
      ]
     },
     "execution_count": 238,
     "metadata": {},
     "output_type": "execute_result"
    }
   ],
   "source": [
    "df2.drop('const', axis=1).corr()[['booking_complete']].reset_index().sort_values(by='booking_complete', ascending=False).iloc[1::]"
   ]
  },
  {
   "cell_type": "code",
   "execution_count": 239,
   "id": "39ff9725-eb5c-44c6-b18c-4e60dff6776c",
   "metadata": {
    "execution": {
     "iopub.execute_input": "2022-11-22T06:57:02.840847Z",
     "iopub.status.busy": "2022-11-22T06:57:02.840847Z",
     "iopub.status.idle": "2022-11-22T06:57:02.889844Z",
     "shell.execute_reply": "2022-11-22T06:57:02.889844Z",
     "shell.execute_reply.started": "2022-11-22T06:57:02.840847Z"
    },
    "tags": []
   },
   "outputs": [
    {
     "data": {
      "application/vnd.plotly.v1+json": {
       "config": {
        "plotlyServerURL": "https://plot.ly"
       },
       "data": [
        {
         "alignmentgroup": "True",
         "hovertemplate": "booking_complete=%{x}<br>index=%{y}<extra></extra>",
         "legendgroup": "",
         "marker": {
          "color": "#636efa",
          "pattern": {
           "shape": ""
          }
         },
         "name": "",
         "offsetgroup": "",
         "orientation": "h",
         "showlegend": false,
         "textposition": "auto",
         "type": "bar",
         "x": [
          0.068138510056478,
          0.050115958416659744,
          0.026510810682334546,
          0.024116223907286134,
          0.0071273049785799255,
          -0.006985571167965011,
          -0.0221307364979392,
          -0.04240798189572567,
          -0.10626610443250872
         ],
         "xaxis": "x",
         "y": [
          "wants_extra_baggage",
          "wants_preferred_seat",
          "wants_in_flight_meals",
          "num_passengers",
          "flight_hour",
          "flight_day",
          "purchase_lead",
          "length_of_stay",
          "flight_duration"
         ],
         "yaxis": "y"
        }
       ],
       "layout": {
        "autosize": true,
        "barmode": "relative",
        "legend": {
         "tracegroupgap": 0
        },
        "margin": {
         "t": 60
        },
        "template": {
         "data": {
          "bar": [
           {
            "error_x": {
             "color": "#2a3f5f"
            },
            "error_y": {
             "color": "#2a3f5f"
            },
            "marker": {
             "line": {
              "color": "#E5ECF6",
              "width": 0.5
             },
             "pattern": {
              "fillmode": "overlay",
              "size": 10,
              "solidity": 0.2
             }
            },
            "type": "bar"
           }
          ],
          "barpolar": [
           {
            "marker": {
             "line": {
              "color": "#E5ECF6",
              "width": 0.5
             },
             "pattern": {
              "fillmode": "overlay",
              "size": 10,
              "solidity": 0.2
             }
            },
            "type": "barpolar"
           }
          ],
          "carpet": [
           {
            "aaxis": {
             "endlinecolor": "#2a3f5f",
             "gridcolor": "white",
             "linecolor": "white",
             "minorgridcolor": "white",
             "startlinecolor": "#2a3f5f"
            },
            "baxis": {
             "endlinecolor": "#2a3f5f",
             "gridcolor": "white",
             "linecolor": "white",
             "minorgridcolor": "white",
             "startlinecolor": "#2a3f5f"
            },
            "type": "carpet"
           }
          ],
          "choropleth": [
           {
            "colorbar": {
             "outlinewidth": 0,
             "ticks": ""
            },
            "type": "choropleth"
           }
          ],
          "contour": [
           {
            "colorbar": {
             "outlinewidth": 0,
             "ticks": ""
            },
            "colorscale": [
             [
              0,
              "#0d0887"
             ],
             [
              0.1111111111111111,
              "#46039f"
             ],
             [
              0.2222222222222222,
              "#7201a8"
             ],
             [
              0.3333333333333333,
              "#9c179e"
             ],
             [
              0.4444444444444444,
              "#bd3786"
             ],
             [
              0.5555555555555556,
              "#d8576b"
             ],
             [
              0.6666666666666666,
              "#ed7953"
             ],
             [
              0.7777777777777778,
              "#fb9f3a"
             ],
             [
              0.8888888888888888,
              "#fdca26"
             ],
             [
              1,
              "#f0f921"
             ]
            ],
            "type": "contour"
           }
          ],
          "contourcarpet": [
           {
            "colorbar": {
             "outlinewidth": 0,
             "ticks": ""
            },
            "type": "contourcarpet"
           }
          ],
          "heatmap": [
           {
            "colorbar": {
             "outlinewidth": 0,
             "ticks": ""
            },
            "colorscale": [
             [
              0,
              "#0d0887"
             ],
             [
              0.1111111111111111,
              "#46039f"
             ],
             [
              0.2222222222222222,
              "#7201a8"
             ],
             [
              0.3333333333333333,
              "#9c179e"
             ],
             [
              0.4444444444444444,
              "#bd3786"
             ],
             [
              0.5555555555555556,
              "#d8576b"
             ],
             [
              0.6666666666666666,
              "#ed7953"
             ],
             [
              0.7777777777777778,
              "#fb9f3a"
             ],
             [
              0.8888888888888888,
              "#fdca26"
             ],
             [
              1,
              "#f0f921"
             ]
            ],
            "type": "heatmap"
           }
          ],
          "heatmapgl": [
           {
            "colorbar": {
             "outlinewidth": 0,
             "ticks": ""
            },
            "colorscale": [
             [
              0,
              "#0d0887"
             ],
             [
              0.1111111111111111,
              "#46039f"
             ],
             [
              0.2222222222222222,
              "#7201a8"
             ],
             [
              0.3333333333333333,
              "#9c179e"
             ],
             [
              0.4444444444444444,
              "#bd3786"
             ],
             [
              0.5555555555555556,
              "#d8576b"
             ],
             [
              0.6666666666666666,
              "#ed7953"
             ],
             [
              0.7777777777777778,
              "#fb9f3a"
             ],
             [
              0.8888888888888888,
              "#fdca26"
             ],
             [
              1,
              "#f0f921"
             ]
            ],
            "type": "heatmapgl"
           }
          ],
          "histogram": [
           {
            "marker": {
             "pattern": {
              "fillmode": "overlay",
              "size": 10,
              "solidity": 0.2
             }
            },
            "type": "histogram"
           }
          ],
          "histogram2d": [
           {
            "colorbar": {
             "outlinewidth": 0,
             "ticks": ""
            },
            "colorscale": [
             [
              0,
              "#0d0887"
             ],
             [
              0.1111111111111111,
              "#46039f"
             ],
             [
              0.2222222222222222,
              "#7201a8"
             ],
             [
              0.3333333333333333,
              "#9c179e"
             ],
             [
              0.4444444444444444,
              "#bd3786"
             ],
             [
              0.5555555555555556,
              "#d8576b"
             ],
             [
              0.6666666666666666,
              "#ed7953"
             ],
             [
              0.7777777777777778,
              "#fb9f3a"
             ],
             [
              0.8888888888888888,
              "#fdca26"
             ],
             [
              1,
              "#f0f921"
             ]
            ],
            "type": "histogram2d"
           }
          ],
          "histogram2dcontour": [
           {
            "colorbar": {
             "outlinewidth": 0,
             "ticks": ""
            },
            "colorscale": [
             [
              0,
              "#0d0887"
             ],
             [
              0.1111111111111111,
              "#46039f"
             ],
             [
              0.2222222222222222,
              "#7201a8"
             ],
             [
              0.3333333333333333,
              "#9c179e"
             ],
             [
              0.4444444444444444,
              "#bd3786"
             ],
             [
              0.5555555555555556,
              "#d8576b"
             ],
             [
              0.6666666666666666,
              "#ed7953"
             ],
             [
              0.7777777777777778,
              "#fb9f3a"
             ],
             [
              0.8888888888888888,
              "#fdca26"
             ],
             [
              1,
              "#f0f921"
             ]
            ],
            "type": "histogram2dcontour"
           }
          ],
          "mesh3d": [
           {
            "colorbar": {
             "outlinewidth": 0,
             "ticks": ""
            },
            "type": "mesh3d"
           }
          ],
          "parcoords": [
           {
            "line": {
             "colorbar": {
              "outlinewidth": 0,
              "ticks": ""
             }
            },
            "type": "parcoords"
           }
          ],
          "pie": [
           {
            "automargin": true,
            "type": "pie"
           }
          ],
          "scatter": [
           {
            "fillpattern": {
             "fillmode": "overlay",
             "size": 10,
             "solidity": 0.2
            },
            "type": "scatter"
           }
          ],
          "scatter3d": [
           {
            "line": {
             "colorbar": {
              "outlinewidth": 0,
              "ticks": ""
             }
            },
            "marker": {
             "colorbar": {
              "outlinewidth": 0,
              "ticks": ""
             }
            },
            "type": "scatter3d"
           }
          ],
          "scattercarpet": [
           {
            "marker": {
             "colorbar": {
              "outlinewidth": 0,
              "ticks": ""
             }
            },
            "type": "scattercarpet"
           }
          ],
          "scattergeo": [
           {
            "marker": {
             "colorbar": {
              "outlinewidth": 0,
              "ticks": ""
             }
            },
            "type": "scattergeo"
           }
          ],
          "scattergl": [
           {
            "marker": {
             "colorbar": {
              "outlinewidth": 0,
              "ticks": ""
             }
            },
            "type": "scattergl"
           }
          ],
          "scattermapbox": [
           {
            "marker": {
             "colorbar": {
              "outlinewidth": 0,
              "ticks": ""
             }
            },
            "type": "scattermapbox"
           }
          ],
          "scatterpolar": [
           {
            "marker": {
             "colorbar": {
              "outlinewidth": 0,
              "ticks": ""
             }
            },
            "type": "scatterpolar"
           }
          ],
          "scatterpolargl": [
           {
            "marker": {
             "colorbar": {
              "outlinewidth": 0,
              "ticks": ""
             }
            },
            "type": "scatterpolargl"
           }
          ],
          "scatterternary": [
           {
            "marker": {
             "colorbar": {
              "outlinewidth": 0,
              "ticks": ""
             }
            },
            "type": "scatterternary"
           }
          ],
          "surface": [
           {
            "colorbar": {
             "outlinewidth": 0,
             "ticks": ""
            },
            "colorscale": [
             [
              0,
              "#0d0887"
             ],
             [
              0.1111111111111111,
              "#46039f"
             ],
             [
              0.2222222222222222,
              "#7201a8"
             ],
             [
              0.3333333333333333,
              "#9c179e"
             ],
             [
              0.4444444444444444,
              "#bd3786"
             ],
             [
              0.5555555555555556,
              "#d8576b"
             ],
             [
              0.6666666666666666,
              "#ed7953"
             ],
             [
              0.7777777777777778,
              "#fb9f3a"
             ],
             [
              0.8888888888888888,
              "#fdca26"
             ],
             [
              1,
              "#f0f921"
             ]
            ],
            "type": "surface"
           }
          ],
          "table": [
           {
            "cells": {
             "fill": {
              "color": "#EBF0F8"
             },
             "line": {
              "color": "white"
             }
            },
            "header": {
             "fill": {
              "color": "#C8D4E3"
             },
             "line": {
              "color": "white"
             }
            },
            "type": "table"
           }
          ]
         },
         "layout": {
          "annotationdefaults": {
           "arrowcolor": "#2a3f5f",
           "arrowhead": 0,
           "arrowwidth": 1
          },
          "autotypenumbers": "strict",
          "coloraxis": {
           "colorbar": {
            "outlinewidth": 0,
            "ticks": ""
           }
          },
          "colorscale": {
           "diverging": [
            [
             0,
             "#8e0152"
            ],
            [
             0.1,
             "#c51b7d"
            ],
            [
             0.2,
             "#de77ae"
            ],
            [
             0.3,
             "#f1b6da"
            ],
            [
             0.4,
             "#fde0ef"
            ],
            [
             0.5,
             "#f7f7f7"
            ],
            [
             0.6,
             "#e6f5d0"
            ],
            [
             0.7,
             "#b8e186"
            ],
            [
             0.8,
             "#7fbc41"
            ],
            [
             0.9,
             "#4d9221"
            ],
            [
             1,
             "#276419"
            ]
           ],
           "sequential": [
            [
             0,
             "#0d0887"
            ],
            [
             0.1111111111111111,
             "#46039f"
            ],
            [
             0.2222222222222222,
             "#7201a8"
            ],
            [
             0.3333333333333333,
             "#9c179e"
            ],
            [
             0.4444444444444444,
             "#bd3786"
            ],
            [
             0.5555555555555556,
             "#d8576b"
            ],
            [
             0.6666666666666666,
             "#ed7953"
            ],
            [
             0.7777777777777778,
             "#fb9f3a"
            ],
            [
             0.8888888888888888,
             "#fdca26"
            ],
            [
             1,
             "#f0f921"
            ]
           ],
           "sequentialminus": [
            [
             0,
             "#0d0887"
            ],
            [
             0.1111111111111111,
             "#46039f"
            ],
            [
             0.2222222222222222,
             "#7201a8"
            ],
            [
             0.3333333333333333,
             "#9c179e"
            ],
            [
             0.4444444444444444,
             "#bd3786"
            ],
            [
             0.5555555555555556,
             "#d8576b"
            ],
            [
             0.6666666666666666,
             "#ed7953"
            ],
            [
             0.7777777777777778,
             "#fb9f3a"
            ],
            [
             0.8888888888888888,
             "#fdca26"
            ],
            [
             1,
             "#f0f921"
            ]
           ]
          },
          "colorway": [
           "#636efa",
           "#EF553B",
           "#00cc96",
           "#ab63fa",
           "#FFA15A",
           "#19d3f3",
           "#FF6692",
           "#B6E880",
           "#FF97FF",
           "#FECB52"
          ],
          "font": {
           "color": "#2a3f5f"
          },
          "geo": {
           "bgcolor": "white",
           "lakecolor": "white",
           "landcolor": "#E5ECF6",
           "showlakes": true,
           "showland": true,
           "subunitcolor": "white"
          },
          "hoverlabel": {
           "align": "left"
          },
          "hovermode": "closest",
          "mapbox": {
           "style": "light"
          },
          "paper_bgcolor": "white",
          "plot_bgcolor": "#E5ECF6",
          "polar": {
           "angularaxis": {
            "gridcolor": "white",
            "linecolor": "white",
            "ticks": ""
           },
           "bgcolor": "#E5ECF6",
           "radialaxis": {
            "gridcolor": "white",
            "linecolor": "white",
            "ticks": ""
           }
          },
          "scene": {
           "xaxis": {
            "backgroundcolor": "#E5ECF6",
            "gridcolor": "white",
            "gridwidth": 2,
            "linecolor": "white",
            "showbackground": true,
            "ticks": "",
            "zerolinecolor": "white"
           },
           "yaxis": {
            "backgroundcolor": "#E5ECF6",
            "gridcolor": "white",
            "gridwidth": 2,
            "linecolor": "white",
            "showbackground": true,
            "ticks": "",
            "zerolinecolor": "white"
           },
           "zaxis": {
            "backgroundcolor": "#E5ECF6",
            "gridcolor": "white",
            "gridwidth": 2,
            "linecolor": "white",
            "showbackground": true,
            "ticks": "",
            "zerolinecolor": "white"
           }
          },
          "shapedefaults": {
           "line": {
            "color": "#2a3f5f"
           }
          },
          "ternary": {
           "aaxis": {
            "gridcolor": "white",
            "linecolor": "white",
            "ticks": ""
           },
           "baxis": {
            "gridcolor": "white",
            "linecolor": "white",
            "ticks": ""
           },
           "bgcolor": "#E5ECF6",
           "caxis": {
            "gridcolor": "white",
            "linecolor": "white",
            "ticks": ""
           }
          },
          "title": {
           "x": 0.05
          },
          "xaxis": {
           "automargin": true,
           "gridcolor": "white",
           "linecolor": "white",
           "ticks": "",
           "title": {
            "standoff": 15
           },
           "zerolinecolor": "white",
           "zerolinewidth": 2
          },
          "yaxis": {
           "automargin": true,
           "gridcolor": "white",
           "linecolor": "white",
           "ticks": "",
           "title": {
            "standoff": 15
           },
           "zerolinecolor": "white",
           "zerolinewidth": 2
          }
         }
        },
        "xaxis": {
         "anchor": "y",
         "autorange": true,
         "domain": [
          0,
          1
         ],
         "range": [
          -0.11595524968189688,
          0.07782765530586616
         ],
         "title": {
          "text": "booking_complete"
         },
         "type": "linear"
        },
        "yaxis": {
         "anchor": "x",
         "autorange": true,
         "domain": [
          0,
          1
         ],
         "range": [
          -0.5,
          8.5
         ],
         "title": {
          "text": "index"
         },
         "type": "category"
        }
       }
      },
      "image/png": "[encoded data removed]",
      "text/html": [
       "<div>                            <div id=\"d82a3efa-1736-427e-8822-1750d13eecd8\" class=\"plotly-graph-div\" style=\"height:525px; width:100%;\"></div>            <script type=\"text/javascript\">                require([\"plotly\"], function(Plotly) {                    window.PLOTLYENV=window.PLOTLYENV || {};                                    if (document.getElementById(\"d82a3efa-1736-427e-8822-1750d13eecd8\")) {                    Plotly.newPlot(                        \"d82a3efa-1736-427e-8822-1750d13eecd8\",                        [{\"alignmentgroup\":\"True\",\"hovertemplate\":\"booking_complete=%{x}<br>index=%{y}<extra></extra>\",\"legendgroup\":\"\",\"marker\":{\"color\":\"#636efa\",\"pattern\":{\"shape\":\"\"}},\"name\":\"\",\"offsetgroup\":\"\",\"orientation\":\"h\",\"showlegend\":false,\"textposition\":\"auto\",\"x\":[0.068138510056478,0.050115958416659744,0.026510810682334546,0.024116223907286134,0.0071273049785799255,-0.006985571167965011,-0.0221307364979392,-0.04240798189572567,-0.10626610443250872],\"xaxis\":\"x\",\"y\":[\"wants_extra_baggage\",\"wants_preferred_seat\",\"wants_in_flight_meals\",\"num_passengers\",\"flight_hour\",\"flight_day\",\"purchase_lead\",\"length_of_stay\",\"flight_duration\"],\"yaxis\":\"y\",\"type\":\"bar\"}],                        {\"template\":{\"data\":{\"histogram2dcontour\":[{\"type\":\"histogram2dcontour\",\"colorbar\":{\"outlinewidth\":0,\"ticks\":\"\"},\"colorscale\":[[0.0,\"#0d0887\"],[0.1111111111111111,\"#46039f\"],[0.2222222222222222,\"#7201a8\"],[0.3333333333333333,\"#9c179e\"],[0.4444444444444444,\"#bd3786\"],[0.5555555555555556,\"#d8576b\"],[0.6666666666666666,\"#ed7953\"],[0.7777777777777778,\"#fb9f3a\"],[0.8888888888888888,\"#fdca26\"],[1.0,\"#f0f921\"]]}],\"choropleth\":[{\"type\":\"choropleth\",\"colorbar\":{\"outlinewidth\":0,\"ticks\":\"\"}}],\"histogram2d\":[{\"type\":\"histogram2d\",\"colorbar\":{\"outlinewidth\":0,\"ticks\":\"\"},\"colorscale\":[[0.0,\"#0d0887\"],[0.1111111111111111,\"#46039f\"],[0.2222222222222222,\"#7201a8\"],[0.3333333333333333,\"#9c179e\"],[0.4444444444444444,\"#bd3786\"],[0.5555555555555556,\"#d8576b\"],[0.6666666666666666,\"#ed7953\"],[0.7777777777777778,\"#fb9f3a\"],[0.8888888888888888,\"#fdca26\"],[1.0,\"#f0f921\"]]}],\"heatmap\":[{\"type\":\"heatmap\",\"colorbar\":{\"outlinewidth\":0,\"ticks\":\"\"},\"colorscale\":[[0.0,\"#0d0887\"],[0.1111111111111111,\"#46039f\"],[0.2222222222222222,\"#7201a8\"],[0.3333333333333333,\"#9c179e\"],[0.4444444444444444,\"#bd3786\"],[0.5555555555555556,\"#d8576b\"],[0.6666666666666666,\"#ed7953\"],[0.7777777777777778,\"#fb9f3a\"],[0.8888888888888888,\"#fdca26\"],[1.0,\"#f0f921\"]]}],\"heatmapgl\":[{\"type\":\"heatmapgl\",\"colorbar\":{\"outlinewidth\":0,\"ticks\":\"\"},\"colorscale\":[[0.0,\"#0d0887\"],[0.1111111111111111,\"#46039f\"],[0.2222222222222222,\"#7201a8\"],[0.3333333333333333,\"#9c179e\"],[0.4444444444444444,\"#bd3786\"],[0.5555555555555556,\"#d8576b\"],[0.6666666666666666,\"#ed7953\"],[0.7777777777777778,\"#fb9f3a\"],[0.8888888888888888,\"#fdca26\"],[1.0,\"#f0f921\"]]}],\"contourcarpet\":[{\"type\":\"contourcarpet\",\"colorbar\":{\"outlinewidth\":0,\"ticks\":\"\"}}],\"contour\":[{\"type\":\"contour\",\"colorbar\":{\"outlinewidth\":0,\"ticks\":\"\"},\"colorscale\":[[0.0,\"#0d0887\"],[0.1111111111111111,\"#46039f\"],[0.2222222222222222,\"#7201a8\"],[0.3333333333333333,\"#9c179e\"],[0.4444444444444444,\"#bd3786\"],[0.5555555555555556,\"#d8576b\"],[0.6666666666666666,\"#ed7953\"],[0.7777777777777778,\"#fb9f3a\"],[0.8888888888888888,\"#fdca26\"],[1.0,\"#f0f921\"]]}],\"surface\":[{\"type\":\"surface\",\"colorbar\":{\"outlinewidth\":0,\"ticks\":\"\"},\"colorscale\":[[0.0,\"#0d0887\"],[0.1111111111111111,\"#46039f\"],[0.2222222222222222,\"#7201a8\"],[0.3333333333333333,\"#9c179e\"],[0.4444444444444444,\"#bd3786\"],[0.5555555555555556,\"#d8576b\"],[0.6666666666666666,\"#ed7953\"],[0.7777777777777778,\"#fb9f3a\"],[0.8888888888888888,\"#fdca26\"],[1.0,\"#f0f921\"]]}],\"mesh3d\":[{\"type\":\"mesh3d\",\"colorbar\":{\"outlinewidth\":0,\"ticks\":\"\"}}],\"scatter\":[{\"fillpattern\":{\"fillmode\":\"overlay\",\"size\":10,\"solidity\":0.2},\"type\":\"scatter\"}],\"parcoords\":[{\"type\":\"parcoords\",\"line\":{\"colorbar\":{\"outlinewidth\":0,\"ticks\":\"\"}}}],\"scatterpolargl\":[{\"type\":\"scatterpolargl\",\"marker\":{\"colorbar\":{\"outlinewidth\":0,\"ticks\":\"\"}}}],\"bar\":[{\"error_x\":{\"color\":\"#2a3f5f\"},\"error_y\":{\"color\":\"#2a3f5f\"},\"marker\":{\"line\":{\"color\":\"#E5ECF6\",\"width\":0.5},\"pattern\":{\"fillmode\":\"overlay\",\"size\":10,\"solidity\":0.2}},\"type\":\"bar\"}],\"scattergeo\":[{\"type\":\"scattergeo\",\"marker\":{\"colorbar\":{\"outlinewidth\":0,\"ticks\":\"\"}}}],\"scatterpolar\":[{\"type\":\"scatterpolar\",\"marker\":{\"colorbar\":{\"outlinewidth\":0,\"ticks\":\"\"}}}],\"histogram\":[{\"marker\":{\"pattern\":{\"fillmode\":\"overlay\",\"size\":10,\"solidity\":0.2}},\"type\":\"histogram\"}],\"scattergl\":[{\"type\":\"scattergl\",\"marker\":{\"colorbar\":{\"outlinewidth\":0,\"ticks\":\"\"}}}],\"scatter3d\":[{\"type\":\"scatter3d\",\"line\":{\"colorbar\":{\"outlinewidth\":0,\"ticks\":\"\"}},\"marker\":{\"colorbar\":{\"outlinewidth\":0,\"ticks\":\"\"}}}],\"scattermapbox\":[{\"type\":\"scattermapbox\",\"marker\":{\"colorbar\":{\"outlinewidth\":0,\"ticks\":\"\"}}}],\"scatterternary\":[{\"type\":\"scatterternary\",\"marker\":{\"colorbar\":{\"outlinewidth\":0,\"ticks\":\"\"}}}],\"scattercarpet\":[{\"type\":\"scattercarpet\",\"marker\":{\"colorbar\":{\"outlinewidth\":0,\"ticks\":\"\"}}}],\"carpet\":[{\"aaxis\":{\"endlinecolor\":\"#2a3f5f\",\"gridcolor\":\"white\",\"linecolor\":\"white\",\"minorgridcolor\":\"white\",\"startlinecolor\":\"#2a3f5f\"},\"baxis\":{\"endlinecolor\":\"#2a3f5f\",\"gridcolor\":\"white\",\"linecolor\":\"white\",\"minorgridcolor\":\"white\",\"startlinecolor\":\"#2a3f5f\"},\"type\":\"carpet\"}],\"table\":[{\"cells\":{\"fill\":{\"color\":\"#EBF0F8\"},\"line\":{\"color\":\"white\"}},\"header\":{\"fill\":{\"color\":\"#C8D4E3\"},\"line\":{\"color\":\"white\"}},\"type\":\"table\"}],\"barpolar\":[{\"marker\":{\"line\":{\"color\":\"#E5ECF6\",\"width\":0.5},\"pattern\":{\"fillmode\":\"overlay\",\"size\":10,\"solidity\":0.2}},\"type\":\"barpolar\"}],\"pie\":[{\"automargin\":true,\"type\":\"pie\"}]},\"layout\":{\"autotypenumbers\":\"strict\",\"colorway\":[\"#636efa\",\"#EF553B\",\"#00cc96\",\"#ab63fa\",\"#FFA15A\",\"#19d3f3\",\"#FF6692\",\"#B6E880\",\"#FF97FF\",\"#FECB52\"],\"font\":{\"color\":\"#2a3f5f\"},\"hovermode\":\"closest\",\"hoverlabel\":{\"align\":\"left\"},\"paper_bgcolor\":\"white\",\"plot_bgcolor\":\"#E5ECF6\",\"polar\":{\"bgcolor\":\"#E5ECF6\",\"angularaxis\":{\"gridcolor\":\"white\",\"linecolor\":\"white\",\"ticks\":\"\"},\"radialaxis\":{\"gridcolor\":\"white\",\"linecolor\":\"white\",\"ticks\":\"\"}},\"ternary\":{\"bgcolor\":\"#E5ECF6\",\"aaxis\":{\"gridcolor\":\"white\",\"linecolor\":\"white\",\"ticks\":\"\"},\"baxis\":{\"gridcolor\":\"white\",\"linecolor\":\"white\",\"ticks\":\"\"},\"caxis\":{\"gridcolor\":\"white\",\"linecolor\":\"white\",\"ticks\":\"\"}},\"coloraxis\":{\"colorbar\":{\"outlinewidth\":0,\"ticks\":\"\"}},\"colorscale\":{\"sequential\":[[0.0,\"#0d0887\"],[0.1111111111111111,\"#46039f\"],[0.2222222222222222,\"#7201a8\"],[0.3333333333333333,\"#9c179e\"],[0.4444444444444444,\"#bd3786\"],[0.5555555555555556,\"#d8576b\"],[0.6666666666666666,\"#ed7953\"],[0.7777777777777778,\"#fb9f3a\"],[0.8888888888888888,\"#fdca26\"],[1.0,\"#f0f921\"]],\"sequentialminus\":[[0.0,\"#0d0887\"],[0.1111111111111111,\"#46039f\"],[0.2222222222222222,\"#7201a8\"],[0.3333333333333333,\"#9c179e\"],[0.4444444444444444,\"#bd3786\"],[0.5555555555555556,\"#d8576b\"],[0.6666666666666666,\"#ed7953\"],[0.7777777777777778,\"#fb9f3a\"],[0.8888888888888888,\"#fdca26\"],[1.0,\"#f0f921\"]],\"diverging\":[[0,\"#8e0152\"],[0.1,\"#c51b7d\"],[0.2,\"#de77ae\"],[0.3,\"#f1b6da\"],[0.4,\"#fde0ef\"],[0.5,\"#f7f7f7\"],[0.6,\"#e6f5d0\"],[0.7,\"#b8e186\"],[0.8,\"#7fbc41\"],[0.9,\"#4d9221\"],[1,\"#276419\"]]},\"xaxis\":{\"gridcolor\":\"white\",\"linecolor\":\"white\",\"ticks\":\"\",\"title\":{\"standoff\":15},\"zerolinecolor\":\"white\",\"automargin\":true,\"zerolinewidth\":2},\"yaxis\":{\"gridcolor\":\"white\",\"linecolor\":\"white\",\"ticks\":\"\",\"title\":{\"standoff\":15},\"zerolinecolor\":\"white\",\"automargin\":true,\"zerolinewidth\":2},\"scene\":{\"xaxis\":{\"backgroundcolor\":\"#E5ECF6\",\"gridcolor\":\"white\",\"linecolor\":\"white\",\"showbackground\":true,\"ticks\":\"\",\"zerolinecolor\":\"white\",\"gridwidth\":2},\"yaxis\":{\"backgroundcolor\":\"#E5ECF6\",\"gridcolor\":\"white\",\"linecolor\":\"white\",\"showbackground\":true,\"ticks\":\"\",\"zerolinecolor\":\"white\",\"gridwidth\":2},\"zaxis\":{\"backgroundcolor\":\"#E5ECF6\",\"gridcolor\":\"white\",\"linecolor\":\"white\",\"showbackground\":true,\"ticks\":\"\",\"zerolinecolor\":\"white\",\"gridwidth\":2}},\"shapedefaults\":{\"line\":{\"color\":\"#2a3f5f\"}},\"annotationdefaults\":{\"arrowcolor\":\"#2a3f5f\",\"arrowhead\":0,\"arrowwidth\":1},\"geo\":{\"bgcolor\":\"white\",\"landcolor\":\"#E5ECF6\",\"subunitcolor\":\"white\",\"showland\":true,\"showlakes\":true,\"lakecolor\":\"white\"},\"title\":{\"x\":0.05},\"mapbox\":{\"style\":\"light\"}}},\"xaxis\":{\"anchor\":\"y\",\"domain\":[0.0,1.0],\"title\":{\"text\":\"booking_complete\"}},\"yaxis\":{\"anchor\":\"x\",\"domain\":[0.0,1.0],\"title\":{\"text\":\"index\"}},\"legend\":{\"tracegroupgap\":0},\"margin\":{\"t\":60},\"barmode\":\"relative\"},                        {\"responsive\": true}                    ).then(function(){\n",
       "                            \n",
       "var gd = document.getElementById('d82a3efa-1736-427e-8822-1750d13eecd8');\n",
       "var x = new MutationObserver(function (mutations, observer) {{\n",
       "        var display = window.getComputedStyle(gd).display;\n",
       "        if (!display || display === 'none') {{\n",
       "            console.log([gd, 'removed!']);\n",
       "            Plotly.purge(gd);\n",
       "            observer.disconnect();\n",
       "        }}\n",
       "}});\n",
       "\n",
       "// Listen for the removal of the full notebook cells\n",
       "var notebookContainer = gd.closest('#notebook-container');\n",
       "if (notebookContainer) {{\n",
       "    x.observe(notebookContainer, {childList: true});\n",
       "}}\n",
       "\n",
       "// Listen for the clearing of the current output cell\n",
       "var outputEl = gd.closest('.output');\n",
       "if (outputEl) {{\n",
       "    x.observe(outputEl, {childList: true});\n",
       "}}\n",
       "\n",
       "                        })                };                });            </script>        </div>"
      ]
     },
     "metadata": {},
     "output_type": "display_data"
    }
   ],
   "source": [
    "px.bar(data_frame=df2.drop('const', axis=1).corr()[['booking_complete']].reset_index().sort_values(by='booking_complete', ascending=False).iloc[1::], \n",
    "       y='index',\n",
    "       x='booking_complete', orientation='h')"
   ]
  },
  {
   "cell_type": "code",
   "execution_count": null,
   "id": "4a41643b-2388-42c8-a342-c252950b5f6d",
   "metadata": {},
   "outputs": [],
   "source": []
  }
 ],
 "metadata": {
  "kernelspec": {
   "display_name": "Python 3 (ipykernel)",
   "language": "python",
   "name": "python3"
  },
  "language_info": {
   "codemirror_mode": {
    "name": "ipython",
    "version": 3
   },
   "file_extension": ".py",
   "mimetype": "text/x-python",
   "name": "python",
   "nbconvert_exporter": "python",
   "pygments_lexer": "ipython3",
   "version": "3.10.4"
  }
 },
 "nbformat": 4,
 "nbformat_minor": 5
}
